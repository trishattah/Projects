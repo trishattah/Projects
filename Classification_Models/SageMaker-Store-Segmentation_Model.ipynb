{
 "cells": [
  {
   "cell_type": "markdown",
   "id": "e87e6cf3",
   "metadata": {},
   "source": [
    "## Store segmentation by Product Sales Using Amazon SageMaker\n",
    "\n",
    "A chain of convenience stores have a variety of products that sell at varying quantities throughout the country. Some of the products sales are perpetually low and need to be removed while some genre of products may sell better in certain locations. Store managers would like to have an idea of which stores to place new products that have not been sold before in locations that sales would perform well. Here is where store segmentation comes in. This study would classify products by overall category and cluster the stores that are more likely to sell certain categories better this would give store managers information on what new products can be sold at their stores that would perform well. <br>\n",
    "\n",
    "Methods include:\n",
    "1. PCA for dimension reduction \n",
    "2. Kmeans for clustering by unsupervised learning <br>\n",
    "\n",
    "Workflow steps:\n",
    "1. Loading the data from Amazon S3\n",
    "2. Exploratory data analysis (EDA) - Data cleaning and exploration\n",
    "3. Data modelling\n",
    "4. Drawing conclusions from our modelling"
   ]
  },
  {
   "cell_type": "code",
   "execution_count": 59,
   "id": "c369c40c",
   "metadata": {},
   "outputs": [],
   "source": [
    "# Install dependencies\n",
    "import sys\n",
    "\n",
    "#!{sys.executable} -m pip install smdebug\n",
    "#!{sys.executable} -m pip install seaborn\n",
    "#!{sys.executable} -m pip install plotly\n",
    "#!{sys.executable} -m pip install opencv-python\n",
    "#!{sys.executable} -m pip install shap\n",
    "#!{sys.executable} -m pip install bokeh\n",
    "#!{sys.executable} -m pip install imageio"
   ]
  },
  {
   "cell_type": "code",
   "execution_count": 2,
   "id": "05c5d78c",
   "metadata": {},
   "outputs": [],
   "source": [
    "#pip install mxnet"
   ]
  },
  {
   "cell_type": "markdown",
   "id": "086caa53",
   "metadata": {},
   "source": [
    "## Step 1: Loading the data from Amazon S3"
   ]
  },
  {
   "cell_type": "code",
   "execution_count": 3,
   "id": "7e3ebec8",
   "metadata": {},
   "outputs": [],
   "source": [
    "import os\n",
    "import boto3\n",
    "import io\n",
    "import sagemaker\n",
    "\n",
    "%matplotlib inline\n",
    "\n",
    "import pandas as pd\n",
    "import numpy as np\n",
    "import mxnet as mx\n",
    "import matplotlib.pyplot as plt\n",
    "import matplotlib\n",
    "import seaborn as sns\n",
    "\n",
    "matplotlib.style.use(\"ggplot\")\n",
    "import pickle, gzip, urllib, json\n",
    "import csv"
   ]
  },
  {
   "cell_type": "code",
   "execution_count": 4,
   "id": "eb331113",
   "metadata": {},
   "outputs": [],
   "source": [
    "from sagemaker import get_execution_role\n",
    "\n",
    "role = get_execution_role()"
   ]
  },
  {
   "cell_type": "code",
   "execution_count": 5,
   "id": "f550a35e",
   "metadata": {},
   "outputs": [
    {
     "data": {
      "text/plain": [
       "'arn:aws:iam::837860013848:role/service-role/AmazonSageMaker-ExecutionRole-20220319T102415'"
      ]
     },
     "execution_count": 5,
     "metadata": {},
     "output_type": "execute_result"
    }
   ],
   "source": [
    "role"
   ]
  },
  {
   "cell_type": "code",
   "execution_count": 6,
   "id": "0e2e1a2a",
   "metadata": {},
   "outputs": [],
   "source": [
    "s3_client = boto3.client(\"s3\")\n",
    "data_bucket_name = \"aws-ml-blog-sagemaker-store-segmentation\""
   ]
  },
  {
   "cell_type": "code",
   "execution_count": 7,
   "id": "056d16eb",
   "metadata": {},
   "outputs": [
    {
     "name": "stdout",
     "output_type": "stream",
     "text": [
      "['store_sales.csv']\n"
     ]
    }
   ],
   "source": [
    "obj_list = s3_client.list_objects(Bucket=data_bucket_name)\n",
    "file = []\n",
    "for contents in obj_list[\"Contents\"]:\n",
    "    file.append(contents[\"Key\"])\n",
    "print(file)"
   ]
  },
  {
   "cell_type": "code",
   "execution_count": 8,
   "id": "99b780c5",
   "metadata": {},
   "outputs": [],
   "source": [
    "file_data = file[0]"
   ]
  },
  {
   "cell_type": "code",
   "execution_count": 9,
   "id": "65326c4a",
   "metadata": {},
   "outputs": [],
   "source": [
    "response = s3_client.get_object(Bucket=data_bucket_name, Key=file_data)\n",
    "response_body = response[\"Body\"].read()\n",
    "stores = pd.read_csv(io.BytesIO(response_body), header=0, delimiter=\",\", low_memory=False)"
   ]
  },
  {
   "cell_type": "code",
   "execution_count": 10,
   "id": "387e0e89",
   "metadata": {},
   "outputs": [
    {
     "data": {
      "text/html": [
       "<div>\n",
       "<style scoped>\n",
       "    .dataframe tbody tr th:only-of-type {\n",
       "        vertical-align: middle;\n",
       "    }\n",
       "\n",
       "    .dataframe tbody tr th {\n",
       "        vertical-align: top;\n",
       "    }\n",
       "\n",
       "    .dataframe thead th {\n",
       "        text-align: right;\n",
       "    }\n",
       "</style>\n",
       "<table border=\"1\" class=\"dataframe\">\n",
       "  <thead>\n",
       "    <tr style=\"text-align: right;\">\n",
       "      <th></th>\n",
       "      <th>store_num</th>\n",
       "      <th>10.Alcoholic Beverages</th>\n",
       "      <th>12.Cigarettes</th>\n",
       "      <th>13.Cold Dispensed Bevs</th>\n",
       "      <th>14.Confectionery</th>\n",
       "      <th>15.Dairy</th>\n",
       "      <th>17.Food Service</th>\n",
       "      <th>18.Frozen Food</th>\n",
       "      <th>19.Frozen Treats</th>\n",
       "      <th>20.Non-Foods</th>\n",
       "      <th>21.Packaged Foods</th>\n",
       "      <th>22.Health &amp; Beauty Care</th>\n",
       "      <th>23.Hot Beverages</th>\n",
       "      <th>24.Non-Alcoholic Beverages</th>\n",
       "      <th>29.Refrigerated Food Products</th>\n",
       "      <th>30.Snacks</th>\n",
       "      <th>32.Tobacco</th>\n",
       "    </tr>\n",
       "  </thead>\n",
       "  <tbody>\n",
       "    <tr>\n",
       "      <th>0</th>\n",
       "      <td>35694</td>\n",
       "      <td>1741</td>\n",
       "      <td>1999</td>\n",
       "      <td>1136</td>\n",
       "      <td>2460</td>\n",
       "      <td>378</td>\n",
       "      <td>5784</td>\n",
       "      <td>107</td>\n",
       "      <td>243</td>\n",
       "      <td>131</td>\n",
       "      <td>241</td>\n",
       "      <td>332</td>\n",
       "      <td>463</td>\n",
       "      <td>7326</td>\n",
       "      <td>111</td>\n",
       "      <td>2847</td>\n",
       "      <td>1736</td>\n",
       "    </tr>\n",
       "    <tr>\n",
       "      <th>1</th>\n",
       "      <td>35351</td>\n",
       "      <td>650</td>\n",
       "      <td>5054</td>\n",
       "      <td>1773</td>\n",
       "      <td>3363</td>\n",
       "      <td>950</td>\n",
       "      <td>9420</td>\n",
       "      <td>120</td>\n",
       "      <td>399</td>\n",
       "      <td>290</td>\n",
       "      <td>484</td>\n",
       "      <td>701</td>\n",
       "      <td>1250</td>\n",
       "      <td>10971</td>\n",
       "      <td>191</td>\n",
       "      <td>4322</td>\n",
       "      <td>2766</td>\n",
       "    </tr>\n",
       "    <tr>\n",
       "      <th>2</th>\n",
       "      <td>37297</td>\n",
       "      <td>1760</td>\n",
       "      <td>3641</td>\n",
       "      <td>1429</td>\n",
       "      <td>1829</td>\n",
       "      <td>485</td>\n",
       "      <td>6321</td>\n",
       "      <td>223</td>\n",
       "      <td>231</td>\n",
       "      <td>146</td>\n",
       "      <td>165</td>\n",
       "      <td>487</td>\n",
       "      <td>1213</td>\n",
       "      <td>8583</td>\n",
       "      <td>190</td>\n",
       "      <td>2641</td>\n",
       "      <td>2488</td>\n",
       "    </tr>\n",
       "    <tr>\n",
       "      <th>3</th>\n",
       "      <td>32648</td>\n",
       "      <td>1507</td>\n",
       "      <td>2926</td>\n",
       "      <td>886</td>\n",
       "      <td>1195</td>\n",
       "      <td>404</td>\n",
       "      <td>6060</td>\n",
       "      <td>182</td>\n",
       "      <td>373</td>\n",
       "      <td>173</td>\n",
       "      <td>156</td>\n",
       "      <td>306</td>\n",
       "      <td>939</td>\n",
       "      <td>5837</td>\n",
       "      <td>109</td>\n",
       "      <td>1637</td>\n",
       "      <td>1792</td>\n",
       "    </tr>\n",
       "    <tr>\n",
       "      <th>4</th>\n",
       "      <td>34197</td>\n",
       "      <td>3535</td>\n",
       "      <td>2839</td>\n",
       "      <td>1020</td>\n",
       "      <td>1679</td>\n",
       "      <td>259</td>\n",
       "      <td>4785</td>\n",
       "      <td>107</td>\n",
       "      <td>396</td>\n",
       "      <td>256</td>\n",
       "      <td>382</td>\n",
       "      <td>723</td>\n",
       "      <td>1116</td>\n",
       "      <td>7696</td>\n",
       "      <td>162</td>\n",
       "      <td>2901</td>\n",
       "      <td>3021</td>\n",
       "    </tr>\n",
       "  </tbody>\n",
       "</table>\n",
       "</div>"
      ],
      "text/plain": [
       "   store_num  10.Alcoholic Beverages  12.Cigarettes  13.Cold Dispensed Bevs  \\\n",
       "0      35694                    1741           1999                    1136   \n",
       "1      35351                     650           5054                    1773   \n",
       "2      37297                    1760           3641                    1429   \n",
       "3      32648                    1507           2926                     886   \n",
       "4      34197                    3535           2839                    1020   \n",
       "\n",
       "   14.Confectionery  15.Dairy  17.Food Service  18.Frozen Food  \\\n",
       "0              2460       378             5784             107   \n",
       "1              3363       950             9420             120   \n",
       "2              1829       485             6321             223   \n",
       "3              1195       404             6060             182   \n",
       "4              1679       259             4785             107   \n",
       "\n",
       "   19.Frozen Treats  20.Non-Foods  21.Packaged Foods  22.Health & Beauty Care  \\\n",
       "0               243           131                241                      332   \n",
       "1               399           290                484                      701   \n",
       "2               231           146                165                      487   \n",
       "3               373           173                156                      306   \n",
       "4               396           256                382                      723   \n",
       "\n",
       "   23.Hot Beverages  24.Non-Alcoholic Beverages  \\\n",
       "0               463                        7326   \n",
       "1              1250                       10971   \n",
       "2              1213                        8583   \n",
       "3               939                        5837   \n",
       "4              1116                        7696   \n",
       "\n",
       "   29.Refrigerated Food Products  30.Snacks  32.Tobacco  \n",
       "0                            111       2847        1736  \n",
       "1                            191       4322        2766  \n",
       "2                            190       2641        2488  \n",
       "3                            109       1637        1792  \n",
       "4                            162       2901        3021  "
      ]
     },
     "execution_count": 10,
     "metadata": {},
     "output_type": "execute_result"
    }
   ],
   "source": [
    "stores.head()"
   ]
  },
  {
   "cell_type": "markdown",
   "id": "c18af7e9",
   "metadata": {},
   "source": [
    "## Step 2: Exploratory data analysis EDA - Data cleaning and exploration"
   ]
  },
  {
   "cell_type": "code",
   "execution_count": 11,
   "id": "93a3911b",
   "metadata": {},
   "outputs": [
    {
     "data": {
      "text/plain": [
       "(232, 17)"
      ]
     },
     "execution_count": 11,
     "metadata": {},
     "output_type": "execute_result"
    }
   ],
   "source": [
    "stores.shape"
   ]
  },
  {
   "cell_type": "code",
   "execution_count": 12,
   "id": "7bdb6288",
   "metadata": {},
   "outputs": [
    {
     "data": {
      "text/plain": [
       "(232, 17)"
      ]
     },
     "execution_count": 12,
     "metadata": {},
     "output_type": "execute_result"
    }
   ],
   "source": [
    "# dropping all rows with nan as values\n",
    "stores.dropna(inplace=True)\n",
    "stores.shape"
   ]
  },
  {
   "cell_type": "code",
   "execution_count": 13,
   "id": "d13a2317",
   "metadata": {},
   "outputs": [],
   "source": [
    "stores.index = stores[\"store_num\"]\n",
    "stores.head()\n",
    "drop = [\"store_num\"]"
   ]
  },
  {
   "cell_type": "code",
   "execution_count": 14,
   "id": "46bbc9d0",
   "metadata": {},
   "outputs": [
    {
     "data": {
      "text/html": [
       "<div>\n",
       "<style scoped>\n",
       "    .dataframe tbody tr th:only-of-type {\n",
       "        vertical-align: middle;\n",
       "    }\n",
       "\n",
       "    .dataframe tbody tr th {\n",
       "        vertical-align: top;\n",
       "    }\n",
       "\n",
       "    .dataframe thead th {\n",
       "        text-align: right;\n",
       "    }\n",
       "</style>\n",
       "<table border=\"1\" class=\"dataframe\">\n",
       "  <thead>\n",
       "    <tr style=\"text-align: right;\">\n",
       "      <th></th>\n",
       "      <th>store_num</th>\n",
       "      <th>10.Alcoholic Beverages</th>\n",
       "      <th>12.Cigarettes</th>\n",
       "      <th>13.Cold Dispensed Bevs</th>\n",
       "      <th>14.Confectionery</th>\n",
       "      <th>15.Dairy</th>\n",
       "      <th>17.Food Service</th>\n",
       "      <th>18.Frozen Food</th>\n",
       "      <th>19.Frozen Treats</th>\n",
       "      <th>20.Non-Foods</th>\n",
       "      <th>21.Packaged Foods</th>\n",
       "      <th>22.Health &amp; Beauty Care</th>\n",
       "      <th>23.Hot Beverages</th>\n",
       "      <th>24.Non-Alcoholic Beverages</th>\n",
       "      <th>29.Refrigerated Food Products</th>\n",
       "      <th>30.Snacks</th>\n",
       "      <th>32.Tobacco</th>\n",
       "    </tr>\n",
       "    <tr>\n",
       "      <th>store_num</th>\n",
       "      <th></th>\n",
       "      <th></th>\n",
       "      <th></th>\n",
       "      <th></th>\n",
       "      <th></th>\n",
       "      <th></th>\n",
       "      <th></th>\n",
       "      <th></th>\n",
       "      <th></th>\n",
       "      <th></th>\n",
       "      <th></th>\n",
       "      <th></th>\n",
       "      <th></th>\n",
       "      <th></th>\n",
       "      <th></th>\n",
       "      <th></th>\n",
       "      <th></th>\n",
       "    </tr>\n",
       "  </thead>\n",
       "  <tbody>\n",
       "    <tr>\n",
       "      <th>35694</th>\n",
       "      <td>35694</td>\n",
       "      <td>1741</td>\n",
       "      <td>1999</td>\n",
       "      <td>1136</td>\n",
       "      <td>2460</td>\n",
       "      <td>378</td>\n",
       "      <td>5784</td>\n",
       "      <td>107</td>\n",
       "      <td>243</td>\n",
       "      <td>131</td>\n",
       "      <td>241</td>\n",
       "      <td>332</td>\n",
       "      <td>463</td>\n",
       "      <td>7326</td>\n",
       "      <td>111</td>\n",
       "      <td>2847</td>\n",
       "      <td>1736</td>\n",
       "    </tr>\n",
       "    <tr>\n",
       "      <th>35351</th>\n",
       "      <td>35351</td>\n",
       "      <td>650</td>\n",
       "      <td>5054</td>\n",
       "      <td>1773</td>\n",
       "      <td>3363</td>\n",
       "      <td>950</td>\n",
       "      <td>9420</td>\n",
       "      <td>120</td>\n",
       "      <td>399</td>\n",
       "      <td>290</td>\n",
       "      <td>484</td>\n",
       "      <td>701</td>\n",
       "      <td>1250</td>\n",
       "      <td>10971</td>\n",
       "      <td>191</td>\n",
       "      <td>4322</td>\n",
       "      <td>2766</td>\n",
       "    </tr>\n",
       "    <tr>\n",
       "      <th>37297</th>\n",
       "      <td>37297</td>\n",
       "      <td>1760</td>\n",
       "      <td>3641</td>\n",
       "      <td>1429</td>\n",
       "      <td>1829</td>\n",
       "      <td>485</td>\n",
       "      <td>6321</td>\n",
       "      <td>223</td>\n",
       "      <td>231</td>\n",
       "      <td>146</td>\n",
       "      <td>165</td>\n",
       "      <td>487</td>\n",
       "      <td>1213</td>\n",
       "      <td>8583</td>\n",
       "      <td>190</td>\n",
       "      <td>2641</td>\n",
       "      <td>2488</td>\n",
       "    </tr>\n",
       "    <tr>\n",
       "      <th>32648</th>\n",
       "      <td>32648</td>\n",
       "      <td>1507</td>\n",
       "      <td>2926</td>\n",
       "      <td>886</td>\n",
       "      <td>1195</td>\n",
       "      <td>404</td>\n",
       "      <td>6060</td>\n",
       "      <td>182</td>\n",
       "      <td>373</td>\n",
       "      <td>173</td>\n",
       "      <td>156</td>\n",
       "      <td>306</td>\n",
       "      <td>939</td>\n",
       "      <td>5837</td>\n",
       "      <td>109</td>\n",
       "      <td>1637</td>\n",
       "      <td>1792</td>\n",
       "    </tr>\n",
       "    <tr>\n",
       "      <th>34197</th>\n",
       "      <td>34197</td>\n",
       "      <td>3535</td>\n",
       "      <td>2839</td>\n",
       "      <td>1020</td>\n",
       "      <td>1679</td>\n",
       "      <td>259</td>\n",
       "      <td>4785</td>\n",
       "      <td>107</td>\n",
       "      <td>396</td>\n",
       "      <td>256</td>\n",
       "      <td>382</td>\n",
       "      <td>723</td>\n",
       "      <td>1116</td>\n",
       "      <td>7696</td>\n",
       "      <td>162</td>\n",
       "      <td>2901</td>\n",
       "      <td>3021</td>\n",
       "    </tr>\n",
       "  </tbody>\n",
       "</table>\n",
       "</div>"
      ],
      "text/plain": [
       "           store_num  10.Alcoholic Beverages  12.Cigarettes  \\\n",
       "store_num                                                     \n",
       "35694          35694                    1741           1999   \n",
       "35351          35351                     650           5054   \n",
       "37297          37297                    1760           3641   \n",
       "32648          32648                    1507           2926   \n",
       "34197          34197                    3535           2839   \n",
       "\n",
       "           13.Cold Dispensed Bevs  14.Confectionery  15.Dairy  \\\n",
       "store_num                                                       \n",
       "35694                        1136              2460       378   \n",
       "35351                        1773              3363       950   \n",
       "37297                        1429              1829       485   \n",
       "32648                         886              1195       404   \n",
       "34197                        1020              1679       259   \n",
       "\n",
       "           17.Food Service  18.Frozen Food  19.Frozen Treats  20.Non-Foods  \\\n",
       "store_num                                                                    \n",
       "35694                 5784             107               243           131   \n",
       "35351                 9420             120               399           290   \n",
       "37297                 6321             223               231           146   \n",
       "32648                 6060             182               373           173   \n",
       "34197                 4785             107               396           256   \n",
       "\n",
       "           21.Packaged Foods  22.Health & Beauty Care  23.Hot Beverages  \\\n",
       "store_num                                                                 \n",
       "35694                    241                      332               463   \n",
       "35351                    484                      701              1250   \n",
       "37297                    165                      487              1213   \n",
       "32648                    156                      306               939   \n",
       "34197                    382                      723              1116   \n",
       "\n",
       "           24.Non-Alcoholic Beverages  29.Refrigerated Food Products  \\\n",
       "store_num                                                              \n",
       "35694                            7326                            111   \n",
       "35351                           10971                            191   \n",
       "37297                            8583                            190   \n",
       "32648                            5837                            109   \n",
       "34197                            7696                            162   \n",
       "\n",
       "           30.Snacks  32.Tobacco  \n",
       "store_num                         \n",
       "35694           2847        1736  \n",
       "35351           4322        2766  \n",
       "37297           2641        2488  \n",
       "32648           1637        1792  \n",
       "34197           2901        3021  "
      ]
     },
     "execution_count": 14,
     "metadata": {},
     "output_type": "execute_result"
    }
   ],
   "source": [
    "stores.head()"
   ]
  },
  {
   "cell_type": "code",
   "execution_count": 16,
   "id": "351d6bca",
   "metadata": {},
   "outputs": [
    {
     "data": {
      "image/png": "[encoded data removed]",
      "text/plain": [
       "<Figure size 360x360 with 1 Axes>"
      ]
     },
     "metadata": {},
     "output_type": "display_data"
    },
    {
     "data": {
      "image/png": "[encoded data removed]",
      "text/plain": [
       "<Figure size 360x360 with 1 Axes>"
      ]
     },
     "metadata": {},
     "output_type": "display_data"
    },
    {
     "data": {
      "image/png": "[encoded data removed]",
      "text/plain": [
       "<Figure size 360x360 with 1 Axes>"
      ]
     },
     "metadata": {},
     "output_type": "display_data"
    }
   ],
   "source": [
    "import seaborn as sns\n",
    "\n",
    "for a in [\"10.Alcoholic Beverages\", \"12.Cigarettes\", \"13.Cold Dispensed Bevs\"]:\n",
    "    #ax = plt.subplots(figsize=(6, 3))\n",
    "    ax = sns.displot(stores[a])\n",
    "    title = \"Histogram of \" + a\n",
    "    #ax.set_title(title, fontsize=12)\n",
    "    plt.show()"
   ]
  },
  {
   "cell_type": "markdown",
   "id": "16dd657e",
   "metadata": {},
   "source": [
    "Data Scaling- We need to standardize the scaling of the numerical columns in order to use any distance based analytical methods so that we can compare the relative distances between different feature columns. We can use minmaxscaler to transform the numerical columns so that they also fall between 0 and 1."
   ]
  },
  {
   "cell_type": "code",
   "execution_count": 17,
   "id": "89d2562e",
   "metadata": {},
   "outputs": [],
   "source": [
    "from sklearn.preprocessing import MinMaxScaler\n",
    "\n",
    "scaler = MinMaxScaler()\n",
    "stores_scaled = pd.DataFrame(scaler.fit_transform(stores))\n",
    "stores_scaled.columns = stores.columns\n",
    "stores_scaled.index = stores.index"
   ]
  },
  {
   "cell_type": "code",
   "execution_count": 18,
   "id": "f2e28c33",
   "metadata": {},
   "outputs": [
    {
     "data": {
      "text/html": [
       "<div>\n",
       "<style scoped>\n",
       "    .dataframe tbody tr th:only-of-type {\n",
       "        vertical-align: middle;\n",
       "    }\n",
       "\n",
       "    .dataframe tbody tr th {\n",
       "        vertical-align: top;\n",
       "    }\n",
       "\n",
       "    .dataframe thead th {\n",
       "        text-align: right;\n",
       "    }\n",
       "</style>\n",
       "<table border=\"1\" class=\"dataframe\">\n",
       "  <thead>\n",
       "    <tr style=\"text-align: right;\">\n",
       "      <th></th>\n",
       "      <th>store_num</th>\n",
       "      <th>10.Alcoholic Beverages</th>\n",
       "      <th>12.Cigarettes</th>\n",
       "      <th>13.Cold Dispensed Bevs</th>\n",
       "      <th>14.Confectionery</th>\n",
       "      <th>15.Dairy</th>\n",
       "      <th>17.Food Service</th>\n",
       "      <th>18.Frozen Food</th>\n",
       "      <th>19.Frozen Treats</th>\n",
       "      <th>20.Non-Foods</th>\n",
       "      <th>21.Packaged Foods</th>\n",
       "      <th>22.Health &amp; Beauty Care</th>\n",
       "      <th>23.Hot Beverages</th>\n",
       "      <th>24.Non-Alcoholic Beverages</th>\n",
       "      <th>29.Refrigerated Food Products</th>\n",
       "      <th>30.Snacks</th>\n",
       "      <th>32.Tobacco</th>\n",
       "    </tr>\n",
       "  </thead>\n",
       "  <tbody>\n",
       "    <tr>\n",
       "      <th>count</th>\n",
       "      <td>232.000000</td>\n",
       "      <td>232.000000</td>\n",
       "      <td>232.000000</td>\n",
       "      <td>232.000000</td>\n",
       "      <td>232.000000</td>\n",
       "      <td>232.000000</td>\n",
       "      <td>232.000000</td>\n",
       "      <td>232.000000</td>\n",
       "      <td>232.000000</td>\n",
       "      <td>232.000000</td>\n",
       "      <td>232.000000</td>\n",
       "      <td>232.000000</td>\n",
       "      <td>232.000000</td>\n",
       "      <td>232.000000</td>\n",
       "      <td>232.000000</td>\n",
       "      <td>232.000000</td>\n",
       "      <td>232.000000</td>\n",
       "    </tr>\n",
       "    <tr>\n",
       "      <th>mean</th>\n",
       "      <td>0.808854</td>\n",
       "      <td>0.385035</td>\n",
       "      <td>0.385937</td>\n",
       "      <td>0.285942</td>\n",
       "      <td>0.412458</td>\n",
       "      <td>0.386437</td>\n",
       "      <td>0.258870</td>\n",
       "      <td>0.256036</td>\n",
       "      <td>0.293561</td>\n",
       "      <td>0.193876</td>\n",
       "      <td>0.223592</td>\n",
       "      <td>0.208558</td>\n",
       "      <td>0.210181</td>\n",
       "      <td>0.402932</td>\n",
       "      <td>0.322696</td>\n",
       "      <td>0.424364</td>\n",
       "      <td>0.241286</td>\n",
       "    </tr>\n",
       "    <tr>\n",
       "      <th>std</th>\n",
       "      <td>0.147407</td>\n",
       "      <td>0.193797</td>\n",
       "      <td>0.181344</td>\n",
       "      <td>0.165629</td>\n",
       "      <td>0.193722</td>\n",
       "      <td>0.185131</td>\n",
       "      <td>0.173089</td>\n",
       "      <td>0.164114</td>\n",
       "      <td>0.173431</td>\n",
       "      <td>0.130485</td>\n",
       "      <td>0.140960</td>\n",
       "      <td>0.113513</td>\n",
       "      <td>0.153008</td>\n",
       "      <td>0.198742</td>\n",
       "      <td>0.179287</td>\n",
       "      <td>0.191432</td>\n",
       "      <td>0.137995</td>\n",
       "    </tr>\n",
       "    <tr>\n",
       "      <th>min</th>\n",
       "      <td>0.000000</td>\n",
       "      <td>0.000000</td>\n",
       "      <td>0.000000</td>\n",
       "      <td>0.000000</td>\n",
       "      <td>0.000000</td>\n",
       "      <td>0.000000</td>\n",
       "      <td>0.000000</td>\n",
       "      <td>0.000000</td>\n",
       "      <td>0.000000</td>\n",
       "      <td>0.000000</td>\n",
       "      <td>0.000000</td>\n",
       "      <td>0.000000</td>\n",
       "      <td>0.000000</td>\n",
       "      <td>0.000000</td>\n",
       "      <td>0.000000</td>\n",
       "      <td>0.000000</td>\n",
       "      <td>0.000000</td>\n",
       "    </tr>\n",
       "    <tr>\n",
       "      <th>25%</th>\n",
       "      <td>0.770584</td>\n",
       "      <td>0.254434</td>\n",
       "      <td>0.250547</td>\n",
       "      <td>0.161550</td>\n",
       "      <td>0.263452</td>\n",
       "      <td>0.246313</td>\n",
       "      <td>0.137018</td>\n",
       "      <td>0.147742</td>\n",
       "      <td>0.167347</td>\n",
       "      <td>0.112461</td>\n",
       "      <td>0.131332</td>\n",
       "      <td>0.141034</td>\n",
       "      <td>0.103925</td>\n",
       "      <td>0.256169</td>\n",
       "      <td>0.194712</td>\n",
       "      <td>0.301774</td>\n",
       "      <td>0.150832</td>\n",
       "    </tr>\n",
       "    <tr>\n",
       "      <th>50%</th>\n",
       "      <td>0.797427</td>\n",
       "      <td>0.370270</td>\n",
       "      <td>0.370854</td>\n",
       "      <td>0.252593</td>\n",
       "      <td>0.406860</td>\n",
       "      <td>0.350691</td>\n",
       "      <td>0.218826</td>\n",
       "      <td>0.227729</td>\n",
       "      <td>0.264286</td>\n",
       "      <td>0.168563</td>\n",
       "      <td>0.188555</td>\n",
       "      <td>0.193682</td>\n",
       "      <td>0.176902</td>\n",
       "      <td>0.383112</td>\n",
       "      <td>0.294471</td>\n",
       "      <td>0.409197</td>\n",
       "      <td>0.213763</td>\n",
       "    </tr>\n",
       "    <tr>\n",
       "      <th>75%</th>\n",
       "      <td>0.894646</td>\n",
       "      <td>0.492863</td>\n",
       "      <td>0.489392</td>\n",
       "      <td>0.364522</td>\n",
       "      <td>0.534377</td>\n",
       "      <td>0.525115</td>\n",
       "      <td>0.332899</td>\n",
       "      <td>0.314931</td>\n",
       "      <td>0.388010</td>\n",
       "      <td>0.240951</td>\n",
       "      <td>0.273218</td>\n",
       "      <td>0.251595</td>\n",
       "      <td>0.271720</td>\n",
       "      <td>0.540038</td>\n",
       "      <td>0.420673</td>\n",
       "      <td>0.540888</td>\n",
       "      <td>0.314760</td>\n",
       "    </tr>\n",
       "    <tr>\n",
       "      <th>max</th>\n",
       "      <td>1.000000</td>\n",
       "      <td>1.000000</td>\n",
       "      <td>1.000000</td>\n",
       "      <td>1.000000</td>\n",
       "      <td>1.000000</td>\n",
       "      <td>1.000000</td>\n",
       "      <td>1.000000</td>\n",
       "      <td>1.000000</td>\n",
       "      <td>1.000000</td>\n",
       "      <td>1.000000</td>\n",
       "      <td>1.000000</td>\n",
       "      <td>1.000000</td>\n",
       "      <td>1.000000</td>\n",
       "      <td>1.000000</td>\n",
       "      <td>1.000000</td>\n",
       "      <td>1.000000</td>\n",
       "      <td>1.000000</td>\n",
       "    </tr>\n",
       "  </tbody>\n",
       "</table>\n",
       "</div>"
      ],
      "text/plain": [
       "        store_num  10.Alcoholic Beverages  12.Cigarettes  \\\n",
       "count  232.000000              232.000000     232.000000   \n",
       "mean     0.808854                0.385035       0.385937   \n",
       "std      0.147407                0.193797       0.181344   \n",
       "min      0.000000                0.000000       0.000000   \n",
       "25%      0.770584                0.254434       0.250547   \n",
       "50%      0.797427                0.370270       0.370854   \n",
       "75%      0.894646                0.492863       0.489392   \n",
       "max      1.000000                1.000000       1.000000   \n",
       "\n",
       "       13.Cold Dispensed Bevs  14.Confectionery    15.Dairy  17.Food Service  \\\n",
       "count              232.000000        232.000000  232.000000       232.000000   \n",
       "mean                 0.285942          0.412458    0.386437         0.258870   \n",
       "std                  0.165629          0.193722    0.185131         0.173089   \n",
       "min                  0.000000          0.000000    0.000000         0.000000   \n",
       "25%                  0.161550          0.263452    0.246313         0.137018   \n",
       "50%                  0.252593          0.406860    0.350691         0.218826   \n",
       "75%                  0.364522          0.534377    0.525115         0.332899   \n",
       "max                  1.000000          1.000000    1.000000         1.000000   \n",
       "\n",
       "       18.Frozen Food  19.Frozen Treats  20.Non-Foods  21.Packaged Foods  \\\n",
       "count      232.000000        232.000000    232.000000         232.000000   \n",
       "mean         0.256036          0.293561      0.193876           0.223592   \n",
       "std          0.164114          0.173431      0.130485           0.140960   \n",
       "min          0.000000          0.000000      0.000000           0.000000   \n",
       "25%          0.147742          0.167347      0.112461           0.131332   \n",
       "50%          0.227729          0.264286      0.168563           0.188555   \n",
       "75%          0.314931          0.388010      0.240951           0.273218   \n",
       "max          1.000000          1.000000      1.000000           1.000000   \n",
       "\n",
       "       22.Health & Beauty Care  23.Hot Beverages  24.Non-Alcoholic Beverages  \\\n",
       "count               232.000000        232.000000                  232.000000   \n",
       "mean                  0.208558          0.210181                    0.402932   \n",
       "std                   0.113513          0.153008                    0.198742   \n",
       "min                   0.000000          0.000000                    0.000000   \n",
       "25%                   0.141034          0.103925                    0.256169   \n",
       "50%                   0.193682          0.176902                    0.383112   \n",
       "75%                   0.251595          0.271720                    0.540038   \n",
       "max                   1.000000          1.000000                    1.000000   \n",
       "\n",
       "       29.Refrigerated Food Products   30.Snacks  32.Tobacco  \n",
       "count                     232.000000  232.000000  232.000000  \n",
       "mean                        0.322696    0.424364    0.241286  \n",
       "std                         0.179287    0.191432    0.137995  \n",
       "min                         0.000000    0.000000    0.000000  \n",
       "25%                         0.194712    0.301774    0.150832  \n",
       "50%                         0.294471    0.409197    0.213763  \n",
       "75%                         0.420673    0.540888    0.314760  \n",
       "max                         1.000000    1.000000    1.000000  "
      ]
     },
     "execution_count": 18,
     "metadata": {},
     "output_type": "execute_result"
    }
   ],
   "source": [
    "stores_scaled.describe()"
   ]
  },
  {
   "cell_type": "markdown",
   "id": "d4e8dc3b",
   "metadata": {},
   "source": [
    "## Step 3: Data modelling"
   ]
  },
  {
   "cell_type": "code",
   "execution_count": 19,
   "id": "608fdf1c",
   "metadata": {},
   "outputs": [
    {
     "name": "stdout",
     "output_type": "stream",
     "text": [
      "sagemaker-us-east-1-837860013848\n"
     ]
    }
   ],
   "source": [
    "sess = sagemaker.Session()\n",
    "bucket = sess.default_bucket()\n",
    "print(bucket)"
   ]
  },
  {
   "cell_type": "code",
   "execution_count": 20,
   "id": "05c88566",
   "metadata": {},
   "outputs": [],
   "source": [
    "from sagemaker import PCA\n",
    "\n",
    "num_components = 12\n",
    "\n",
    "pca_SM = PCA(\n",
    "    role=role,\n",
    "    instance_count=1,\n",
    "    instance_type=\"ml.c4.xlarge\",\n",
    "    output_path=\"s3://\" + bucket + \"/stores/\",\n",
    "    num_components=num_components,\n",
    ")"
   ]
  },
  {
   "cell_type": "code",
   "execution_count": 21,
   "id": "07e02efb",
   "metadata": {},
   "outputs": [],
   "source": [
    "train_data = stores_scaled.values.astype(\"float32\")"
   ]
  },
  {
   "cell_type": "code",
   "execution_count": 22,
   "id": "5c9eef4c",
   "metadata": {},
   "outputs": [
    {
     "name": "stderr",
     "output_type": "stream",
     "text": [
      "Defaulting to the only supported framework/algorithm version: 1. Ignoring framework/algorithm version: 1.\n",
      "Defaulting to the only supported framework/algorithm version: 1. Ignoring framework/algorithm version: 1.\n"
     ]
    },
    {
     "name": "stdout",
     "output_type": "stream",
     "text": [
      "2022-03-20 21:37:34 Starting - Starting the training job...\n",
      "2022-03-20 21:37:59 Starting - Preparing the instances for trainingProfilerReport-1647812254: InProgress\n",
      ".........\n",
      "2022-03-20 21:39:31 Downloading - Downloading input data.....\u001b[34mDocker entrypoint called with argument(s): train\u001b[0m\n",
      "\u001b[34mRunning default environment configuration script\u001b[0m\n",
      "\u001b[34m[03/20/2022 21:40:22 INFO 140325360961344 integration.py:636] worker started\u001b[0m\n",
      "\u001b[34m[03/20/2022 21:40:22 INFO 140325360961344] Reading default configuration from /opt/amazon/lib/python3.7/site-packages/algorithm/resources/default-conf.json: {'algorithm_mode': 'regular', 'subtract_mean': 'true', 'extra_components': '-1', 'force_dense': 'true', 'epochs': 1, '_log_level': 'info', '_kvstore': 'dist_sync', '_num_kv_servers': 'auto', '_num_gpus': 'auto'}\u001b[0m\n",
      "\u001b[34m[03/20/2022 21:40:22 INFO 140325360961344] Merging with provided configuration from /opt/ml/input/config/hyperparameters.json: {'feature_dim': '17', 'mini_batch_size': '232', 'num_components': '12'}\u001b[0m\n",
      "\u001b[34m[03/20/2022 21:40:22 INFO 140325360961344] Final configuration: {'algorithm_mode': 'regular', 'subtract_mean': 'true', 'extra_components': '-1', 'force_dense': 'true', 'epochs': 1, '_log_level': 'info', '_kvstore': 'dist_sync', '_num_kv_servers': 'auto', '_num_gpus': 'auto', 'feature_dim': '17', 'mini_batch_size': '232', 'num_components': '12'}\u001b[0m\n",
      "\u001b[34m[03/20/2022 21:40:22 WARNING 140325360961344] Loggers have already been setup.\u001b[0m\n",
      "\u001b[34m[03/20/2022 21:40:22 INFO 140325360961344] Launching parameter server for role scheduler\u001b[0m\n",
      "\u001b[34m[03/20/2022 21:40:22 INFO 140325360961344] {'ENVROOT': '/opt/amazon', 'PROTOCOL_BUFFERS_PYTHON_IMPLEMENTATION': 'cpp', 'HOSTNAME': 'ip-10-0-237-92.ec2.internal', 'TRAINING_JOB_NAME': 'pca-2022-03-20-21-37-34-345', 'NVIDIA_REQUIRE_CUDA': 'cuda>=9.0', 'TRAINING_JOB_ARN': 'arn:aws:sagemaker:us-east-1:837860013848:training-job/pca-2022-03-20-21-37-34-345', 'AWS_CONTAINER_CREDENTIALS_RELATIVE_URI': '/v2/credentials/proxy-3e796b5c031776781a80c3c4d5dd194a24754d7889112a2a2e610c279333d7fa-customer', 'CANONICAL_ENVROOT': '/opt/amazon', 'PYTHONUNBUFFERED': 'TRUE', 'NVIDIA_VISIBLE_DEVICES': 'all', 'LD_LIBRARY_PATH': '/opt/amazon/lib/python3.7/site-packages/cv2/../../../../lib:/usr/local/nvidia/lib64:/opt/amazon/lib', 'NVIDIA_DRIVER_CAPABILITIES': 'compute,utility', 'PATH': '/opt/amazon/bin:/usr/local/nvidia/bin:/usr/local/sbin:/usr/local/bin:/usr/sbin:/usr/bin:/sbin:/bin:/opt/amazon/bin:/opt/amazon/bin', 'PWD': '/', 'LANG': 'en_US.utf8', 'AWS_REGION': 'us-east-1', 'HOME': '/root', 'SHLVL': '1', 'PROTOCOL_BUFFERS_PYTHON_IMPLEMENTATION_VERSION': '2', 'OMP_NUM_THREADS': '2', 'DMLC_INTERFACE': 'eth0', 'SAGEMAKER_HTTP_PORT': '8080', 'SAGEMAKER_DATA_PATH': '/opt/ml'}\u001b[0m\n",
      "\u001b[34m[03/20/2022 21:40:22 INFO 140325360961344] envs={'ENVROOT': '/opt/amazon', 'PROTOCOL_BUFFERS_PYTHON_IMPLEMENTATION': 'cpp', 'HOSTNAME': 'ip-10-0-237-92.ec2.internal', 'TRAINING_JOB_NAME': 'pca-2022-03-20-21-37-34-345', 'NVIDIA_REQUIRE_CUDA': 'cuda>=9.0', 'TRAINING_JOB_ARN': 'arn:aws:sagemaker:us-east-1:837860013848:training-job/pca-2022-03-20-21-37-34-345', 'AWS_CONTAINER_CREDENTIALS_RELATIVE_URI': '/v2/credentials/proxy-3e796b5c031776781a80c3c4d5dd194a24754d7889112a2a2e610c279333d7fa-customer', 'CANONICAL_ENVROOT': '/opt/amazon', 'PYTHONUNBUFFERED': 'TRUE', 'NVIDIA_VISIBLE_DEVICES': 'all', 'LD_LIBRARY_PATH': '/opt/amazon/lib/python3.7/site-packages/cv2/../../../../lib:/usr/local/nvidia/lib64:/opt/amazon/lib', 'NVIDIA_DRIVER_CAPABILITIES': 'compute,utility', 'PATH': '/opt/amazon/bin:/usr/local/nvidia/bin:/usr/local/sbin:/usr/local/bin:/usr/sbin:/usr/bin:/sbin:/bin:/opt/amazon/bin:/opt/amazon/bin', 'PWD': '/', 'LANG': 'en_US.utf8', 'AWS_REGION': 'us-east-1', 'HOME': '/root', 'SHLVL': '1', 'PROTOCOL_BUFFERS_PYTHON_IMPLEMENTATION_VERSION': '2', 'OMP_NUM_THREADS': '2', 'DMLC_INTERFACE': 'eth0', 'SAGEMAKER_HTTP_PORT': '8080', 'SAGEMAKER_DATA_PATH': '/opt/ml', 'DMLC_ROLE': 'scheduler', 'DMLC_PS_ROOT_URI': '10.0.237.92', 'DMLC_PS_ROOT_PORT': '9000', 'DMLC_NUM_SERVER': '1', 'DMLC_NUM_WORKER': '1'}\u001b[0m\n",
      "\u001b[34m[03/20/2022 21:40:22 INFO 140325360961344] Launching parameter server for role server\u001b[0m\n",
      "\u001b[34m[03/20/2022 21:40:22 INFO 140325360961344] {'ENVROOT': '/opt/amazon', 'PROTOCOL_BUFFERS_PYTHON_IMPLEMENTATION': 'cpp', 'HOSTNAME': 'ip-10-0-237-92.ec2.internal', 'TRAINING_JOB_NAME': 'pca-2022-03-20-21-37-34-345', 'NVIDIA_REQUIRE_CUDA': 'cuda>=9.0', 'TRAINING_JOB_ARN': 'arn:aws:sagemaker:us-east-1:837860013848:training-job/pca-2022-03-20-21-37-34-345', 'AWS_CONTAINER_CREDENTIALS_RELATIVE_URI': '/v2/credentials/proxy-3e796b5c031776781a80c3c4d5dd194a24754d7889112a2a2e610c279333d7fa-customer', 'CANONICAL_ENVROOT': '/opt/amazon', 'PYTHONUNBUFFERED': 'TRUE', 'NVIDIA_VISIBLE_DEVICES': 'all', 'LD_LIBRARY_PATH': '/opt/amazon/lib/python3.7/site-packages/cv2/../../../../lib:/usr/local/nvidia/lib64:/opt/amazon/lib', 'NVIDIA_DRIVER_CAPABILITIES': 'compute,utility', 'PATH': '/opt/amazon/bin:/usr/local/nvidia/bin:/usr/local/sbin:/usr/local/bin:/usr/sbin:/usr/bin:/sbin:/bin:/opt/amazon/bin:/opt/amazon/bin', 'PWD': '/', 'LANG': 'en_US.utf8', 'AWS_REGION': 'us-east-1', 'HOME': '/root', 'SHLVL': '1', 'PROTOCOL_BUFFERS_PYTHON_IMPLEMENTATION_VERSION': '2', 'OMP_NUM_THREADS': '2', 'DMLC_INTERFACE': 'eth0', 'SAGEMAKER_HTTP_PORT': '8080', 'SAGEMAKER_DATA_PATH': '/opt/ml'}\u001b[0m\n",
      "\u001b[34m[03/20/2022 21:40:22 INFO 140325360961344] envs={'ENVROOT': '/opt/amazon', 'PROTOCOL_BUFFERS_PYTHON_IMPLEMENTATION': 'cpp', 'HOSTNAME': 'ip-10-0-237-92.ec2.internal', 'TRAINING_JOB_NAME': 'pca-2022-03-20-21-37-34-345', 'NVIDIA_REQUIRE_CUDA': 'cuda>=9.0', 'TRAINING_JOB_ARN': 'arn:aws:sagemaker:us-east-1:837860013848:training-job/pca-2022-03-20-21-37-34-345', 'AWS_CONTAINER_CREDENTIALS_RELATIVE_URI': '/v2/credentials/proxy-3e796b5c031776781a80c3c4d5dd194a24754d7889112a2a2e610c279333d7fa-customer', 'CANONICAL_ENVROOT': '/opt/amazon', 'PYTHONUNBUFFERED': 'TRUE', 'NVIDIA_VISIBLE_DEVICES': 'all', 'LD_LIBRARY_PATH': '/opt/amazon/lib/python3.7/site-packages/cv2/../../../../lib:/usr/local/nvidia/lib64:/opt/amazon/lib', 'NVIDIA_DRIVER_CAPABILITIES': 'compute,utility', 'PATH': '/opt/amazon/bin:/usr/local/nvidia/bin:/usr/local/sbin:/usr/local/bin:/usr/sbin:/usr/bin:/sbin:/bin:/opt/amazon/bin:/opt/amazon/bin', 'PWD': '/', 'LANG': 'en_US.utf8', 'AWS_REGION': 'us-east-1', 'HOME': '/root', 'SHLVL': '1', 'PROTOCOL_BUFFERS_PYTHON_IMPLEMENTATION_VERSION': '2', 'OMP_NUM_THREADS': '2', 'DMLC_INTERFACE': 'eth0', 'SAGEMAKER_HTTP_PORT': '8080', 'SAGEMAKER_DATA_PATH': '/opt/ml', 'DMLC_ROLE': 'server', 'DMLC_PS_ROOT_URI': '10.0.237.92', 'DMLC_PS_ROOT_PORT': '9000', 'DMLC_NUM_SERVER': '1', 'DMLC_NUM_WORKER': '1'}\u001b[0m\n",
      "\u001b[34m[03/20/2022 21:40:22 INFO 140325360961344] Environment: {'ENVROOT': '/opt/amazon', 'PROTOCOL_BUFFERS_PYTHON_IMPLEMENTATION': 'cpp', 'HOSTNAME': 'ip-10-0-237-92.ec2.internal', 'TRAINING_JOB_NAME': 'pca-2022-03-20-21-37-34-345', 'NVIDIA_REQUIRE_CUDA': 'cuda>=9.0', 'TRAINING_JOB_ARN': 'arn:aws:sagemaker:us-east-1:837860013848:training-job/pca-2022-03-20-21-37-34-345', 'AWS_CONTAINER_CREDENTIALS_RELATIVE_URI': '/v2/credentials/proxy-3e796b5c031776781a80c3c4d5dd194a24754d7889112a2a2e610c279333d7fa-customer', 'CANONICAL_ENVROOT': '/opt/amazon', 'PYTHONUNBUFFERED': 'TRUE', 'NVIDIA_VISIBLE_DEVICES': 'all', 'LD_LIBRARY_PATH': '/opt/amazon/lib/python3.7/site-packages/cv2/../../../../lib:/usr/local/nvidia/lib64:/opt/amazon/lib', 'NVIDIA_DRIVER_CAPABILITIES': 'compute,utility', 'PATH': '/opt/amazon/bin:/usr/local/nvidia/bin:/usr/local/sbin:/usr/local/bin:/usr/sbin:/usr/bin:/sbin:/bin:/opt/amazon/bin:/opt/amazon/bin', 'PWD': '/', 'LANG': 'en_US.utf8', 'AWS_REGION': 'us-east-1', 'HOME': '/root', 'SHLVL': '1', 'PROTOCOL_BUFFERS_PYTHON_IMPLEMENTATION_VERSION': '2', 'OMP_NUM_THREADS': '2', 'DMLC_INTERFACE': 'eth0', 'SAGEMAKER_HTTP_PORT': '8080', 'SAGEMAKER_DATA_PATH': '/opt/ml', 'DMLC_ROLE': 'worker', 'DMLC_PS_ROOT_URI': '10.0.237.92', 'DMLC_PS_ROOT_PORT': '9000', 'DMLC_NUM_SERVER': '1', 'DMLC_NUM_WORKER': '1'}\u001b[0m\n",
      "\u001b[34mProcess 34 is a shell:scheduler.\u001b[0m\n",
      "\u001b[34mProcess 44 is a shell:server.\u001b[0m\n",
      "\u001b[34mProcess 1 is a worker.\u001b[0m\n",
      "\u001b[34m[03/20/2022 21:40:22 INFO 140325360961344] Using default worker.\u001b[0m\n",
      "\u001b[34m[03/20/2022 21:40:23 INFO 140325360961344] Loaded iterator creator application/x-labeled-vector-protobuf for content type ('application/x-labeled-vector-protobuf', '1.0')\u001b[0m\n",
      "\u001b[34m[03/20/2022 21:40:23 INFO 140325360961344] Loaded iterator creator application/x-recordio-protobuf for content type ('application/x-recordio-protobuf', '1.0')\u001b[0m\n",
      "\u001b[34m[03/20/2022 21:40:23 INFO 140325360961344] Loaded iterator creator protobuf for content type ('protobuf', '1.0')\u001b[0m\n",
      "\u001b[34m[03/20/2022 21:40:23 INFO 140325360961344] Checkpoint loading and saving are disabled.\u001b[0m\n",
      "\u001b[34m[03/20/2022 21:40:23 INFO 140325360961344] Create Store: dist_sync\u001b[0m\n",
      "\n",
      "2022-03-20 21:40:33 Training - Training image download completed. Training in progress.\n",
      "2022-03-20 21:40:33 Uploading - Uploading generated training model\u001b[34m[03/20/2022 21:40:24 INFO 140325360961344] nvidia-smi: took 0.030 seconds to run.\u001b[0m\n",
      "\u001b[34m[03/20/2022 21:40:24 INFO 140325360961344] nvidia-smi identified 0 GPUs.\u001b[0m\n",
      "\u001b[34m[03/20/2022 21:40:24 INFO 140325360961344] Number of GPUs being used: 0\u001b[0m\n",
      "\u001b[34m[03/20/2022 21:40:24 INFO 140325360961344] The default executor is <PCAExecutor on cpu(0)>.\u001b[0m\n",
      "\u001b[34m[03/20/2022 21:40:24 INFO 140325360961344] 17 feature(s) found in 'data'.\u001b[0m\n",
      "\u001b[34m[03/20/2022 21:40:24 INFO 140325360961344] <PCAExecutor on cpu(0)> is assigned to batch slice from 0 to 231.\u001b[0m\n",
      "\u001b[34m#metrics {\"StartTime\": 1647812423.1314013, \"EndTime\": 1647812424.1876552, \"Dimensions\": {\"Algorithm\": \"PCA\", \"Host\": \"algo-1\", \"Operation\": \"training\"}, \"Metrics\": {\"initialize.time\": {\"sum\": 1043.2798862457275, \"count\": 1, \"min\": 1043.2798862457275, \"max\": 1043.2798862457275}}}\u001b[0m\n",
      "\u001b[34m#metrics {\"StartTime\": 1647812424.1879036, \"EndTime\": 1647812424.1879685, \"Dimensions\": {\"Algorithm\": \"PCA\", \"Host\": \"algo-1\", \"Operation\": \"training\", \"Meta\": \"init_train_data_iter\"}, \"Metrics\": {\"Total Records Seen\": {\"sum\": 0.0, \"count\": 1, \"min\": 0, \"max\": 0}, \"Total Batches Seen\": {\"sum\": 0.0, \"count\": 1, \"min\": 0, \"max\": 0}, \"Max Records Seen Between Resets\": {\"sum\": 0.0, \"count\": 1, \"min\": 0, \"max\": 0}, \"Max Batches Seen Between Resets\": {\"sum\": 0.0, \"count\": 1, \"min\": 0, \"max\": 0}, \"Reset Count\": {\"sum\": 0.0, \"count\": 1, \"min\": 0, \"max\": 0}, \"Number of Records Since Last Reset\": {\"sum\": 0.0, \"count\": 1, \"min\": 0, \"max\": 0}, \"Number of Batches Since Last Reset\": {\"sum\": 0.0, \"count\": 1, \"min\": 0, \"max\": 0}}}\u001b[0m\n",
      "\u001b[34m[2022-03-20 21:40:24.188] [tensorio] [info] epoch_stats={\"data_pipeline\": \"/opt/ml/input/data/train\", \"epoch\": 0, \"duration\": 1056, \"num_examples\": 1, \"num_bytes\": 21344}\u001b[0m\n",
      "\u001b[34m[2022-03-20 21:40:24.224] [tensorio] [info] epoch_stats={\"data_pipeline\": \"/opt/ml/input/data/train\", \"epoch\": 1, \"duration\": 26, \"num_examples\": 1, \"num_bytes\": 21344}\u001b[0m\n",
      "\u001b[34m#metrics {\"StartTime\": 1647812424.1878285, \"EndTime\": 1647812424.2244463, \"Dimensions\": {\"Algorithm\": \"PCA\", \"Host\": \"algo-1\", \"Operation\": \"training\"}, \"Metrics\": {\"epochs\": {\"sum\": 1.0, \"count\": 1, \"min\": 1, \"max\": 1}, \"update.time\": {\"sum\": 35.997867584228516, \"count\": 1, \"min\": 35.997867584228516, \"max\": 35.997867584228516}}}\u001b[0m\n",
      "\u001b[34m[03/20/2022 21:40:24 INFO 140325360961344] #progress_metric: host=algo-1, completed 100.0 % of epochs\u001b[0m\n",
      "\u001b[34m#metrics {\"StartTime\": 1647812424.1884031, \"EndTime\": 1647812424.2248592, \"Dimensions\": {\"Algorithm\": \"PCA\", \"Host\": \"algo-1\", \"Operation\": \"training\", \"epoch\": 0, \"Meta\": \"training_data_iter\"}, \"Metrics\": {\"Total Records Seen\": {\"sum\": 232.0, \"count\": 1, \"min\": 232, \"max\": 232}, \"Total Batches Seen\": {\"sum\": 1.0, \"count\": 1, \"min\": 1, \"max\": 1}, \"Max Records Seen Between Resets\": {\"sum\": 232.0, \"count\": 1, \"min\": 232, \"max\": 232}, \"Max Batches Seen Between Resets\": {\"sum\": 1.0, \"count\": 1, \"min\": 1, \"max\": 1}, \"Reset Count\": {\"sum\": 1.0, \"count\": 1, \"min\": 1, \"max\": 1}, \"Number of Records Since Last Reset\": {\"sum\": 232.0, \"count\": 1, \"min\": 232, \"max\": 232}, \"Number of Batches Since Last Reset\": {\"sum\": 1.0, \"count\": 1, \"min\": 1, \"max\": 1}}}\u001b[0m\n",
      "\u001b[34m[03/20/2022 21:40:24 INFO 140325360961344] #throughput_metric: host=algo-1, train throughput=6339.232500114006 records/second\u001b[0m\n",
      "\u001b[34m#metrics {\"StartTime\": 1647812424.2245486, \"EndTime\": 1647812424.244189, \"Dimensions\": {\"Algorithm\": \"PCA\", \"Host\": \"algo-1\", \"Operation\": \"training\"}, \"Metrics\": {\"finalize.time\": {\"sum\": 18.843650817871094, \"count\": 1, \"min\": 18.843650817871094, \"max\": 18.843650817871094}}}\u001b[0m\n",
      "\u001b[34m[03/20/2022 21:40:24 INFO 140325360961344] Test data is not provided.\u001b[0m\n",
      "\u001b[34m#metrics {\"StartTime\": 1647812424.2442794, \"EndTime\": 1647812424.2448115, \"Dimensions\": {\"Algorithm\": \"PCA\", \"Host\": \"algo-1\", \"Operation\": \"training\"}, \"Metrics\": {\"setuptime\": {\"sum\": 27.696609497070312, \"count\": 1, \"min\": 27.696609497070312, \"max\": 27.696609497070312}, \"totaltime\": {\"sum\": 1327.9807567596436, \"count\": 1, \"min\": 1327.9807567596436, \"max\": 1327.9807567596436}}}\u001b[0m\n",
      "\u001b[34m[03/20/2022 21:40:24 INFO 140325360961344 integration.py:636] worker closed\u001b[0m\n",
      "\n",
      "2022-03-20 21:40:59 Completed - Training job completed\n",
      "Training seconds: 72\n",
      "Billable seconds: 72\n",
      "CPU times: user 619 ms, sys: 24.4 ms, total: 644 ms\n",
      "Wall time: 3min 44s\n"
     ]
    }
   ],
   "source": [
    "%%time\n",
    "pca_SM.fit(pca_SM.record_set(train_data))"
   ]
  },
  {
   "cell_type": "code",
   "execution_count": 24,
   "id": "a36b78a4",
   "metadata": {},
   "outputs": [
    {
     "data": {
      "text/plain": [
       "0"
      ]
     },
     "execution_count": 24,
     "metadata": {},
     "output_type": "execute_result"
    }
   ],
   "source": [
    "job_name = pca_SM.latest_training_job.name\n",
    "model_key = \"stores/\" + job_name + \"/output/model.tar.gz\"\n",
    "\n",
    "boto3.resource(\"s3\").Bucket(bucket).download_file(model_key, \"model.tar.gz\")\n",
    "os.system(\"tar -zxvf model.tar.gz\")"
   ]
  },
  {
   "cell_type": "code",
   "execution_count": 25,
   "id": "d8f13c7a",
   "metadata": {},
   "outputs": [],
   "source": [
    "import mxnet as mx\n",
    "\n",
    "pca_model_params = mx.ndarray.load(\"model_algo-1\")"
   ]
  },
  {
   "cell_type": "markdown",
   "id": "7297807d",
   "metadata": {},
   "source": [
    "Three groups of model parameters are contained within the PCA model.\n",
    "\n",
    "mean is optional and is only available if the “subtract_mean” hyperparameter is true when calling the training step from the original PCA SageMaker function.\n",
    "\n",
    "v  - contains the principal components (same as ‘components_’ in the sklearn PCA model).\n",
    "\n",
    "s  - the singular values of the components for the PCA transformation. This does not exactly give the % variance from the original feature space, but can give the % variance from the projected feature space.\n",
    "\n",
    "explained-variance-ratio ~= square(s) / sum(square(s))\n",
    "\n",
    "To calculate the exact explained-variance-ratio vector if needed, it simply requires saving the sum of squares of the original data (call that N) and computing explained-variance-ratio = square(s) / N."
   ]
  },
  {
   "cell_type": "code",
   "execution_count": 26,
   "id": "20c26101",
   "metadata": {},
   "outputs": [],
   "source": [
    "s = pd.DataFrame(pca_model_params[\"s\"].asnumpy())\n",
    "v = pd.DataFrame(pca_model_params[\"v\"].asnumpy())"
   ]
  },
  {
   "cell_type": "markdown",
   "id": "5c0dd9b4",
   "metadata": {},
   "source": [
    "We can now calculate the variance explained by the largest n components that we want to keep. For this example, let's take the top 5 components.\n",
    "\n",
    "We can see that the largest 5 components explain ~77% of the total variance in our dataset:"
   ]
  },
  {
   "cell_type": "code",
   "execution_count": 27,
   "id": "06110b4e",
   "metadata": {},
   "outputs": [
    {
     "data": {
      "text/plain": [
       "0    0.774247\n",
       "dtype: float32"
      ]
     },
     "execution_count": 27,
     "metadata": {},
     "output_type": "execute_result"
    }
   ],
   "source": [
    "s.iloc[7:, :].apply(lambda x: x * x).sum() / s.apply(lambda x: x * x).sum()"
   ]
  },
  {
   "cell_type": "markdown",
   "id": "829e75d9",
   "metadata": {},
   "source": [
    "After we have decided to keep the top 5 components, we can take only the 5 largest components from our original s and v matrix."
   ]
  },
  {
   "cell_type": "code",
   "execution_count": 28,
   "id": "ed811924",
   "metadata": {},
   "outputs": [],
   "source": [
    "s_5 = s.iloc[7:, :]\n",
    "v_5 = v.iloc[:, 7:]\n",
    "v_5.columns = [0, 1, 2, 3, 4]"
   ]
  },
  {
   "cell_type": "code",
   "execution_count": 29,
   "id": "51198130",
   "metadata": {},
   "outputs": [
    {
     "data": {
      "image/png": "[encoded data removed]",
      "text/plain": [
       "<Figure size 432x288 with 1 Axes>"
      ]
     },
     "metadata": {},
     "output_type": "display_data"
    }
   ],
   "source": [
    "component_num = 1\n",
    "\n",
    "first_comp = v_5[5 - component_num]\n",
    "comps = pd.DataFrame(\n",
    "    list(zip(first_comp, stores_scaled.columns)), columns=[\"weights\", \"features\"]\n",
    ")\n",
    "comps[\"abs_weights\"] = comps[\"weights\"].apply(lambda x: np.abs(x))\n",
    "ax = sns.barplot(\n",
    "    data=comps.sort_values(\"abs_weights\", ascending=False).head(10),\n",
    "    x=\"weights\",\n",
    "    y=\"features\",\n",
    "    palette=\"Blues_d\",\n",
    ")\n",
    "ax.set_title(\"PCA Component Makeup: #\" + str(component_num))\n",
    "plt.show()"
   ]
  },
  {
   "cell_type": "code",
   "execution_count": 30,
   "id": "59a98738",
   "metadata": {},
   "outputs": [],
   "source": [
    "PCA_list = [\"comp_1\", \"comp_2\", \"comp_3\"]"
   ]
  },
  {
   "cell_type": "code",
   "execution_count": 31,
   "id": "cfe9e15a",
   "metadata": {},
   "outputs": [
    {
     "data": {
      "image/png": "[encoded data removed]",
      "text/plain": [
       "<Figure size 432x288 with 1 Axes>"
      ]
     },
     "metadata": {},
     "output_type": "display_data"
    },
    {
     "data": {
      "image/png": "[encoded data removed]",
      "text/plain": [
       "<Figure size 432x288 with 1 Axes>"
      ]
     },
     "metadata": {},
     "output_type": "display_data"
    },
    {
     "data": {
      "image/png": "[encoded data removed]",
      "text/plain": [
       "<Figure size 432x288 with 1 Axes>"
      ]
     },
     "metadata": {},
     "output_type": "display_data"
    }
   ],
   "source": [
    "component_num = 2\n",
    "\n",
    "for i in PCA_list:\n",
    "    first_comp = v_5[5 - component_num]\n",
    "    comps = pd.DataFrame(\n",
    "        list(zip(first_comp, stores_scaled.columns)), columns=[\"weights\", \"features\"]\n",
    "    )\n",
    "    comps[\"abs_weights\"] = comps[\"weights\"].apply(lambda x: np.abs(x))\n",
    "    ax = sns.barplot(\n",
    "        data=comps.sort_values(\"abs_weights\", ascending=False).head(10),\n",
    "        x=\"weights\",\n",
    "        y=\"features\",\n",
    "        palette=\"Blues_d\",\n",
    "    )\n",
    "    ax.set_title(\"PCA Component Makeup: #\" + str(component_num))\n",
    "    plt.show()\n",
    "    component_num = component_num+1"
   ]
  },
  {
   "cell_type": "code",
   "execution_count": 32,
   "id": "d0e506ba",
   "metadata": {},
   "outputs": [
    {
     "name": "stderr",
     "output_type": "stream",
     "text": [
      "Defaulting to the only supported framework/algorithm version: 1. Ignoring framework/algorithm version: 1.\n"
     ]
    },
    {
     "name": "stdout",
     "output_type": "stream",
     "text": [
      "----------!CPU times: user 184 ms, sys: 8.48 ms, total: 193 ms\n",
      "Wall time: 5min 1s\n"
     ]
    }
   ],
   "source": [
    "%%time\n",
    "pca_predictor = pca_SM.deploy(initial_instance_count=1, instance_type=\"ml.t2.medium\")"
   ]
  },
  {
   "cell_type": "code",
   "execution_count": 35,
   "id": "5068a545",
   "metadata": {},
   "outputs": [
    {
     "name": "stdout",
     "output_type": "stream",
     "text": [
      "CPU times: user 20.8 ms, sys: 3.37 ms, total: 24.2 ms\n",
      "Wall time: 177 ms\n"
     ]
    }
   ],
   "source": [
    "%%time\n",
    "result = pca_predictor.predict(train_data)"
   ]
  },
  {
   "cell_type": "code",
   "execution_count": 36,
   "id": "83460938",
   "metadata": {},
   "outputs": [],
   "source": [
    "PCA_list = [\"comp_1\", \"comp_2\", \"comp_3\", \"comp_4\", \"comp_5\"]"
   ]
  },
  {
   "cell_type": "code",
   "execution_count": 37,
   "id": "f418ec25",
   "metadata": {},
   "outputs": [],
   "source": [
    "stores_transformed = pd.DataFrame()\n",
    "for a in result:\n",
    "    b = a.label[\"projection\"].float32_tensor.values\n",
    "    stores_transformed = stores_transformed.append([list(b)])\n",
    "stores_transformed.index = stores_scaled.index\n",
    "stores_transformed = stores_transformed.iloc[:, 7:]\n",
    "stores_transformed.columns = PCA_list"
   ]
  },
  {
   "cell_type": "code",
   "execution_count": 38,
   "id": "d0578c0f",
   "metadata": {},
   "outputs": [
    {
     "data": {
      "text/html": [
       "<div>\n",
       "<style scoped>\n",
       "    .dataframe tbody tr th:only-of-type {\n",
       "        vertical-align: middle;\n",
       "    }\n",
       "\n",
       "    .dataframe tbody tr th {\n",
       "        vertical-align: top;\n",
       "    }\n",
       "\n",
       "    .dataframe thead th {\n",
       "        text-align: right;\n",
       "    }\n",
       "</style>\n",
       "<table border=\"1\" class=\"dataframe\">\n",
       "  <thead>\n",
       "    <tr style=\"text-align: right;\">\n",
       "      <th></th>\n",
       "      <th>comp_1</th>\n",
       "      <th>comp_2</th>\n",
       "      <th>comp_3</th>\n",
       "      <th>comp_4</th>\n",
       "      <th>comp_5</th>\n",
       "    </tr>\n",
       "    <tr>\n",
       "      <th>store_num</th>\n",
       "      <th></th>\n",
       "      <th></th>\n",
       "      <th></th>\n",
       "      <th></th>\n",
       "      <th></th>\n",
       "    </tr>\n",
       "  </thead>\n",
       "  <tbody>\n",
       "    <tr>\n",
       "      <th>35694</th>\n",
       "      <td>0.127237</td>\n",
       "      <td>0.028037</td>\n",
       "      <td>0.186221</td>\n",
       "      <td>-0.031350</td>\n",
       "      <td>0.327659</td>\n",
       "    </tr>\n",
       "    <tr>\n",
       "      <th>35351</th>\n",
       "      <td>0.062257</td>\n",
       "      <td>-0.197614</td>\n",
       "      <td>0.136682</td>\n",
       "      <td>-0.222220</td>\n",
       "      <td>-0.563237</td>\n",
       "    </tr>\n",
       "    <tr>\n",
       "      <th>37297</th>\n",
       "      <td>0.144425</td>\n",
       "      <td>-0.197572</td>\n",
       "      <td>-0.133326</td>\n",
       "      <td>-0.025704</td>\n",
       "      <td>0.152315</td>\n",
       "    </tr>\n",
       "    <tr>\n",
       "      <th>32648</th>\n",
       "      <td>-0.118093</td>\n",
       "      <td>-0.178635</td>\n",
       "      <td>-0.052778</td>\n",
       "      <td>-0.095616</td>\n",
       "      <td>0.532628</td>\n",
       "    </tr>\n",
       "    <tr>\n",
       "      <th>34197</th>\n",
       "      <td>0.022939</td>\n",
       "      <td>0.082699</td>\n",
       "      <td>0.112360</td>\n",
       "      <td>0.203223</td>\n",
       "      <td>0.185144</td>\n",
       "    </tr>\n",
       "  </tbody>\n",
       "</table>\n",
       "</div>"
      ],
      "text/plain": [
       "             comp_1    comp_2    comp_3    comp_4    comp_5\n",
       "store_num                                                  \n",
       "35694      0.127237  0.028037  0.186221 -0.031350  0.327659\n",
       "35351      0.062257 -0.197614  0.136682 -0.222220 -0.563237\n",
       "37297      0.144425 -0.197572 -0.133326 -0.025704  0.152315\n",
       "32648     -0.118093 -0.178635 -0.052778 -0.095616  0.532628\n",
       "34197      0.022939  0.082699  0.112360  0.203223  0.185144"
      ]
     },
     "execution_count": 38,
     "metadata": {},
     "output_type": "execute_result"
    }
   ],
   "source": [
    "stores_transformed.head()"
   ]
  },
  {
   "cell_type": "markdown",
   "id": "3b672ed1",
   "metadata": {},
   "source": [
    "Now, we’ll use the KMeans algorithm to segment the store sales by the 5 PCA attributes we have created. KMeans is a clustering algorithm that identifies clusters of similar counties based on their attributes. Since we have ~232 stores and 16 attributes in our original dataset, the large feature space may have made it difficult to cluster the counties effectively. Instead, we have reduced the feature space to 5 PCA components, and we’ll cluster on this transformed dataset."
   ]
  },
  {
   "cell_type": "code",
   "execution_count": 39,
   "id": "c7d4e4a0",
   "metadata": {},
   "outputs": [],
   "source": [
    "train_data = stores_transformed.values.astype(\"float32\")"
   ]
  },
  {
   "cell_type": "code",
   "execution_count": 40,
   "id": "1b47574b",
   "metadata": {},
   "outputs": [],
   "source": [
    "from sagemaker import KMeans\n",
    "\n",
    "num_clusters = 5\n",
    "kmeans = KMeans(\n",
    "    role=role,\n",
    "    instance_count=1,\n",
    "    instance_type=\"ml.c4.xlarge\",\n",
    "    output_path=\"s3://\" + bucket + \"/stores/\",\n",
    "    k=num_clusters,\n",
    ")"
   ]
  },
  {
   "cell_type": "code",
   "execution_count": 41,
   "id": "5f418ebb",
   "metadata": {},
   "outputs": [
    {
     "name": "stderr",
     "output_type": "stream",
     "text": [
      "Defaulting to the only supported framework/algorithm version: 1. Ignoring framework/algorithm version: 1.\n",
      "Defaulting to the only supported framework/algorithm version: 1. Ignoring framework/algorithm version: 1.\n"
     ]
    },
    {
     "name": "stdout",
     "output_type": "stream",
     "text": [
      "2022-03-20 21:49:04 Starting - Starting the training job...\n",
      "2022-03-20 21:49:33 Starting - Preparing the instances for trainingProfilerReport-1647812944: InProgress\n",
      "............\n",
      "2022-03-20 21:51:30 Downloading - Downloading input data...\n",
      "2022-03-20 21:51:55 Training - Training image download completed. Training in progress.\u001b[34mDocker entrypoint called with argument(s): train\u001b[0m\n",
      "\u001b[34mRunning default environment configuration script\u001b[0m\n",
      "\u001b[34m[03/20/2022 21:52:01 INFO 140022146594624 integration.py:636] worker started\u001b[0m\n",
      "\u001b[34m[03/20/2022 21:52:01 INFO 140022146594624] Reading default configuration from /opt/amazon/lib/python3.7/site-packages/algorithm/resources/default-input.json: {'init_method': 'random', 'mini_batch_size': '5000', 'epochs': '1', 'extra_center_factor': 'auto', 'local_lloyd_max_iter': '300', 'local_lloyd_tol': '0.0001', 'local_lloyd_init_method': 'kmeans++', 'local_lloyd_num_trials': 'auto', 'half_life_time_size': '0', 'eval_metrics': '[\"msd\"]', 'force_dense': 'true', '_disable_wait_to_read': 'false', '_enable_profiler': 'false', '_kvstore': 'auto', '_log_level': 'info', '_num_gpus': 'auto', '_num_kv_servers': '1', '_num_slices': '1', '_tuning_objective_metric': ''}\u001b[0m\n",
      "\u001b[34m[03/20/2022 21:52:01 INFO 140022146594624] Merging with provided configuration from /opt/ml/input/config/hyperparameters.json: {'feature_dim': '5', 'force_dense': 'True', 'k': '5'}\u001b[0m\n",
      "\u001b[34m[03/20/2022 21:52:01 INFO 140022146594624] Final configuration: {'init_method': 'random', 'mini_batch_size': '5000', 'epochs': '1', 'extra_center_factor': 'auto', 'local_lloyd_max_iter': '300', 'local_lloyd_tol': '0.0001', 'local_lloyd_init_method': 'kmeans++', 'local_lloyd_num_trials': 'auto', 'half_life_time_size': '0', 'eval_metrics': '[\"msd\"]', 'force_dense': 'True', '_disable_wait_to_read': 'false', '_enable_profiler': 'false', '_kvstore': 'auto', '_log_level': 'info', '_num_gpus': 'auto', '_num_kv_servers': '1', '_num_slices': '1', '_tuning_objective_metric': '', 'feature_dim': '5', 'k': '5'}\u001b[0m\n",
      "\u001b[34m[03/20/2022 21:52:01 WARNING 140022146594624] Loggers have already been setup.\u001b[0m\n",
      "\u001b[34mProcess 1 is a worker.\u001b[0m\n",
      "\u001b[34m[03/20/2022 21:52:01 INFO 140022146594624] Using default worker.\u001b[0m\n",
      "\u001b[34m[03/20/2022 21:52:01 INFO 140022146594624] Loaded iterator creator application/x-recordio-protobuf for content type ('application/x-recordio-protobuf', '1.0')\u001b[0m\n",
      "\u001b[34m[03/20/2022 21:52:01 INFO 140022146594624] Create Store: local\u001b[0m\n",
      "\u001b[34m[03/20/2022 21:52:01 INFO 140022146594624] nvidia-smi: took 0.059 seconds to run.\u001b[0m\n",
      "\u001b[34m[03/20/2022 21:52:01 INFO 140022146594624] nvidia-smi identified 0 GPUs.\u001b[0m\n",
      "\u001b[34m[03/20/2022 21:52:01 INFO 140022146594624] Number of GPUs being used: 0\u001b[0m\n",
      "\u001b[34m[03/20/2022 21:52:01 INFO 140022146594624] Checkpoint loading and saving are disabled.\u001b[0m\n",
      "\u001b[34m[03/20/2022 21:52:01 INFO 140022146594624] Setting up with params: {'init_method': 'random', 'mini_batch_size': '5000', 'epochs': '1', 'extra_center_factor': 'auto', 'local_lloyd_max_iter': '300', 'local_lloyd_tol': '0.0001', 'local_lloyd_init_method': 'kmeans++', 'local_lloyd_num_trials': 'auto', 'half_life_time_size': '0', 'eval_metrics': '[\"msd\"]', 'force_dense': 'True', '_disable_wait_to_read': 'false', '_enable_profiler': 'false', '_kvstore': 'auto', '_log_level': 'info', '_num_gpus': 'auto', '_num_kv_servers': '1', '_num_slices': '1', '_tuning_objective_metric': '', 'feature_dim': '5', 'k': '5'}\u001b[0m\n",
      "\u001b[34m[03/20/2022 21:52:01 INFO 140022146594624] 'extra_center_factor' was set to 'auto', evaluated to 10.\u001b[0m\n",
      "\u001b[34m[03/20/2022 21:52:01 INFO 140022146594624] Number of GPUs being used: 0\u001b[0m\n",
      "\u001b[34m[03/20/2022 21:52:01 INFO 140022146594624] number of center slices 1\u001b[0m\n",
      "\u001b[34m[03/20/2022 21:52:01 WARNING 140022146594624] Batch size 5000 is bigger than the first batch data. Effective batch size used to initialize is 232\u001b[0m\n",
      "\u001b[34m#metrics {\"StartTime\": 1647813121.9810264, \"EndTime\": 1647813121.981083, \"Dimensions\": {\"Algorithm\": \"AWS/KMeansWebscale\", \"Host\": \"algo-1\", \"Operation\": \"training\", \"Meta\": \"init_train_data_iter\"}, \"Metrics\": {\"Total Records Seen\": {\"sum\": 232.0, \"count\": 1, \"min\": 232, \"max\": 232}, \"Total Batches Seen\": {\"sum\": 1.0, \"count\": 1, \"min\": 1, \"max\": 1}, \"Max Records Seen Between Resets\": {\"sum\": 232.0, \"count\": 1, \"min\": 232, \"max\": 232}, \"Max Batches Seen Between Resets\": {\"sum\": 1.0, \"count\": 1, \"min\": 1, \"max\": 1}, \"Reset Count\": {\"sum\": 0.0, \"count\": 1, \"min\": 0, \"max\": 0}, \"Number of Records Since Last Reset\": {\"sum\": 232.0, \"count\": 1, \"min\": 232, \"max\": 232}, \"Number of Batches Since Last Reset\": {\"sum\": 1.0, \"count\": 1, \"min\": 1, \"max\": 1}}}\u001b[0m\n",
      "\u001b[34m[2022-03-20 21:52:01.981] [tensorio] [info] epoch_stats={\"data_pipeline\": \"/opt/ml/input/data/train\", \"epoch\": 0, \"duration\": 71, \"num_examples\": 1, \"num_bytes\": 10208}\u001b[0m\n",
      "\u001b[34m[2022-03-20 21:52:02.066] [tensorio] [info] epoch_stats={\"data_pipeline\": \"/opt/ml/input/data/train\", \"epoch\": 1, \"duration\": 78, \"num_examples\": 1, \"num_bytes\": 10208}\u001b[0m\n",
      "\u001b[34m[03/20/2022 21:52:02 INFO 140022146594624] processed a total of 232 examples\u001b[0m\n",
      "\u001b[34m[03/20/2022 21:52:02 INFO 140022146594624] #progress_metric: host=algo-1, completed 100.0 % of epochs\u001b[0m\n",
      "\u001b[34m#metrics {\"StartTime\": 1647813121.981595, \"EndTime\": 1647813122.066592, \"Dimensions\": {\"Algorithm\": \"AWS/KMeansWebscale\", \"Host\": \"algo-1\", \"Operation\": \"training\", \"epoch\": 0, \"Meta\": \"training_data_iter\"}, \"Metrics\": {\"Total Records Seen\": {\"sum\": 464.0, \"count\": 1, \"min\": 464, \"max\": 464}, \"Total Batches Seen\": {\"sum\": 2.0, \"count\": 1, \"min\": 2, \"max\": 2}, \"Max Records Seen Between Resets\": {\"sum\": 232.0, \"count\": 1, \"min\": 232, \"max\": 232}, \"Max Batches Seen Between Resets\": {\"sum\": 1.0, \"count\": 1, \"min\": 1, \"max\": 1}, \"Reset Count\": {\"sum\": 1.0, \"count\": 1, \"min\": 1, \"max\": 1}, \"Number of Records Since Last Reset\": {\"sum\": 232.0, \"count\": 1, \"min\": 232, \"max\": 232}, \"Number of Batches Since Last Reset\": {\"sum\": 1.0, \"count\": 1, \"min\": 1, \"max\": 1}}}\u001b[0m\n",
      "\u001b[34m[03/20/2022 21:52:02 INFO 140022146594624] #throughput_metric: host=algo-1, train throughput=2724.717968246857 records/second\u001b[0m\n",
      "\u001b[34m[03/20/2022 21:52:02 WARNING 140022146594624] wait_for_all_workers will not sync workers since the kv store is not running distributed\u001b[0m\n",
      "\u001b[34m[03/20/2022 21:52:02 INFO 140022146594624] shrinking 50 centers into 5\u001b[0m\n",
      "\u001b[34m[03/20/2022 21:52:02 INFO 140022146594624] local kmeans attempt #0. Current mean square distance 0.116801\u001b[0m\n",
      "\u001b[34m[03/20/2022 21:52:02 INFO 140022146594624] local kmeans attempt #1. Current mean square distance 0.114494\u001b[0m\n",
      "\u001b[34m[03/20/2022 21:52:02 INFO 140022146594624] local kmeans attempt #2. Current mean square distance 0.112301\u001b[0m\n",
      "\u001b[34m[03/20/2022 21:52:02 INFO 140022146594624] local kmeans attempt #3. Current mean square distance 0.120890\u001b[0m\n",
      "\u001b[34m[03/20/2022 21:52:02 INFO 140022146594624] local kmeans attempt #4. Current mean square distance 0.113375\u001b[0m\n",
      "\u001b[34m[03/20/2022 21:52:02 INFO 140022146594624] local kmeans attempt #5. Current mean square distance 0.112289\u001b[0m\n",
      "\u001b[34m[03/20/2022 21:52:02 INFO 140022146594624] local kmeans attempt #6. Current mean square distance 0.110527\u001b[0m\n",
      "\u001b[34m[03/20/2022 21:52:02 INFO 140022146594624] local kmeans attempt #7. Current mean square distance 0.111342\u001b[0m\n",
      "\u001b[34m[03/20/2022 21:52:02 INFO 140022146594624] local kmeans attempt #8. Current mean square distance 0.119512\u001b[0m\n",
      "\u001b[34m[03/20/2022 21:52:02 INFO 140022146594624] local kmeans attempt #9. Current mean square distance 0.112704\u001b[0m\n",
      "\u001b[34m[03/20/2022 21:52:02 INFO 140022146594624] finished shrinking process. Mean Square Distance = 0\u001b[0m\n",
      "\u001b[34m[03/20/2022 21:52:02 INFO 140022146594624] #quality_metric: host=algo-1, train msd <loss>=0.1105271577835083\u001b[0m\n",
      "\u001b[34m[03/20/2022 21:52:02 INFO 140022146594624] compute all data-center distances: inner product took: 40.3739%, (0.037954 secs)\u001b[0m\n",
      "\u001b[34m[03/20/2022 21:52:02 INFO 140022146594624] collect from kv store took: 10.9254%, (0.010271 secs)\u001b[0m\n",
      "\u001b[34m[03/20/2022 21:52:02 INFO 140022146594624] splitting centers key-value pair took: 10.7346%, (0.010091 secs)\u001b[0m\n",
      "\u001b[34m[03/20/2022 21:52:02 INFO 140022146594624] gradient: one_hot took: 8.2010%, (0.007710 secs)\u001b[0m\n",
      "\u001b[34m[03/20/2022 21:52:02 INFO 140022146594624] gradient: cluster center took: 7.8822%, (0.007410 secs)\u001b[0m\n",
      "\u001b[34m[03/20/2022 21:52:02 INFO 140022146594624] compute all data-center distances: point norm took: 7.4488%, (0.007002 secs)\u001b[0m\n",
      "\u001b[34m[03/20/2022 21:52:02 INFO 140022146594624] batch data loading with context took: 7.2317%, (0.006798 secs)\u001b[0m\n",
      "\u001b[34m[03/20/2022 21:52:02 INFO 140022146594624] predict compute msd took: 4.0229%, (0.003782 secs)\u001b[0m\n",
      "\u001b[34m[03/20/2022 21:52:02 INFO 140022146594624] update state and report convergance took: 2.0860%, (0.001961 secs)\u001b[0m\n",
      "\u001b[34m[03/20/2022 21:52:02 INFO 140022146594624] update set-up time took: 0.4672%, (0.000439 secs)\u001b[0m\n",
      "\u001b[34m[03/20/2022 21:52:02 INFO 140022146594624] gradient: cluster size  took: 0.3835%, (0.000360 secs)\u001b[0m\n",
      "\u001b[34m[03/20/2022 21:52:02 INFO 140022146594624] compute all data-center distances: center norm took: 0.2006%, (0.000189 secs)\u001b[0m\n",
      "\u001b[34m[03/20/2022 21:52:02 INFO 140022146594624] predict minus dist took: 0.0424%, (0.000040 secs)\u001b[0m\n",
      "\u001b[34m[03/20/2022 21:52:02 INFO 140022146594624] TOTAL took: 0.09400701522827148\u001b[0m\n",
      "\u001b[34m[03/20/2022 21:52:02 INFO 140022146594624] Number of GPUs being used: 0\u001b[0m\n",
      "\u001b[34m#metrics {\"StartTime\": 1647813121.9094996, \"EndTime\": 1647813122.376626, \"Dimensions\": {\"Algorithm\": \"AWS/KMeansWebscale\", \"Host\": \"algo-1\", \"Operation\": \"training\"}, \"Metrics\": {\"initialize.time\": {\"sum\": 63.12131881713867, \"count\": 1, \"min\": 63.12131881713867, \"max\": 63.12131881713867}, \"epochs\": {\"sum\": 1.0, \"count\": 1, \"min\": 1, \"max\": 1}, \"update.time\": {\"sum\": 84.77449417114258, \"count\": 1, \"min\": 84.77449417114258, \"max\": 84.77449417114258}, \"_shrink.time\": {\"sum\": 304.4726848602295, \"count\": 1, \"min\": 304.4726848602295, \"max\": 304.4726848602295}, \"finalize.time\": {\"sum\": 306.6294193267822, \"count\": 1, \"min\": 306.6294193267822, \"max\": 306.6294193267822}, \"model.serialize.time\": {\"sum\": 3.018617630004883, \"count\": 1, \"min\": 3.018617630004883, \"max\": 3.018617630004883}}}\u001b[0m\n",
      "\u001b[34m[03/20/2022 21:52:02 INFO 140022146594624] Test data is not provided.\u001b[0m\n",
      "\u001b[34m#metrics {\"StartTime\": 1647813122.3767333, \"EndTime\": 1647813122.3770535, \"Dimensions\": {\"Algorithm\": \"AWS/KMeansWebscale\", \"Host\": \"algo-1\", \"Operation\": \"training\"}, \"Metrics\": {\"setuptime\": {\"sum\": 23.49257469177246, \"count\": 1, \"min\": 23.49257469177246, \"max\": 23.49257469177246}, \"totaltime\": {\"sum\": 584.7704410552979, \"count\": 1, \"min\": 584.7704410552979, \"max\": 584.7704410552979}}}\u001b[0m\n",
      "\u001b[34m[03/20/2022 21:52:02 INFO 140022146594624 integration.py:636] worker closed\u001b[0m\n",
      "\n",
      "2022-03-20 21:52:30 Uploading - Uploading generated training model\n",
      "2022-03-20 21:52:30 Completed - Training job completed\n",
      "Training seconds: 72\n",
      "Billable seconds: 72\n",
      "CPU times: user 641 ms, sys: 22.4 ms, total: 664 ms\n",
      "Wall time: 3min 44s\n"
     ]
    }
   ],
   "source": [
    "%%time\n",
    "kmeans.fit(kmeans.record_set(train_data))"
   ]
  },
  {
   "cell_type": "code",
   "execution_count": 42,
   "id": "a2554d0d",
   "metadata": {},
   "outputs": [
    {
     "name": "stderr",
     "output_type": "stream",
     "text": [
      "Defaulting to the only supported framework/algorithm version: 1. Ignoring framework/algorithm version: 1.\n"
     ]
    },
    {
     "name": "stdout",
     "output_type": "stream",
     "text": [
      "--------!CPU times: user 162 ms, sys: 299 µs, total: 162 ms\n",
      "Wall time: 4min 2s\n"
     ]
    }
   ],
   "source": [
    "%%time\n",
    "kmeans_predictor = kmeans.deploy(initial_instance_count=1, instance_type=\"ml.t2.medium\")"
   ]
  },
  {
   "cell_type": "code",
   "execution_count": 43,
   "id": "44a065e5",
   "metadata": {},
   "outputs": [
    {
     "name": "stdout",
     "output_type": "stream",
     "text": [
      "CPU times: user 25.6 ms, sys: 0 ns, total: 25.6 ms\n",
      "Wall time: 225 ms\n"
     ]
    }
   ],
   "source": [
    "%%time\n",
    "result = kmeans_predictor.predict(train_data)"
   ]
  },
  {
   "cell_type": "code",
   "execution_count": 58,
   "id": "9245acda",
   "metadata": {},
   "outputs": [],
   "source": [
    "#result"
   ]
  },
  {
   "cell_type": "code",
   "execution_count": 45,
   "id": "05f5bc6e",
   "metadata": {},
   "outputs": [],
   "source": [
    "cluster_labels = [r.label[\"closest_cluster\"].float32_tensor.values[0] for r in result]"
   ]
  },
  {
   "cell_type": "code",
   "execution_count": 46,
   "id": "9ac94021",
   "metadata": {},
   "outputs": [
    {
     "data": {
      "text/plain": [
       "0.0    68\n",
       "2.0    56\n",
       "4.0    49\n",
       "1.0    32\n",
       "3.0    27\n",
       "Name: 0, dtype: int64"
      ]
     },
     "execution_count": 46,
     "metadata": {},
     "output_type": "execute_result"
    }
   ],
   "source": [
    "pd.DataFrame(cluster_labels)[0].value_counts()"
   ]
  },
  {
   "cell_type": "code",
   "execution_count": 47,
   "id": "f203a541",
   "metadata": {},
   "outputs": [
    {
     "data": {
      "image/png": "[encoded data removed]",
      "text/plain": [
       "<Figure size 360x360 with 1 Axes>"
      ]
     },
     "metadata": {},
     "output_type": "display_data"
    }
   ],
   "source": [
    "#ax = plt.subplots(figsize=(6, 3))\n",
    "ax = sns.displot(cluster_labels, kde=False)\n",
    "title = \"Histogram of Cluster Counts\"\n",
    "#ax.set_title(title, fontsize=12)\n",
    "plt.show()"
   ]
  },
  {
   "cell_type": "markdown",
   "id": "b1d0844b",
   "metadata": {},
   "source": [
    "## Step 4: Drawing conclusions from our modelling\n",
    "\n",
    " Accessing the KMeans model attributes"
   ]
  },
  {
   "cell_type": "code",
   "execution_count": 48,
   "id": "c1c4902b",
   "metadata": {},
   "outputs": [
    {
     "data": {
      "text/plain": [
       "0"
      ]
     },
     "execution_count": 48,
     "metadata": {},
     "output_type": "execute_result"
    }
   ],
   "source": [
    "job_name = kmeans.latest_training_job.name\n",
    "model_key = \"stores/\" + job_name + \"/output/model.tar.gz\"\n",
    "\n",
    "boto3.resource(\"s3\").Bucket(bucket).download_file(model_key, \"model.tar.gz\")\n",
    "os.system(\"tar -zxvf model.tar.gz\")"
   ]
  },
  {
   "cell_type": "code",
   "execution_count": 49,
   "id": "4b54ca37",
   "metadata": {},
   "outputs": [],
   "source": [
    "Kmeans_model_params = mx.ndarray.load(\"model_algo-1\")"
   ]
  },
  {
   "cell_type": "code",
   "execution_count": 51,
   "id": "294d9ab6",
   "metadata": {},
   "outputs": [],
   "source": [
    "cluster_centroids = pd.DataFrame(Kmeans_model_params[0].asnumpy())\n",
    "cluster_centroids.columns = stores_transformed.columns"
   ]
  },
  {
   "cell_type": "code",
   "execution_count": 52,
   "id": "9eee53f3",
   "metadata": {},
   "outputs": [
    {
     "data": {
      "text/html": [
       "<div>\n",
       "<style scoped>\n",
       "    .dataframe tbody tr th:only-of-type {\n",
       "        vertical-align: middle;\n",
       "    }\n",
       "\n",
       "    .dataframe tbody tr th {\n",
       "        vertical-align: top;\n",
       "    }\n",
       "\n",
       "    .dataframe thead th {\n",
       "        text-align: right;\n",
       "    }\n",
       "</style>\n",
       "<table border=\"1\" class=\"dataframe\">\n",
       "  <thead>\n",
       "    <tr style=\"text-align: right;\">\n",
       "      <th></th>\n",
       "      <th>comp_1</th>\n",
       "      <th>comp_2</th>\n",
       "      <th>comp_3</th>\n",
       "      <th>comp_4</th>\n",
       "      <th>comp_5</th>\n",
       "    </tr>\n",
       "  </thead>\n",
       "  <tbody>\n",
       "    <tr>\n",
       "      <th>0</th>\n",
       "      <td>0.010377</td>\n",
       "      <td>-0.017335</td>\n",
       "      <td>0.023724</td>\n",
       "      <td>-0.037963</td>\n",
       "      <td>0.457816</td>\n",
       "    </tr>\n",
       "    <tr>\n",
       "      <th>1</th>\n",
       "      <td>-0.070833</td>\n",
       "      <td>0.035233</td>\n",
       "      <td>0.046659</td>\n",
       "      <td>0.250254</td>\n",
       "      <td>-0.280435</td>\n",
       "    </tr>\n",
       "    <tr>\n",
       "      <th>2</th>\n",
       "      <td>0.037532</td>\n",
       "      <td>-0.054437</td>\n",
       "      <td>-0.045180</td>\n",
       "      <td>-0.101859</td>\n",
       "      <td>-0.149196</td>\n",
       "    </tr>\n",
       "    <tr>\n",
       "      <th>3</th>\n",
       "      <td>0.059790</td>\n",
       "      <td>-0.101028</td>\n",
       "      <td>0.060960</td>\n",
       "      <td>-0.131923</td>\n",
       "      <td>-0.745937</td>\n",
       "    </tr>\n",
       "    <tr>\n",
       "      <th>4</th>\n",
       "      <td>-0.031757</td>\n",
       "      <td>0.116508</td>\n",
       "      <td>-0.054050</td>\n",
       "      <td>0.130278</td>\n",
       "      <td>0.131755</td>\n",
       "    </tr>\n",
       "  </tbody>\n",
       "</table>\n",
       "</div>"
      ],
      "text/plain": [
       "     comp_1    comp_2    comp_3    comp_4    comp_5\n",
       "0  0.010377 -0.017335  0.023724 -0.037963  0.457816\n",
       "1 -0.070833  0.035233  0.046659  0.250254 -0.280435\n",
       "2  0.037532 -0.054437 -0.045180 -0.101859 -0.149196\n",
       "3  0.059790 -0.101028  0.060960 -0.131923 -0.745937\n",
       "4 -0.031757  0.116508 -0.054050  0.130278  0.131755"
      ]
     },
     "execution_count": 52,
     "metadata": {},
     "output_type": "execute_result"
    }
   ],
   "source": [
    "cluster_centroids"
   ]
  },
  {
   "cell_type": "markdown",
   "id": "2f3ae28f",
   "metadata": {},
   "source": [
    "We can plot a heatmap of the centroids and their location in the transformed feature space. This gives us insight into what characteristics define each cluster. Often with unsupervised learning, results are hard to interpret. This is one way to make use of the results of PCA plus clustering techniques together. Since we were able to examine the makeup of each PCA component, we can understand what each centroid represents in terms of the PCA components that we interpreted previously.\n",
    "\n",
    "For example, we can see that cluster 0 has the highest value in the \"Cigarettes & Hot beverages\" attribute while it has the lowest value in the \"Alcoholic beverages/Refrigerated Food Products\" attribute compared with other clusters."
   ]
  },
  {
   "cell_type": "code",
   "execution_count": 53,
   "id": "3d1a55fc",
   "metadata": {},
   "outputs": [
    {
     "data": {
      "image/png": "[encoded data removed]",
      "text/plain": [
       "<Figure size 1152x432 with 2 Axes>"
      ]
     },
     "metadata": {},
     "output_type": "display_data"
    }
   ],
   "source": [
    "plt.figure(figsize=(16, 6))\n",
    "ax = sns.heatmap(cluster_centroids.T, cmap=\"YlGnBu\")\n",
    "ax.set_xlabel(\"Cluster\")\n",
    "plt.yticks(fontsize=16)\n",
    "plt.xticks(fontsize=16)\n",
    "ax.set_title(\"Attribute Value by Centroid\")\n",
    "plt.show()"
   ]
  },
  {
   "cell_type": "code",
   "execution_count": 54,
   "id": "b84cfd99",
   "metadata": {},
   "outputs": [
    {
     "data": {
      "text/html": [
       "<div>\n",
       "<style scoped>\n",
       "    .dataframe tbody tr th:only-of-type {\n",
       "        vertical-align: middle;\n",
       "    }\n",
       "\n",
       "    .dataframe tbody tr th {\n",
       "        vertical-align: top;\n",
       "    }\n",
       "\n",
       "    .dataframe thead th {\n",
       "        text-align: right;\n",
       "    }\n",
       "</style>\n",
       "<table border=\"1\" class=\"dataframe\">\n",
       "  <thead>\n",
       "    <tr style=\"text-align: right;\">\n",
       "      <th></th>\n",
       "      <th>comp_1</th>\n",
       "      <th>comp_2</th>\n",
       "      <th>comp_3</th>\n",
       "      <th>comp_4</th>\n",
       "      <th>comp_5</th>\n",
       "      <th>labels</th>\n",
       "    </tr>\n",
       "    <tr>\n",
       "      <th>store_num</th>\n",
       "      <th></th>\n",
       "      <th></th>\n",
       "      <th></th>\n",
       "      <th></th>\n",
       "      <th></th>\n",
       "      <th></th>\n",
       "    </tr>\n",
       "  </thead>\n",
       "  <tbody>\n",
       "    <tr>\n",
       "      <th>35694</th>\n",
       "      <td>0.127237</td>\n",
       "      <td>0.028037</td>\n",
       "      <td>0.186221</td>\n",
       "      <td>-0.031350</td>\n",
       "      <td>0.327659</td>\n",
       "      <td>0</td>\n",
       "    </tr>\n",
       "    <tr>\n",
       "      <th>35351</th>\n",
       "      <td>0.062257</td>\n",
       "      <td>-0.197614</td>\n",
       "      <td>0.136682</td>\n",
       "      <td>-0.222220</td>\n",
       "      <td>-0.563237</td>\n",
       "      <td>3</td>\n",
       "    </tr>\n",
       "    <tr>\n",
       "      <th>37297</th>\n",
       "      <td>0.144425</td>\n",
       "      <td>-0.197572</td>\n",
       "      <td>-0.133326</td>\n",
       "      <td>-0.025704</td>\n",
       "      <td>0.152315</td>\n",
       "      <td>2</td>\n",
       "    </tr>\n",
       "    <tr>\n",
       "      <th>32648</th>\n",
       "      <td>-0.118093</td>\n",
       "      <td>-0.178635</td>\n",
       "      <td>-0.052778</td>\n",
       "      <td>-0.095616</td>\n",
       "      <td>0.532628</td>\n",
       "      <td>0</td>\n",
       "    </tr>\n",
       "    <tr>\n",
       "      <th>34197</th>\n",
       "      <td>0.022939</td>\n",
       "      <td>0.082699</td>\n",
       "      <td>0.112360</td>\n",
       "      <td>0.203223</td>\n",
       "      <td>0.185144</td>\n",
       "      <td>4</td>\n",
       "    </tr>\n",
       "  </tbody>\n",
       "</table>\n",
       "</div>"
      ],
      "text/plain": [
       "             comp_1    comp_2    comp_3    comp_4    comp_5  labels\n",
       "store_num                                                          \n",
       "35694      0.127237  0.028037  0.186221 -0.031350  0.327659       0\n",
       "35351      0.062257 -0.197614  0.136682 -0.222220 -0.563237       3\n",
       "37297      0.144425 -0.197572 -0.133326 -0.025704  0.152315       2\n",
       "32648     -0.118093 -0.178635 -0.052778 -0.095616  0.532628       0\n",
       "34197      0.022939  0.082699  0.112360  0.203223  0.185144       4"
      ]
     },
     "execution_count": 54,
     "metadata": {},
     "output_type": "execute_result"
    }
   ],
   "source": [
    "stores_transformed[\"labels\"] = list(map(int, cluster_labels))\n",
    "stores_transformed.head()"
   ]
  },
  {
   "cell_type": "code",
   "execution_count": 55,
   "id": "1c599071",
   "metadata": {},
   "outputs": [
    {
     "data": {
      "text/html": [
       "<div>\n",
       "<style scoped>\n",
       "    .dataframe tbody tr th:only-of-type {\n",
       "        vertical-align: middle;\n",
       "    }\n",
       "\n",
       "    .dataframe tbody tr th {\n",
       "        vertical-align: top;\n",
       "    }\n",
       "\n",
       "    .dataframe thead th {\n",
       "        text-align: right;\n",
       "    }\n",
       "</style>\n",
       "<table border=\"1\" class=\"dataframe\">\n",
       "  <thead>\n",
       "    <tr style=\"text-align: right;\">\n",
       "      <th></th>\n",
       "      <th>comp_1</th>\n",
       "      <th>comp_2</th>\n",
       "      <th>comp_3</th>\n",
       "      <th>comp_4</th>\n",
       "      <th>comp_5</th>\n",
       "      <th>labels</th>\n",
       "    </tr>\n",
       "    <tr>\n",
       "      <th>store_num</th>\n",
       "      <th></th>\n",
       "      <th></th>\n",
       "      <th></th>\n",
       "      <th></th>\n",
       "      <th></th>\n",
       "      <th></th>\n",
       "    </tr>\n",
       "  </thead>\n",
       "  <tbody>\n",
       "    <tr>\n",
       "      <th>33484</th>\n",
       "      <td>0.041247</td>\n",
       "      <td>0.059064</td>\n",
       "      <td>0.023924</td>\n",
       "      <td>0.282092</td>\n",
       "      <td>-0.070623</td>\n",
       "      <td>1</td>\n",
       "    </tr>\n",
       "    <tr>\n",
       "      <th>36499</th>\n",
       "      <td>0.029673</td>\n",
       "      <td>-0.189973</td>\n",
       "      <td>0.182867</td>\n",
       "      <td>0.078983</td>\n",
       "      <td>-0.274010</td>\n",
       "      <td>1</td>\n",
       "    </tr>\n",
       "    <tr>\n",
       "      <th>37210</th>\n",
       "      <td>0.086438</td>\n",
       "      <td>0.173937</td>\n",
       "      <td>-0.030023</td>\n",
       "      <td>0.372600</td>\n",
       "      <td>-0.094088</td>\n",
       "      <td>1</td>\n",
       "    </tr>\n",
       "    <tr>\n",
       "      <th>33264</th>\n",
       "      <td>-0.035569</td>\n",
       "      <td>0.065737</td>\n",
       "      <td>0.171699</td>\n",
       "      <td>0.450601</td>\n",
       "      <td>-0.071144</td>\n",
       "      <td>1</td>\n",
       "    </tr>\n",
       "    <tr>\n",
       "      <th>19969</th>\n",
       "      <td>-0.476131</td>\n",
       "      <td>0.193603</td>\n",
       "      <td>0.403274</td>\n",
       "      <td>0.092511</td>\n",
       "      <td>-0.127449</td>\n",
       "      <td>1</td>\n",
       "    </tr>\n",
       "  </tbody>\n",
       "</table>\n",
       "</div>"
      ],
      "text/plain": [
       "             comp_1    comp_2    comp_3    comp_4    comp_5  labels\n",
       "store_num                                                          \n",
       "33484      0.041247  0.059064  0.023924  0.282092 -0.070623       1\n",
       "36499      0.029673 -0.189973  0.182867  0.078983 -0.274010       1\n",
       "37210      0.086438  0.173937 -0.030023  0.372600 -0.094088       1\n",
       "33264     -0.035569  0.065737  0.171699  0.450601 -0.071144       1\n",
       "19969     -0.476131  0.193603  0.403274  0.092511 -0.127449       1"
      ]
     },
     "execution_count": 55,
     "metadata": {},
     "output_type": "execute_result"
    }
   ],
   "source": [
    "cluster = stores_transformed[stores_transformed[\"labels\"] == 1]\n",
    "cluster.head(5)"
   ]
  },
  {
   "cell_type": "code",
   "execution_count": 56,
   "id": "9d6eb735",
   "metadata": {},
   "outputs": [],
   "source": [
    "pca_predictor.delete_endpoint()"
   ]
  },
  {
   "cell_type": "code",
   "execution_count": 57,
   "id": "17084f5f",
   "metadata": {},
   "outputs": [],
   "source": [
    "kmeans_predictor.delete_endpoint()"
   ]
  }
 ],
 "metadata": {
  "kernelspec": {
   "display_name": "conda_python3",
   "language": "python",
   "name": "conda_python3"
  },
  "language_info": {
   "codemirror_mode": {
    "name": "ipython",
    "version": 3
   },
   "file_extension": ".py",
   "mimetype": "text/x-python",
   "name": "python",
   "nbconvert_exporter": "python",
   "pygments_lexer": "ipython3",
   "version": "3.6.13"
  }
 },
 "nbformat": 4,
 "nbformat_minor": 5
}
