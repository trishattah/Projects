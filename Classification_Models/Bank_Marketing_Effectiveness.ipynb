{
 "cells": [
  {
   "cell_type": "markdown",
   "metadata": {},
   "source": [
    "# Bank Marketing Effectiveness A/B Test with XGboost AWS Sagemaker\n",
    "\n",
    "This study is accessing bank marketing strategies and their effectiveness in getting a subscription. It is a binary data set which specifies whether the induvidual subscribed or not. the Approach taken on this data was direct marketing which include direct phonecalls and emails and how many were sent out before if any subscription was made.\n",
    "\n",
    "Features:\n",
    "1. age (numeric)\n",
    "2. job : type of job (categorical: 'admin.','blue-collar','entrepreneur','housemaid','management','retired','self-employed','services','student','technician','unemployed','unknown')\n",
    "3. marital : marital status (categorical: 'divorced','married','single','unknown'; note: 'divorced' means divorced or widowed)\n",
    "4. education (categorical: 'basic.4y','basic.6y','basic.9y','high.school','illiterate','professional.course','university.degree','unknown')\n",
    "5. default: has credit in default? (categorical: 'no','yes','unknown')\n",
    "6. housing: has housing loan? (categorical: 'no','yes','unknown')\n",
    "7. loan: has personal loan? (categorical: 'no','yes','unknown')\n",
    "8. contact: contact communication type (categorical: 'cellular','telephone')\n",
    "9. month: last contact month of year (categorical: 'jan', 'feb', 'mar', ..., 'nov', 'dec')\n",
    "10. day_of_week: last contact day of the week (categorical: 'mon','tue','wed','thu','fri')\n",
    "11. duration: last contact duration, in seconds (numeric). Important note: this attribute highly affects the output target (e.g., if duration=0 then y='no'). Yet, the duration is not known before a call is performed. Also, after the end of the call y is obviously known. Thus, this input should only be included for benchmark purposes and should be discarded if the intention is to have a realistic predictive model.\n",
    "12. campaign: number of contacts performed during this campaign and for this client (numeric, includes last contact)\n",
    "13. pdays: number of days that passed by after the client was last contacted from a previous campaign (numeric; 999 means client was not previously contacted)\n",
    "14. previous: number of contacts performed before this campaign and for this client (numeric)\n",
    "15. poutcome: outcome of the previous marketing campaign (categorical: 'failure','nonexistent','success')\n",
    "16. emp.var.rate: employment variation rate - quarterly indicator (numeric)\n",
    "17. cons.price.idx: consumer price index - monthly indicator (numeric)\n",
    "18. cons.conf.idx: consumer confidence index - monthly indicator (numeric)\n",
    "19. euribor3m: euribor 3 month rate - daily indicator (numeric)\n",
    "20. nr.employed: number of employees - quarterly indicator (numeric)\n",
    "\n",
    "-Output variable (desired target):\n",
    "21. y - has the client subscribed a term deposit? (binary: 'yes','no')\n",
    "\n",
    "\n",
    "\n",
    "#### STEPS:\n",
    "1. Transform data\n",
    "2. Hyperparameter Tuning\n",
    "3. Create experiments instance \n",
    "4. Create multi model end point\n",
    "5. Deploy Endpoint\n",
    "6. Invoke endpoints and results\n",
    "7. Result Interpretation"
   ]
  },
  {
   "cell_type": "code",
   "execution_count": 1,
   "metadata": {},
   "outputs": [],
   "source": [
    "import sagemaker, boto3\n",
    "\n",
    "session = boto3.Session()\n",
    "sagemaker_session = sagemaker.Session(boto_session=session)\n",
    "sagemaker_client = session.client('sagemaker')\n",
    "role = sagemaker.get_execution_role()"
   ]
  },
  {
   "cell_type": "code",
   "execution_count": 2,
   "metadata": {},
   "outputs": [],
   "source": [
    "import time, os, sys\n",
    "import numpy as np\n",
    "import pandas as pd\n",
    "import itertools\n",
    "from sklearn.preprocessing import LabelEncoder\n",
    "\n",
    "from pprint import pprint"
   ]
  },
  {
   "cell_type": "markdown",
   "metadata": {},
   "source": [
    "### 1. Transform data\n",
    "Here the categorical data is one hot encoded to be in correct format for machine learing algorithm also the target variable is label encoded"
   ]
  },
  {
   "cell_type": "code",
   "execution_count": 3,
   "metadata": {},
   "outputs": [
    {
     "data": {
      "text/html": [
       "<div>\n",
       "<style scoped>\n",
       "    .dataframe tbody tr th:only-of-type {\n",
       "        vertical-align: middle;\n",
       "    }\n",
       "\n",
       "    .dataframe tbody tr th {\n",
       "        vertical-align: top;\n",
       "    }\n",
       "\n",
       "    .dataframe thead th {\n",
       "        text-align: right;\n",
       "    }\n",
       "</style>\n",
       "<table border=\"1\" class=\"dataframe\">\n",
       "  <thead>\n",
       "    <tr style=\"text-align: right;\">\n",
       "      <th></th>\n",
       "      <th>y</th>\n",
       "      <th>age</th>\n",
       "      <th>job</th>\n",
       "      <th>balance</th>\n",
       "      <th>day</th>\n",
       "      <th>duration</th>\n",
       "      <th>campaign</th>\n",
       "      <th>pdays</th>\n",
       "      <th>previous</th>\n",
       "      <th>marital_married</th>\n",
       "      <th>...</th>\n",
       "      <th>education_tertiary</th>\n",
       "      <th>education_unknown</th>\n",
       "      <th>default_yes</th>\n",
       "      <th>housing_yes</th>\n",
       "      <th>loan_yes</th>\n",
       "      <th>contact_telephone</th>\n",
       "      <th>contact_unknown</th>\n",
       "      <th>poutcome_other</th>\n",
       "      <th>poutcome_success</th>\n",
       "      <th>poutcome_unknown</th>\n",
       "    </tr>\n",
       "  </thead>\n",
       "  <tbody>\n",
       "    <tr>\n",
       "      <th>617</th>\n",
       "      <td>0</td>\n",
       "      <td>31</td>\n",
       "      <td>4</td>\n",
       "      <td>36</td>\n",
       "      <td>27</td>\n",
       "      <td>105</td>\n",
       "      <td>2</td>\n",
       "      <td>-1</td>\n",
       "      <td>0</td>\n",
       "      <td>0</td>\n",
       "      <td>...</td>\n",
       "      <td>0</td>\n",
       "      <td>0</td>\n",
       "      <td>0</td>\n",
       "      <td>0</td>\n",
       "      <td>0</td>\n",
       "      <td>0</td>\n",
       "      <td>0</td>\n",
       "      <td>0</td>\n",
       "      <td>0</td>\n",
       "      <td>1</td>\n",
       "    </tr>\n",
       "    <tr>\n",
       "      <th>162</th>\n",
       "      <td>0</td>\n",
       "      <td>41</td>\n",
       "      <td>0</td>\n",
       "      <td>-256</td>\n",
       "      <td>9</td>\n",
       "      <td>35</td>\n",
       "      <td>3</td>\n",
       "      <td>-1</td>\n",
       "      <td>0</td>\n",
       "      <td>0</td>\n",
       "      <td>...</td>\n",
       "      <td>0</td>\n",
       "      <td>0</td>\n",
       "      <td>0</td>\n",
       "      <td>0</td>\n",
       "      <td>1</td>\n",
       "      <td>0</td>\n",
       "      <td>1</td>\n",
       "      <td>0</td>\n",
       "      <td>0</td>\n",
       "      <td>1</td>\n",
       "    </tr>\n",
       "    <tr>\n",
       "      <th>336</th>\n",
       "      <td>0</td>\n",
       "      <td>33</td>\n",
       "      <td>1</td>\n",
       "      <td>-195</td>\n",
       "      <td>20</td>\n",
       "      <td>9</td>\n",
       "      <td>1</td>\n",
       "      <td>-1</td>\n",
       "      <td>0</td>\n",
       "      <td>1</td>\n",
       "      <td>...</td>\n",
       "      <td>0</td>\n",
       "      <td>0</td>\n",
       "      <td>0</td>\n",
       "      <td>0</td>\n",
       "      <td>0</td>\n",
       "      <td>0</td>\n",
       "      <td>1</td>\n",
       "      <td>0</td>\n",
       "      <td>0</td>\n",
       "      <td>1</td>\n",
       "    </tr>\n",
       "    <tr>\n",
       "      <th>460</th>\n",
       "      <td>0</td>\n",
       "      <td>55</td>\n",
       "      <td>10</td>\n",
       "      <td>383</td>\n",
       "      <td>6</td>\n",
       "      <td>343</td>\n",
       "      <td>3</td>\n",
       "      <td>-1</td>\n",
       "      <td>0</td>\n",
       "      <td>1</td>\n",
       "      <td>...</td>\n",
       "      <td>1</td>\n",
       "      <td>0</td>\n",
       "      <td>0</td>\n",
       "      <td>0</td>\n",
       "      <td>0</td>\n",
       "      <td>0</td>\n",
       "      <td>1</td>\n",
       "      <td>0</td>\n",
       "      <td>0</td>\n",
       "      <td>1</td>\n",
       "    </tr>\n",
       "    <tr>\n",
       "      <th>492</th>\n",
       "      <td>1</td>\n",
       "      <td>53</td>\n",
       "      <td>0</td>\n",
       "      <td>1796</td>\n",
       "      <td>16</td>\n",
       "      <td>295</td>\n",
       "      <td>1</td>\n",
       "      <td>91</td>\n",
       "      <td>2</td>\n",
       "      <td>1</td>\n",
       "      <td>...</td>\n",
       "      <td>0</td>\n",
       "      <td>0</td>\n",
       "      <td>0</td>\n",
       "      <td>0</td>\n",
       "      <td>0</td>\n",
       "      <td>1</td>\n",
       "      <td>0</td>\n",
       "      <td>0</td>\n",
       "      <td>1</td>\n",
       "      <td>0</td>\n",
       "    </tr>\n",
       "  </tbody>\n",
       "</table>\n",
       "<p>5 rows × 22 columns</p>\n",
       "</div>"
      ],
      "text/plain": [
       "     y  age  job  balance  day  duration  campaign  pdays  previous  \\\n",
       "617  0   31    4       36   27       105         2     -1         0   \n",
       "162  0   41    0     -256    9        35         3     -1         0   \n",
       "336  0   33    1     -195   20         9         1     -1         0   \n",
       "460  0   55   10      383    6       343         3     -1         0   \n",
       "492  1   53    0     1796   16       295         1     91         2   \n",
       "\n",
       "     marital_married  ...  education_tertiary  education_unknown  default_yes  \\\n",
       "617                0  ...                   0                  0            0   \n",
       "162                0  ...                   0                  0            0   \n",
       "336                1  ...                   0                  0            0   \n",
       "460                1  ...                   1                  0            0   \n",
       "492                1  ...                   0                  0            0   \n",
       "\n",
       "     housing_yes  loan_yes  contact_telephone  contact_unknown  \\\n",
       "617            0         0                  0                0   \n",
       "162            0         1                  0                1   \n",
       "336            0         0                  0                1   \n",
       "460            0         0                  0                1   \n",
       "492            0         0                  1                0   \n",
       "\n",
       "     poutcome_other  poutcome_success  poutcome_unknown  \n",
       "617               0                 0                 1  \n",
       "162               0                 0                 1  \n",
       "336               0                 0                 1  \n",
       "460               0                 0                 1  \n",
       "492               0                 1                 0  \n",
       "\n",
       "[5 rows x 22 columns]"
      ]
     },
     "execution_count": 3,
     "metadata": {},
     "output_type": "execute_result"
    }
   ],
   "source": [
    "bank_data = pd.read_csv('bank_data_target.csv')\n",
    "bank_data = bank_data.drop(['month'],axis=1)\n",
    "cols = ['y', 'job']\n",
    "df = pd.get_dummies(bank_data, columns=['marital','education','default','housing','loan','contact',\n",
    "                                      'poutcome'],drop_first=True)\n",
    "df[cols] = df[cols].apply(LabelEncoder().fit_transform)\n",
    "df = df.sample(frac=1)\n",
    "all_dataset = df\n",
    "df.head()"
   ]
  },
  {
   "cell_type": "code",
   "execution_count": 142,
   "metadata": {},
   "outputs": [
    {
     "data": {
      "text/plain": [
       "0    1059\n",
       "1     141\n",
       "Name: y, dtype: int64"
      ]
     },
     "execution_count": 142,
     "metadata": {},
     "output_type": "execute_result"
    }
   ],
   "source": [
    "df['y'].value_counts()"
   ]
  },
  {
   "cell_type": "code",
   "execution_count": 5,
   "metadata": {},
   "outputs": [],
   "source": [
    "from sklearn.model_selection import train_test_split\n",
    "\n",
    "train_val, test = train_test_split(all_dataset, \n",
    "                                   test_size=0.15, \n",
    "                                   random_state=0)\n",
    "\n",
    "training, validation = train_test_split(train_val, \n",
    "                                        test_size=0.25, \n",
    "                                        random_state=0)"
   ]
  },
  {
   "cell_type": "code",
   "execution_count": 6,
   "metadata": {},
   "outputs": [],
   "source": [
    "!mkdir -p tmp"
   ]
  },
  {
   "cell_type": "code",
   "execution_count": 7,
   "metadata": {},
   "outputs": [],
   "source": [
    "training.to_csv('tmp/training_data.csv', header=False, index=False)\n",
    "validation.to_csv('tmp/validation_data.csv', header=False, index=False)\n",
    "test.to_csv('tmp/test_data.csv', header=False, index=False)"
   ]
  },
  {
   "cell_type": "code",
   "execution_count": 8,
   "metadata": {},
   "outputs": [],
   "source": [
    "test.to_csv('tmp/test_data2.csv', header=True, index=False)\n",
    "test2 = pd.read_csv('tmp/test_data2.csv')\n",
    "test_data2 = test2.drop(['y'],axis=1)\n",
    "test_data2.to_csv('tmp/test_data2.csv', header=False, index=False)"
   ]
  },
  {
   "cell_type": "code",
   "execution_count": 9,
   "metadata": {},
   "outputs": [],
   "source": [
    "s3_bucket = \"lexy-ml-sagemaker\"\n",
    "prefix = \"bank-project\"\n",
    "path = f\"s3://{s3_bucket}/{prefix}/input\""
   ]
  },
  {
   "cell_type": "code",
   "execution_count": 10,
   "metadata": {},
   "outputs": [
    {
     "name": "stdout",
     "output_type": "stream",
     "text": [
      "upload: tmp/training_data.csv to s3://lexy-ml-sagemaker/bank-project/input/training_data.csv\n",
      "upload: tmp/validation_data.csv to s3://lexy-ml-sagemaker/bank-project/input/validation_data.csv\n",
      "upload: tmp/test_data.csv to s3://lexy-ml-sagemaker/bank-project/input/test_data.csv\n"
     ]
    }
   ],
   "source": [
    "!aws s3 cp tmp/training_data.csv {path}/training_data.csv\n",
    "!aws s3 cp tmp/validation_data.csv {path}/validation_data.csv\n",
    "!aws s3 cp tmp/test_data.csv {path}/test_data.csv"
   ]
  },
  {
   "cell_type": "code",
   "execution_count": 11,
   "metadata": {},
   "outputs": [
    {
     "name": "stdout",
     "output_type": "stream",
     "text": [
      "/opt/conda/lib/python3.7/site-packages/secretstorage/dhcrypto.py:16: CryptographyDeprecationWarning: int_from_bytes is deprecated, use int.from_bytes instead\n",
      "  from cryptography.utils import int_from_bytes\n",
      "/opt/conda/lib/python3.7/site-packages/secretstorage/util.py:25: CryptographyDeprecationWarning: int_from_bytes is deprecated, use int.from_bytes instead\n",
      "  from cryptography.utils import int_from_bytes\n",
      "Requirement already satisfied: sagemaker-experiments in /opt/conda/lib/python3.7/site-packages (0.1.35)\n",
      "Requirement already satisfied: boto3>=1.16.27 in /opt/conda/lib/python3.7/site-packages (from sagemaker-experiments) (1.20.23)\n",
      "Requirement already satisfied: botocore<1.24.0,>=1.23.23 in /opt/conda/lib/python3.7/site-packages (from boto3>=1.16.27->sagemaker-experiments) (1.23.23)\n",
      "Requirement already satisfied: jmespath<1.0.0,>=0.7.1 in /opt/conda/lib/python3.7/site-packages (from boto3>=1.16.27->sagemaker-experiments) (0.10.0)\n",
      "Requirement already satisfied: s3transfer<0.6.0,>=0.5.0 in /opt/conda/lib/python3.7/site-packages (from boto3>=1.16.27->sagemaker-experiments) (0.5.0)\n",
      "Requirement already satisfied: python-dateutil<3.0.0,>=2.1 in /opt/conda/lib/python3.7/site-packages (from botocore<1.24.0,>=1.23.23->boto3>=1.16.27->sagemaker-experiments) (2.8.1)\n",
      "Requirement already satisfied: urllib3<1.27,>=1.25.4 in /opt/conda/lib/python3.7/site-packages (from botocore<1.24.0,>=1.23.23->boto3>=1.16.27->sagemaker-experiments) (1.26.7)\n",
      "Requirement already satisfied: six>=1.5 in /opt/conda/lib/python3.7/site-packages (from python-dateutil<3.0.0,>=2.1->botocore<1.24.0,>=1.23.23->boto3>=1.16.27->sagemaker-experiments) (1.14.0)\n",
      "\u001b[33mWARNING: Running pip as the 'root' user can result in broken permissions and conflicting behaviour with the system package manager. It is recommended to use a virtual environment instead: https://pip.pypa.io/warnings/venv\u001b[0m\n",
      "\u001b[33mWARNING: You are using pip version 21.3.1; however, version 22.0.4 is available.\n",
      "You should consider upgrading via the '/opt/conda/bin/python -m pip install --upgrade pip' command.\u001b[0m\n"
     ]
    }
   ],
   "source": [
    "!pip install sagemaker-experiments"
   ]
  },
  {
   "cell_type": "code",
   "execution_count": 12,
   "metadata": {},
   "outputs": [],
   "source": [
    "from smexperiments.experiment import Experiment\n",
    "from smexperiments.trial import Trial\n",
    "from smexperiments.trial_component import TrialComponent\n",
    "from smexperiments.tracker import Tracker"
   ]
  },
  {
   "cell_type": "code",
   "execution_count": 13,
   "metadata": {},
   "outputs": [],
   "source": [
    "import random\n",
    "import string\n",
    "\n",
    "def generate_random_string():\n",
    "    list_of_chars = random.choices(\n",
    "        string.ascii_uppercase, \n",
    "        k=10)\n",
    "    return ''.join(list_of_chars)"
   ]
  },
  {
   "cell_type": "code",
   "execution_count": 14,
   "metadata": {},
   "outputs": [],
   "source": [
    "label = generate_random_string() \n",
    "training_experiment = Experiment.create(\n",
    "    experiment_name = f\"experiment-{label}\",\n",
    "    description     = \"Experiment Description\",\n",
    "    sagemaker_boto_client=sagemaker_client)"
   ]
  },
  {
   "cell_type": "markdown",
   "metadata": {},
   "source": [
    "## 2. Hyperparameter Tuning\n",
    "in this study we intend looking to look into the effect learning rate will have on the model so two models are created with learning rate (ETA) of 0.3 and 0.8 respectively all other hyperparameters are held coabstnt for pricing and time effectiveness however Baysian tuning is another method of hyperparameter tuning that can also be efficient After testing the first set of hyperparameter values, hyperparameter tuning uses regression to choose the next set of hyperparameter values to test."
   ]
  },
  {
   "cell_type": "code",
   "execution_count": 15,
   "metadata": {},
   "outputs": [],
   "source": [
    "hyperparam_options = {\n",
    "    'max_depth': [70],\n",
    "    'eta': [0.3,0.9],\n",
    "    'gamma': [4],\n",
    "    'min_child_weight': [6],\n",
    "    'subsample': [0.4],\n",
    "    'num_round': [20],\n",
    "    'objective': ['binary:logistic']\n",
    "}"
   ]
  },
  {
   "cell_type": "code",
   "execution_count": 16,
   "metadata": {},
   "outputs": [],
   "source": [
    "def prepare_hyperparam_variations(options):\n",
    "    names, values = zip(*options.items())\n",
    "    return [dict(zip(names, value)) \n",
    "            for value in itertools.product(*values)]"
   ]
  },
  {
   "cell_type": "code",
   "execution_count": 17,
   "metadata": {},
   "outputs": [
    {
     "data": {
      "text/plain": [
       "[{'max_depth': 70,\n",
       "  'eta': 0.3,\n",
       "  'gamma': 4,\n",
       "  'min_child_weight': 6,\n",
       "  'subsample': 0.4,\n",
       "  'num_round': 20,\n",
       "  'objective': 'binary:logistic'},\n",
       " {'max_depth': 70,\n",
       "  'eta': 0.9,\n",
       "  'gamma': 4,\n",
       "  'min_child_weight': 6,\n",
       "  'subsample': 0.4,\n",
       "  'num_round': 20,\n",
       "  'objective': 'binary:logistic'}]"
      ]
     },
     "execution_count": 17,
     "metadata": {},
     "output_type": "execute_result"
    }
   ],
   "source": [
    "hyperparam_variations = prepare_hyperparam_variations(\n",
    "    hyperparam_options\n",
    ")\n",
    "\n",
    "hyperparam_variations"
   ]
  },
  {
   "cell_type": "code",
   "execution_count": 18,
   "metadata": {},
   "outputs": [],
   "source": [
    "s3_bucket = 'lexy-ml-sagemaker'\n",
    "prefix = \"bank-project\"\n",
    "path = f\"s3://{s3_bucket}/{prefix}/input\"\n",
    "training_path = f\"{path}/training_data.csv\" \n",
    "validation_path = f\"{path}/validation_data.csv\" \n",
    "output_path = f\"s3://{s3_bucket}/{prefix}/output/\""
   ]
  },
  {
   "cell_type": "code",
   "execution_count": 19,
   "metadata": {},
   "outputs": [
    {
     "name": "stderr",
     "output_type": "stream",
     "text": [
      "INFO:sagemaker.image_uris:Same images used for training and inference. Defaulting to image scope: inference.\n",
      "INFO:sagemaker.image_uris:Defaulting to only available Python version: py3\n",
      "INFO:sagemaker.image_uris:Defaulting to only supported image scope: cpu.\n"
     ]
    }
   ],
   "source": [
    "from sagemaker.image_uris import retrieve\n",
    "container = retrieve('xgboost', \n",
    "                     boto3.Session().region_name, \n",
    "                     version=\"0.90-2\")\n",
    "#container"
   ]
  },
  {
   "cell_type": "code",
   "execution_count": 20,
   "metadata": {},
   "outputs": [],
   "source": [
    "from sagemaker.inputs import TrainingInput\n",
    "    \n",
    "s3_input_training = TrainingInput(training_path, \n",
    "                                  content_type=\"text/csv\")\n",
    "\n",
    "s3_input_validation = TrainingInput(validation_path, \n",
    "                                    content_type=\"text/csv\")"
   ]
  },
  {
   "cell_type": "code",
   "execution_count": 21,
   "metadata": {},
   "outputs": [],
   "source": [
    "with Tracker.create(\n",
    "    display_name=\"xgboost-experiment-display-name\", \n",
    "    artifact_bucket=s3_bucket,\n",
    "    artifact_prefix=training_experiment.experiment_name,\n",
    "    sagemaker_boto_client=sagemaker_client\n",
    ") as experiment_tracker:    \n",
    "    experiment_tracker.log_input(name=\"training-input\", \n",
    "                                 media_type=\"s3/uri\", \n",
    "                                 value=training_path)\n",
    "    \n",
    "    experiment_tracker.log_input(name=\"validation-input\", \n",
    "                                 media_type=\"s3/uri\", \n",
    "                                 value=validation_path)\n",
    "    \n",
    "    experiment_tracker.log_parameters(hyperparam_options)"
   ]
  },
  {
   "cell_type": "code",
   "execution_count": 22,
   "metadata": {},
   "outputs": [
    {
     "data": {
      "text/plain": [
       "{'trial_component': TrialComponent(sagemaker_boto_client=<botocore.client.SageMaker object at 0x7f85b13ce3d0>,trial_component_name='TrialComponent-2022-04-03-003648-ltsv',display_name='xgboost-experiment-display-name',tags=None,trial_component_arn='arn:aws:sagemaker:us-east-1:837860013848:experiment-trial-component/trialcomponent-2022-04-03-003648-ltsv',response_metadata={'RequestId': 'a7744247-27e3-4f6b-9c5f-3f958b1424e7', 'HTTPStatusCode': 200, 'HTTPHeaders': {'x-amzn-requestid': 'a7744247-27e3-4f6b-9c5f-3f958b1424e7', 'content-type': 'application/x-amz-json-1.1', 'content-length': '129', 'date': 'Sun, 03 Apr 2022 00:36:47 GMT'}, 'RetryAttempts': 0},parameters={'max_depth': [70], 'eta': [0.3, 0.9], 'gamma': [4], 'min_child_weight': [6], 'subsample': [0.4], 'num_round': [20], 'objective': ['binary:logistic']},input_artifacts={'training-input': TrialComponentArtifact(value='s3://lexy-ml-sagemaker/bank-project/input/training_data.csv',media_type='s3/uri'), 'validation-input': TrialComponentArtifact(value='s3://lexy-ml-sagemaker/bank-project/input/validation_data.csv',media_type='s3/uri')},output_artifacts={},start_time=datetime.datetime(2022, 4, 3, 0, 36, 48, 327997, tzinfo=tzlocal()),status=TrialComponentStatus(primary_status='Completed',message=None),end_time=datetime.datetime(2022, 4, 3, 0, 36, 48, 328076, tzinfo=tzlocal())),\n",
       " '_artifact_uploader': <smexperiments.tracker._ArtifactUploader at 0x7f85b112d990>,\n",
       " '_metrics_writer': None,\n",
       " '_warned_on_metrics': False,\n",
       " '_lineage_artifact_tracker': <smexperiments.tracker._LineageArtifactTracker at 0x7f85b1194610>,\n",
       " '_start_time': datetime.datetime(2022, 4, 3, 0, 36, 48, 327997, tzinfo=tzlocal()),\n",
       " '_end_time': datetime.datetime(2022, 4, 3, 0, 36, 48, 328076, tzinfo=tzlocal())}"
      ]
     },
     "execution_count": 22,
     "metadata": {},
     "output_type": "execute_result"
    }
   ],
   "source": [
    "experiment_tracker.__dict__"
   ]
  },
  {
   "cell_type": "markdown",
   "metadata": {},
   "source": [
    "## 3. Create Experiments Instances "
   ]
  },
  {
   "cell_type": "code",
   "execution_count": 23,
   "metadata": {},
   "outputs": [],
   "source": [
    "def track_and_generate_config(\n",
    "    experiment_tracker, \n",
    "    experiment_name, \n",
    "    job_name, \n",
    "    random_string, \n",
    "    hyperparameters):\n",
    "    \n",
    "    tracker_display_name = f\"trial-metadata-{random_string}\"\n",
    "    print(f\"{label} Create Tracker: {tracker_display_name}\")\n",
    "    \n",
    "    with Tracker.create(\n",
    "        display_name=tracker_display_name,\n",
    "        artifact_bucket=\"sagemaker-cookbook-bucket\",\n",
    "        artifact_prefix=f\"{experiment_name}/{job_name}\",\n",
    "        sagemaker_boto_client=sagemaker_client\n",
    "    ) as trial_tracker:\n",
    "        \n",
    "        trial_tracker.log_parameters(hyperparameters)\n",
    "\n",
    "    trial_name = f'trial-{random_string}'\n",
    "    print(f\"Create Trial: {trial_name}\")\n",
    "    \n",
    "    trial = Trial.create(\n",
    "        trial_name=trial_name, \n",
    "        experiment_name=experiment_name,\n",
    "        sagemaker_boto_client=sagemaker_client)\n",
    "    \n",
    "    trial.add_trial_component(\n",
    "        experiment_tracker.trial_component)\n",
    "    time.sleep(1) \n",
    "    trial.add_trial_component(\n",
    "        trial_tracker.trial_component)\n",
    "    \n",
    "    print(f\"Prepare Experiment Configuration\")\n",
    "\n",
    "    return {\n",
    "        \"ExperimentName\": experiment_name, \n",
    "        \"TrialName\": trial.trial_name,\n",
    "        \"TrialComponentDisplayName\": job_name\n",
    "    }"
   ]
  },
  {
   "cell_type": "code",
   "execution_count": 24,
   "metadata": {},
   "outputs": [
    {
     "name": "stdout",
     "output_type": "stream",
     "text": [
      "Iteration # 1\n",
      "[Iteration # 1] Track and Generate Config\n",
      "[Iteration # 1] Create Tracker: trial-metadata-VVBCFBZAMR\n",
      "Create Trial: trial-VVBCFBZAMR\n",
      "Prepare Experiment Configuration\n"
     ]
    },
    {
     "name": "stderr",
     "output_type": "stream",
     "text": [
      "INFO:sagemaker.image_uris:Defaulting to the only supported framework/algorithm version: latest.\n",
      "INFO:sagemaker.image_uris:Ignoring unnecessary instance type: None.\n",
      "INFO:sagemaker:Creating training-job with name: job-VVBCFBZAMR\n"
     ]
    },
    {
     "name": "stdout",
     "output_type": "stream",
     "text": [
      "[Iteration # 1] Initialize Estimator\n",
      "[Iteration # 1] Call fit() function\n",
      "Iteration # 2\n",
      "[Iteration # 2] Track and Generate Config\n",
      "[Iteration # 2] Create Tracker: trial-metadata-NIVHYNFKNN\n",
      "Create Trial: trial-NIVHYNFKNN\n",
      "Prepare Experiment Configuration\n"
     ]
    },
    {
     "name": "stderr",
     "output_type": "stream",
     "text": [
      "INFO:sagemaker.image_uris:Defaulting to the only supported framework/algorithm version: latest.\n",
      "INFO:sagemaker.image_uris:Ignoring unnecessary instance type: None.\n",
      "INFO:sagemaker:Creating training-job with name: job-NIVHYNFKNN\n"
     ]
    },
    {
     "name": "stdout",
     "output_type": "stream",
     "text": [
      "[Iteration # 2] Initialize Estimator\n",
      "[Iteration # 2] Call fit() function\n"
     ]
    }
   ],
   "source": [
    "import time\n",
    "\n",
    "experiment_name = training_experiment.experiment_name\n",
    "\n",
    "for index, hyperparameters in enumerate(\n",
    "    hyperparam_variations\n",
    "):\n",
    "    iteration = index + 1\n",
    "    print(f\"Iteration # {iteration}\")\n",
    "    label = f\"[Iteration # {iteration}]\"\n",
    "    random_string = generate_random_string()\n",
    "    job_name = f\"job-{random_string}\"\n",
    "    \n",
    "    print(f\"{label} Track and Generate Config\")\n",
    "    experiment_config = track_and_generate_config(\n",
    "        experiment_tracker=experiment_tracker,\n",
    "        experiment_name=experiment_name,\n",
    "        job_name=job_name,\n",
    "        random_string=random_string,\n",
    "        hyperparameters=hyperparameters)\n",
    "    \n",
    "    time.sleep(1)\n",
    "    print(f\"{label} Initialize Estimator\")\n",
    "    estimator = sagemaker.estimator.Estimator( \n",
    "        container,\n",
    "        role,\n",
    "        instance_count=1, \n",
    "        instance_type='ml.m5.large', \n",
    "        output_path=output_path, \n",
    "        hyperparameters=hyperparameters,\n",
    "        enable_sagemaker_metrics = True,\n",
    "        sagemaker_session=sagemaker_session\n",
    "    )\n",
    "    \n",
    "    print(f\"{label} Call fit() function\")\n",
    "    estimator.fit({'train': s3_input_training, \n",
    "                   'validation': s3_input_validation},\n",
    "                   job_name = job_name, \n",
    "                   wait=False,\n",
    "                   experiment_config=experiment_config)"
   ]
  },
  {
   "cell_type": "code",
   "execution_count": 25,
   "metadata": {},
   "outputs": [
    {
     "data": {
      "text/plain": [
       "'experiment-ANTTKPSAVL'"
      ]
     },
     "execution_count": 25,
     "metadata": {},
     "output_type": "execute_result"
    }
   ],
   "source": [
    "experiment_name = training_experiment.experiment_name\n",
    "experiment_name"
   ]
  },
  {
   "cell_type": "code",
   "execution_count": 26,
   "metadata": {},
   "outputs": [
    {
     "name": "stdout",
     "output_type": "stream",
     "text": [
      "Stored 'experiment_name' (str)\n"
     ]
    }
   ],
   "source": [
    "%store experiment_name"
   ]
  },
  {
   "cell_type": "code",
   "execution_count": 27,
   "metadata": {},
   "outputs": [
    {
     "data": {
      "text/plain": [
       "'job-NIVHYNFKNN'"
      ]
     },
     "execution_count": 27,
     "metadata": {},
     "output_type": "execute_result"
    }
   ],
   "source": [
    "job_name"
   ]
  },
  {
   "cell_type": "code",
   "execution_count": 141,
   "metadata": {},
   "outputs": [
    {
     "data": {
      "text/html": [
       "<div>\n",
       "<style scoped>\n",
       "    .dataframe tbody tr th:only-of-type {\n",
       "        vertical-align: middle;\n",
       "    }\n",
       "\n",
       "    .dataframe tbody tr th {\n",
       "        vertical-align: top;\n",
       "    }\n",
       "\n",
       "    .dataframe thead th {\n",
       "        text-align: right;\n",
       "    }\n",
       "</style>\n",
       "<table border=\"1\" class=\"dataframe\">\n",
       "  <thead>\n",
       "    <tr style=\"text-align: right;\">\n",
       "      <th></th>\n",
       "      <th>Name/Source</th>\n",
       "      <th>Direction</th>\n",
       "      <th>Type</th>\n",
       "      <th>Association Type</th>\n",
       "      <th>Lineage Type</th>\n",
       "    </tr>\n",
       "  </thead>\n",
       "  <tbody>\n",
       "    <tr>\n",
       "      <th>0</th>\n",
       "      <td>s3://...r/bank-project/input/validation_data.csv</td>\n",
       "      <td>Input</td>\n",
       "      <td>DataSet</td>\n",
       "      <td>ContributedTo</td>\n",
       "      <td>artifact</td>\n",
       "    </tr>\n",
       "    <tr>\n",
       "      <th>1</th>\n",
       "      <td>s3://...ker/bank-project/input/training_data.csv</td>\n",
       "      <td>Input</td>\n",
       "      <td>DataSet</td>\n",
       "      <td>ContributedTo</td>\n",
       "      <td>artifact</td>\n",
       "    </tr>\n",
       "    <tr>\n",
       "      <th>2</th>\n",
       "      <td>68331...aws.com/sagemaker-xgboost:0.90-2-cpu-py3</td>\n",
       "      <td>Input</td>\n",
       "      <td>Image</td>\n",
       "      <td>ContributedTo</td>\n",
       "      <td>artifact</td>\n",
       "    </tr>\n",
       "    <tr>\n",
       "      <th>3</th>\n",
       "      <td>s3://...utput/job-VVBCFBZAMR/output/model.tar.gz</td>\n",
       "      <td>Output</td>\n",
       "      <td>Model</td>\n",
       "      <td>Produced</td>\n",
       "      <td>artifact</td>\n",
       "    </tr>\n",
       "  </tbody>\n",
       "</table>\n",
       "</div>"
      ],
      "text/plain": [
       "                                        Name/Source Direction     Type  \\\n",
       "0  s3://...r/bank-project/input/validation_data.csv     Input  DataSet   \n",
       "1  s3://...ker/bank-project/input/training_data.csv     Input  DataSet   \n",
       "2  68331...aws.com/sagemaker-xgboost:0.90-2-cpu-py3     Input    Image   \n",
       "3  s3://...utput/job-VVBCFBZAMR/output/model.tar.gz    Output    Model   \n",
       "\n",
       "  Association Type Lineage Type  \n",
       "0    ContributedTo     artifact  \n",
       "1    ContributedTo     artifact  \n",
       "2    ContributedTo     artifact  \n",
       "3         Produced     artifact  "
      ]
     },
     "execution_count": 141,
     "metadata": {},
     "output_type": "execute_result"
    }
   ],
   "source": [
    "from sagemaker.session import Session\n",
    "from sagemaker.lineage.visualizer import LineageTableVisualizer \n",
    "session = Session() \n",
    "viz = LineageTableVisualizer(session) \n",
    "viz.show(training_job_name=\"job-VVBCFBZAMR\")"
   ]
  },
  {
   "cell_type": "code",
   "execution_count": 29,
   "metadata": {},
   "outputs": [
    {
     "data": {
      "text/html": [
       "<div>\n",
       "<style scoped>\n",
       "    .dataframe tbody tr th:only-of-type {\n",
       "        vertical-align: middle;\n",
       "    }\n",
       "\n",
       "    .dataframe tbody tr th {\n",
       "        vertical-align: top;\n",
       "    }\n",
       "\n",
       "    .dataframe thead th {\n",
       "        text-align: right;\n",
       "    }\n",
       "</style>\n",
       "<table border=\"1\" class=\"dataframe\">\n",
       "  <thead>\n",
       "    <tr style=\"text-align: right;\">\n",
       "      <th></th>\n",
       "      <th>Name/Source</th>\n",
       "      <th>Direction</th>\n",
       "      <th>Type</th>\n",
       "      <th>Association Type</th>\n",
       "      <th>Lineage Type</th>\n",
       "    </tr>\n",
       "  </thead>\n",
       "  <tbody>\n",
       "    <tr>\n",
       "      <th>0</th>\n",
       "      <td>s3://...r/bank-project/input/validation_data.csv</td>\n",
       "      <td>Input</td>\n",
       "      <td>DataSet</td>\n",
       "      <td>ContributedTo</td>\n",
       "      <td>artifact</td>\n",
       "    </tr>\n",
       "    <tr>\n",
       "      <th>1</th>\n",
       "      <td>s3://...ker/bank-project/input/training_data.csv</td>\n",
       "      <td>Input</td>\n",
       "      <td>DataSet</td>\n",
       "      <td>ContributedTo</td>\n",
       "      <td>artifact</td>\n",
       "    </tr>\n",
       "    <tr>\n",
       "      <th>2</th>\n",
       "      <td>68331...aws.com/sagemaker-xgboost:0.90-2-cpu-py3</td>\n",
       "      <td>Input</td>\n",
       "      <td>Image</td>\n",
       "      <td>ContributedTo</td>\n",
       "      <td>artifact</td>\n",
       "    </tr>\n",
       "    <tr>\n",
       "      <th>3</th>\n",
       "      <td>s3://...utput/job-UGCHMWZEAH/output/model.tar.gz</td>\n",
       "      <td>Output</td>\n",
       "      <td>Model</td>\n",
       "      <td>Produced</td>\n",
       "      <td>artifact</td>\n",
       "    </tr>\n",
       "  </tbody>\n",
       "</table>\n",
       "</div>"
      ],
      "text/plain": [
       "                                        Name/Source Direction     Type  \\\n",
       "0  s3://...r/bank-project/input/validation_data.csv     Input  DataSet   \n",
       "1  s3://...ker/bank-project/input/training_data.csv     Input  DataSet   \n",
       "2  68331...aws.com/sagemaker-xgboost:0.90-2-cpu-py3     Input    Image   \n",
       "3  s3://...utput/job-UGCHMWZEAH/output/model.tar.gz    Output    Model   \n",
       "\n",
       "  Association Type Lineage Type  \n",
       "0    ContributedTo     artifact  \n",
       "1    ContributedTo     artifact  \n",
       "2    ContributedTo     artifact  \n",
       "3         Produced     artifact  "
      ]
     },
     "execution_count": 29,
     "metadata": {},
     "output_type": "execute_result"
    }
   ],
   "source": [
    "from sagemaker.session import Session\n",
    "from sagemaker.lineage.visualizer import LineageTableVisualizer \n",
    "session = Session() \n",
    "viz = LineageTableVisualizer(session) \n",
    "viz.show(training_job_name=\"job-UGCHMWZEAH\")"
   ]
  },
  {
   "cell_type": "markdown",
   "metadata": {},
   "source": [
    "### Experiment Analysis"
   ]
  },
  {
   "cell_type": "code",
   "execution_count": 30,
   "metadata": {},
   "outputs": [],
   "source": [
    "from sagemaker.analytics import ExperimentAnalytics"
   ]
  },
  {
   "cell_type": "code",
   "execution_count": 31,
   "metadata": {},
   "outputs": [],
   "source": [
    "import sagemaker, boto3\n",
    "\n",
    "session = boto3.Session()\n",
    "sagemaker_session = sagemaker.Session(boto_session=session)\n",
    "\n",
    "experiment_analytics = ExperimentAnalytics(\n",
    "    sagemaker_session=sagemaker_session, \n",
    "    experiment_name=experiment_name,\n",
    ")\n",
    "\n",
    "experiment_details_df = experiment_analytics.dataframe()"
   ]
  },
  {
   "cell_type": "code",
   "execution_count": 33,
   "metadata": {},
   "outputs": [
    {
     "data": {
      "text/html": [
       "<div>\n",
       "<style scoped>\n",
       "    .dataframe tbody tr th:only-of-type {\n",
       "        vertical-align: middle;\n",
       "    }\n",
       "\n",
       "    .dataframe tbody tr th {\n",
       "        vertical-align: top;\n",
       "    }\n",
       "\n",
       "    .dataframe thead th {\n",
       "        text-align: right;\n",
       "    }\n",
       "</style>\n",
       "<table border=\"1\" class=\"dataframe\">\n",
       "  <thead>\n",
       "    <tr style=\"text-align: right;\">\n",
       "      <th></th>\n",
       "      <th>TrialComponentName</th>\n",
       "      <th>DisplayName</th>\n",
       "      <th>SourceArn</th>\n",
       "      <th>SageMaker.ImageUri</th>\n",
       "      <th>SageMaker.InstanceCount</th>\n",
       "      <th>SageMaker.InstanceType</th>\n",
       "      <th>SageMaker.VolumeSizeInGB</th>\n",
       "      <th>eta</th>\n",
       "      <th>gamma</th>\n",
       "      <th>max_depth</th>\n",
       "      <th>min_child_weight</th>\n",
       "      <th>num_round</th>\n",
       "      <th>objective</th>\n",
       "      <th>subsample</th>\n",
       "      <th>train - MediaType</th>\n",
       "      <th>train - Value</th>\n",
       "      <th>validation - MediaType</th>\n",
       "      <th>validation - Value</th>\n",
       "      <th>Trials</th>\n",
       "      <th>Experiments</th>\n",
       "      <th>training-input - MediaType</th>\n",
       "      <th>training-input - Value</th>\n",
       "      <th>validation-input - MediaType</th>\n",
       "      <th>validation-input - Value</th>\n",
       "    </tr>\n",
       "  </thead>\n",
       "  <tbody>\n",
       "    <tr>\n",
       "      <th>0</th>\n",
       "      <td>job-NIVHYNFKNN-aws-training-job</td>\n",
       "      <td>job-NIVHYNFKNN</td>\n",
       "      <td>arn:aws:sagemaker:us-east-1:837860013848:train...</td>\n",
       "      <td>683313688378.dkr.ecr.us-east-1.amazonaws.com/s...</td>\n",
       "      <td>1.0</td>\n",
       "      <td>ml.m5.large</td>\n",
       "      <td>30.0</td>\n",
       "      <td>0.9</td>\n",
       "      <td>4</td>\n",
       "      <td>70</td>\n",
       "      <td>6</td>\n",
       "      <td>20</td>\n",
       "      <td>binary:logistic</td>\n",
       "      <td>0.4</td>\n",
       "      <td>text/csv</td>\n",
       "      <td>s3://lexy-ml-sagemaker/bank-project/input/trai...</td>\n",
       "      <td>text/csv</td>\n",
       "      <td>s3://lexy-ml-sagemaker/bank-project/input/vali...</td>\n",
       "      <td>[trial-NIVHYNFKNN]</td>\n",
       "      <td>[experiment-ANTTKPSAVL]</td>\n",
       "      <td>NaN</td>\n",
       "      <td>NaN</td>\n",
       "      <td>NaN</td>\n",
       "      <td>NaN</td>\n",
       "    </tr>\n",
       "    <tr>\n",
       "      <th>1</th>\n",
       "      <td>job-VVBCFBZAMR-aws-training-job</td>\n",
       "      <td>job-VVBCFBZAMR</td>\n",
       "      <td>arn:aws:sagemaker:us-east-1:837860013848:train...</td>\n",
       "      <td>683313688378.dkr.ecr.us-east-1.amazonaws.com/s...</td>\n",
       "      <td>1.0</td>\n",
       "      <td>ml.m5.large</td>\n",
       "      <td>30.0</td>\n",
       "      <td>0.3</td>\n",
       "      <td>4</td>\n",
       "      <td>70</td>\n",
       "      <td>6</td>\n",
       "      <td>20</td>\n",
       "      <td>binary:logistic</td>\n",
       "      <td>0.4</td>\n",
       "      <td>text/csv</td>\n",
       "      <td>s3://lexy-ml-sagemaker/bank-project/input/trai...</td>\n",
       "      <td>text/csv</td>\n",
       "      <td>s3://lexy-ml-sagemaker/bank-project/input/vali...</td>\n",
       "      <td>[trial-VVBCFBZAMR]</td>\n",
       "      <td>[experiment-ANTTKPSAVL]</td>\n",
       "      <td>NaN</td>\n",
       "      <td>NaN</td>\n",
       "      <td>NaN</td>\n",
       "      <td>NaN</td>\n",
       "    </tr>\n",
       "    <tr>\n",
       "      <th>2</th>\n",
       "      <td>TrialComponent-2022-04-03-003710-bcwo</td>\n",
       "      <td>trial-metadata-NIVHYNFKNN</td>\n",
       "      <td>NaN</td>\n",
       "      <td>NaN</td>\n",
       "      <td>NaN</td>\n",
       "      <td>NaN</td>\n",
       "      <td>NaN</td>\n",
       "      <td>0.9</td>\n",
       "      <td>4</td>\n",
       "      <td>70</td>\n",
       "      <td>6</td>\n",
       "      <td>20</td>\n",
       "      <td>binary:logistic</td>\n",
       "      <td>0.4</td>\n",
       "      <td>NaN</td>\n",
       "      <td>NaN</td>\n",
       "      <td>NaN</td>\n",
       "      <td>NaN</td>\n",
       "      <td>[trial-NIVHYNFKNN]</td>\n",
       "      <td>[experiment-ANTTKPSAVL]</td>\n",
       "      <td>NaN</td>\n",
       "      <td>NaN</td>\n",
       "      <td>NaN</td>\n",
       "      <td>NaN</td>\n",
       "    </tr>\n",
       "    <tr>\n",
       "      <th>3</th>\n",
       "      <td>TrialComponent-2022-04-03-003708-xaqe</td>\n",
       "      <td>trial-metadata-VVBCFBZAMR</td>\n",
       "      <td>NaN</td>\n",
       "      <td>NaN</td>\n",
       "      <td>NaN</td>\n",
       "      <td>NaN</td>\n",
       "      <td>NaN</td>\n",
       "      <td>0.3</td>\n",
       "      <td>4</td>\n",
       "      <td>70</td>\n",
       "      <td>6</td>\n",
       "      <td>20</td>\n",
       "      <td>binary:logistic</td>\n",
       "      <td>0.4</td>\n",
       "      <td>NaN</td>\n",
       "      <td>NaN</td>\n",
       "      <td>NaN</td>\n",
       "      <td>NaN</td>\n",
       "      <td>[trial-VVBCFBZAMR]</td>\n",
       "      <td>[experiment-ANTTKPSAVL]</td>\n",
       "      <td>NaN</td>\n",
       "      <td>NaN</td>\n",
       "      <td>NaN</td>\n",
       "      <td>NaN</td>\n",
       "    </tr>\n",
       "    <tr>\n",
       "      <th>4</th>\n",
       "      <td>TrialComponent-2022-04-03-003648-ltsv</td>\n",
       "      <td>xgboost-experiment-display-name</td>\n",
       "      <td>NaN</td>\n",
       "      <td>NaN</td>\n",
       "      <td>NaN</td>\n",
       "      <td>NaN</td>\n",
       "      <td>NaN</td>\n",
       "      <td>[0.3, 0.9]</td>\n",
       "      <td>[4]</td>\n",
       "      <td>[70]</td>\n",
       "      <td>[6]</td>\n",
       "      <td>[20]</td>\n",
       "      <td>['binary:logistic']</td>\n",
       "      <td>[0.4]</td>\n",
       "      <td>NaN</td>\n",
       "      <td>NaN</td>\n",
       "      <td>NaN</td>\n",
       "      <td>NaN</td>\n",
       "      <td>[trial-VVBCFBZAMR, trial-NIVHYNFKNN]</td>\n",
       "      <td>[experiment-ANTTKPSAVL, experiment-ANTTKPSAVL]</td>\n",
       "      <td>s3/uri</td>\n",
       "      <td>s3://lexy-ml-sagemaker/bank-project/input/trai...</td>\n",
       "      <td>s3/uri</td>\n",
       "      <td>s3://lexy-ml-sagemaker/bank-project/input/vali...</td>\n",
       "    </tr>\n",
       "  </tbody>\n",
       "</table>\n",
       "</div>"
      ],
      "text/plain": [
       "                      TrialComponentName                      DisplayName  \\\n",
       "0        job-NIVHYNFKNN-aws-training-job                   job-NIVHYNFKNN   \n",
       "1        job-VVBCFBZAMR-aws-training-job                   job-VVBCFBZAMR   \n",
       "2  TrialComponent-2022-04-03-003710-bcwo        trial-metadata-NIVHYNFKNN   \n",
       "3  TrialComponent-2022-04-03-003708-xaqe        trial-metadata-VVBCFBZAMR   \n",
       "4  TrialComponent-2022-04-03-003648-ltsv  xgboost-experiment-display-name   \n",
       "\n",
       "                                           SourceArn  \\\n",
       "0  arn:aws:sagemaker:us-east-1:837860013848:train...   \n",
       "1  arn:aws:sagemaker:us-east-1:837860013848:train...   \n",
       "2                                                NaN   \n",
       "3                                                NaN   \n",
       "4                                                NaN   \n",
       "\n",
       "                                  SageMaker.ImageUri  SageMaker.InstanceCount  \\\n",
       "0  683313688378.dkr.ecr.us-east-1.amazonaws.com/s...                      1.0   \n",
       "1  683313688378.dkr.ecr.us-east-1.amazonaws.com/s...                      1.0   \n",
       "2                                                NaN                      NaN   \n",
       "3                                                NaN                      NaN   \n",
       "4                                                NaN                      NaN   \n",
       "\n",
       "  SageMaker.InstanceType  SageMaker.VolumeSizeInGB         eta gamma  \\\n",
       "0            ml.m5.large                      30.0         0.9     4   \n",
       "1            ml.m5.large                      30.0         0.3     4   \n",
       "2                    NaN                       NaN         0.9     4   \n",
       "3                    NaN                       NaN         0.3     4   \n",
       "4                    NaN                       NaN  [0.3, 0.9]   [4]   \n",
       "\n",
       "  max_depth min_child_weight num_round            objective subsample  \\\n",
       "0        70                6        20      binary:logistic       0.4   \n",
       "1        70                6        20      binary:logistic       0.4   \n",
       "2        70                6        20      binary:logistic       0.4   \n",
       "3        70                6        20      binary:logistic       0.4   \n",
       "4      [70]              [6]      [20]  ['binary:logistic']     [0.4]   \n",
       "\n",
       "  train - MediaType                                      train - Value  \\\n",
       "0          text/csv  s3://lexy-ml-sagemaker/bank-project/input/trai...   \n",
       "1          text/csv  s3://lexy-ml-sagemaker/bank-project/input/trai...   \n",
       "2               NaN                                                NaN   \n",
       "3               NaN                                                NaN   \n",
       "4               NaN                                                NaN   \n",
       "\n",
       "  validation - MediaType                                 validation - Value  \\\n",
       "0               text/csv  s3://lexy-ml-sagemaker/bank-project/input/vali...   \n",
       "1               text/csv  s3://lexy-ml-sagemaker/bank-project/input/vali...   \n",
       "2                    NaN                                                NaN   \n",
       "3                    NaN                                                NaN   \n",
       "4                    NaN                                                NaN   \n",
       "\n",
       "                                 Trials  \\\n",
       "0                    [trial-NIVHYNFKNN]   \n",
       "1                    [trial-VVBCFBZAMR]   \n",
       "2                    [trial-NIVHYNFKNN]   \n",
       "3                    [trial-VVBCFBZAMR]   \n",
       "4  [trial-VVBCFBZAMR, trial-NIVHYNFKNN]   \n",
       "\n",
       "                                      Experiments training-input - MediaType  \\\n",
       "0                         [experiment-ANTTKPSAVL]                        NaN   \n",
       "1                         [experiment-ANTTKPSAVL]                        NaN   \n",
       "2                         [experiment-ANTTKPSAVL]                        NaN   \n",
       "3                         [experiment-ANTTKPSAVL]                        NaN   \n",
       "4  [experiment-ANTTKPSAVL, experiment-ANTTKPSAVL]                     s3/uri   \n",
       "\n",
       "                              training-input - Value  \\\n",
       "0                                                NaN   \n",
       "1                                                NaN   \n",
       "2                                                NaN   \n",
       "3                                                NaN   \n",
       "4  s3://lexy-ml-sagemaker/bank-project/input/trai...   \n",
       "\n",
       "  validation-input - MediaType  \\\n",
       "0                          NaN   \n",
       "1                          NaN   \n",
       "2                          NaN   \n",
       "3                          NaN   \n",
       "4                       s3/uri   \n",
       "\n",
       "                            validation-input - Value  \n",
       "0                                                NaN  \n",
       "1                                                NaN  \n",
       "2                                                NaN  \n",
       "3                                                NaN  \n",
       "4  s3://lexy-ml-sagemaker/bank-project/input/vali...  "
      ]
     },
     "metadata": {},
     "output_type": "display_data"
    }
   ],
   "source": [
    "import pandas as pd\n",
    "from IPython.display import display\n",
    "\n",
    "pd.options.display.max_columns = None\n",
    "display(experiment_details_df)"
   ]
  },
  {
   "cell_type": "code",
   "execution_count": null,
   "metadata": {},
   "outputs": [],
   "source": [
    "from time import sleep\n",
    "\n",
    "metric = \"validation:error - Avg\"\n",
    "while metric not in experiment_details_df:\n",
    "    experiment_details_df = experiment_analytics.dataframe()\n",
    "    print(\"Not yet ready. Sleeping for 10 seconds\")\n",
    "    sleep(10)\n",
    "    \n",
    "print(\"Ready\")"
   ]
  },
  {
   "cell_type": "code",
   "execution_count": null,
   "metadata": {},
   "outputs": [],
   "source": [
    "target_fields = [\n",
    "    \"TrialComponentName\",\n",
    "    \"DisplayName\",\n",
    "    \"eta\",\n",
    "    \"gamma\",\n",
    "    \"max_depth\",\n",
    "    \"min_child_weight\",\n",
    "    \"num_round\",\n",
    "    \"objective\",\n",
    "    \"subsample\",\n",
    "    \"validation:error - Avg\",\n",
    "    \"train:error - Avg\",\n",
    "    \"Trials\",\n",
    "    \"Experiments\",\n",
    "]\n",
    "\n",
    "experiment_summary_df = experiment_details_df[target_fields]"
   ]
  },
  {
   "cell_type": "code",
   "execution_count": 41,
   "metadata": {},
   "outputs": [
    {
     "data": {
      "text/html": [
       "<div>\n",
       "<style scoped>\n",
       "    .dataframe tbody tr th:only-of-type {\n",
       "        vertical-align: middle;\n",
       "    }\n",
       "\n",
       "    .dataframe tbody tr th {\n",
       "        vertical-align: top;\n",
       "    }\n",
       "\n",
       "    .dataframe thead th {\n",
       "        text-align: right;\n",
       "    }\n",
       "</style>\n",
       "<table border=\"1\" class=\"dataframe\">\n",
       "  <thead>\n",
       "    <tr style=\"text-align: right;\">\n",
       "      <th></th>\n",
       "      <th>TrialComponentName</th>\n",
       "      <th>DisplayName</th>\n",
       "      <th>eta</th>\n",
       "      <th>gamma</th>\n",
       "      <th>max_depth</th>\n",
       "      <th>min_child_weight</th>\n",
       "      <th>num_round</th>\n",
       "      <th>objective</th>\n",
       "      <th>subsample</th>\n",
       "      <th>validation:error - Avg</th>\n",
       "      <th>train:error - Avg</th>\n",
       "      <th>Trials</th>\n",
       "      <th>Experiments</th>\n",
       "    </tr>\n",
       "  </thead>\n",
       "  <tbody>\n",
       "    <tr>\n",
       "      <th>0</th>\n",
       "      <td>job-WPPCFJUVNE-aws-training-job</td>\n",
       "      <td>job-WPPCFJUVNE</td>\n",
       "      <td>0.2</td>\n",
       "      <td>4</td>\n",
       "      <td>8</td>\n",
       "      <td>6</td>\n",
       "      <td>10</td>\n",
       "      <td>binary:logistic</td>\n",
       "      <td>0.4</td>\n",
       "      <td>0.124619</td>\n",
       "      <td>0.109659</td>\n",
       "      <td>[trial-WPPCFJUVNE]</td>\n",
       "      <td>[experiment-FWESYYPZAV]</td>\n",
       "    </tr>\n",
       "    <tr>\n",
       "      <th>1</th>\n",
       "      <td>job-MPJFOCKQIU-aws-training-job</td>\n",
       "      <td>job-MPJFOCKQIU</td>\n",
       "      <td>0.2</td>\n",
       "      <td>3</td>\n",
       "      <td>8</td>\n",
       "      <td>6</td>\n",
       "      <td>10</td>\n",
       "      <td>binary:logistic</td>\n",
       "      <td>0.4</td>\n",
       "      <td>0.123039</td>\n",
       "      <td>0.108660</td>\n",
       "      <td>[trial-MPJFOCKQIU]</td>\n",
       "      <td>[experiment-FWESYYPZAV]</td>\n",
       "    </tr>\n",
       "    <tr>\n",
       "      <th>2</th>\n",
       "      <td>TrialComponent-2022-04-02-160528-yixa</td>\n",
       "      <td>trial-metadata-WPPCFJUVNE</td>\n",
       "      <td>0.2</td>\n",
       "      <td>4</td>\n",
       "      <td>8</td>\n",
       "      <td>6</td>\n",
       "      <td>10</td>\n",
       "      <td>binary:logistic</td>\n",
       "      <td>0.4</td>\n",
       "      <td>NaN</td>\n",
       "      <td>NaN</td>\n",
       "      <td>[trial-WPPCFJUVNE]</td>\n",
       "      <td>[experiment-FWESYYPZAV]</td>\n",
       "    </tr>\n",
       "    <tr>\n",
       "      <th>3</th>\n",
       "      <td>TrialComponent-2022-04-02-160525-luwm</td>\n",
       "      <td>xgboost-experiment-display-name</td>\n",
       "      <td>[0.2]</td>\n",
       "      <td>[3, 4]</td>\n",
       "      <td>[8]</td>\n",
       "      <td>[6]</td>\n",
       "      <td>[10]</td>\n",
       "      <td>['binary:logistic']</td>\n",
       "      <td>[0.4]</td>\n",
       "      <td>NaN</td>\n",
       "      <td>NaN</td>\n",
       "      <td>[trial-WPPCFJUVNE, trial-MPJFOCKQIU]</td>\n",
       "      <td>[experiment-FWESYYPZAV, experiment-FWESYYPZAV]</td>\n",
       "    </tr>\n",
       "    <tr>\n",
       "      <th>4</th>\n",
       "      <td>TrialComponent-2022-04-02-160525-ltya</td>\n",
       "      <td>trial-metadata-MPJFOCKQIU</td>\n",
       "      <td>0.2</td>\n",
       "      <td>3</td>\n",
       "      <td>8</td>\n",
       "      <td>6</td>\n",
       "      <td>10</td>\n",
       "      <td>binary:logistic</td>\n",
       "      <td>0.4</td>\n",
       "      <td>NaN</td>\n",
       "      <td>NaN</td>\n",
       "      <td>[trial-MPJFOCKQIU]</td>\n",
       "      <td>[experiment-FWESYYPZAV]</td>\n",
       "    </tr>\n",
       "  </tbody>\n",
       "</table>\n",
       "</div>"
      ],
      "text/plain": [
       "                      TrialComponentName                      DisplayName  \\\n",
       "0        job-WPPCFJUVNE-aws-training-job                   job-WPPCFJUVNE   \n",
       "1        job-MPJFOCKQIU-aws-training-job                   job-MPJFOCKQIU   \n",
       "2  TrialComponent-2022-04-02-160528-yixa        trial-metadata-WPPCFJUVNE   \n",
       "3  TrialComponent-2022-04-02-160525-luwm  xgboost-experiment-display-name   \n",
       "4  TrialComponent-2022-04-02-160525-ltya        trial-metadata-MPJFOCKQIU   \n",
       "\n",
       "     eta   gamma max_depth min_child_weight num_round            objective  \\\n",
       "0    0.2       4         8                6        10      binary:logistic   \n",
       "1    0.2       3         8                6        10      binary:logistic   \n",
       "2    0.2       4         8                6        10      binary:logistic   \n",
       "3  [0.2]  [3, 4]       [8]              [6]      [10]  ['binary:logistic']   \n",
       "4    0.2       3         8                6        10      binary:logistic   \n",
       "\n",
       "  subsample  validation:error - Avg  train:error - Avg  \\\n",
       "0       0.4                0.124619           0.109659   \n",
       "1       0.4                0.123039           0.108660   \n",
       "2       0.4                     NaN                NaN   \n",
       "3     [0.4]                     NaN                NaN   \n",
       "4       0.4                     NaN                NaN   \n",
       "\n",
       "                                 Trials  \\\n",
       "0                    [trial-WPPCFJUVNE]   \n",
       "1                    [trial-MPJFOCKQIU]   \n",
       "2                    [trial-WPPCFJUVNE]   \n",
       "3  [trial-WPPCFJUVNE, trial-MPJFOCKQIU]   \n",
       "4                    [trial-MPJFOCKQIU]   \n",
       "\n",
       "                                      Experiments  \n",
       "0                         [experiment-FWESYYPZAV]  \n",
       "1                         [experiment-FWESYYPZAV]  \n",
       "2                         [experiment-FWESYYPZAV]  \n",
       "3  [experiment-FWESYYPZAV, experiment-FWESYYPZAV]  \n",
       "4                         [experiment-FWESYYPZAV]  "
      ]
     },
     "metadata": {},
     "output_type": "display_data"
    }
   ],
   "source": [
    "display(experiment_summary_df)"
   ]
  },
  {
   "cell_type": "code",
   "execution_count": 42,
   "metadata": {},
   "outputs": [
    {
     "data": {
      "text/html": [
       "<div>\n",
       "<style scoped>\n",
       "    .dataframe tbody tr th:only-of-type {\n",
       "        vertical-align: middle;\n",
       "    }\n",
       "\n",
       "    .dataframe tbody tr th {\n",
       "        vertical-align: top;\n",
       "    }\n",
       "\n",
       "    .dataframe thead th {\n",
       "        text-align: right;\n",
       "    }\n",
       "</style>\n",
       "<table border=\"1\" class=\"dataframe\">\n",
       "  <thead>\n",
       "    <tr style=\"text-align: right;\">\n",
       "      <th></th>\n",
       "      <th>TrialComponentName</th>\n",
       "      <th>DisplayName</th>\n",
       "      <th>eta</th>\n",
       "      <th>gamma</th>\n",
       "      <th>max_depth</th>\n",
       "      <th>min_child_weight</th>\n",
       "      <th>num_round</th>\n",
       "      <th>objective</th>\n",
       "      <th>subsample</th>\n",
       "      <th>validation:error - Avg</th>\n",
       "      <th>train:error - Avg</th>\n",
       "      <th>Trials</th>\n",
       "      <th>Experiments</th>\n",
       "    </tr>\n",
       "  </thead>\n",
       "  <tbody>\n",
       "    <tr>\n",
       "      <th>0</th>\n",
       "      <td>job-WPPCFJUVNE-aws-training-job</td>\n",
       "      <td>job-WPPCFJUVNE</td>\n",
       "      <td>0.2</td>\n",
       "      <td>4</td>\n",
       "      <td>8</td>\n",
       "      <td>6</td>\n",
       "      <td>10</td>\n",
       "      <td>binary:logistic</td>\n",
       "      <td>0.4</td>\n",
       "      <td>0.124619</td>\n",
       "      <td>0.109659</td>\n",
       "      <td>[trial-WPPCFJUVNE]</td>\n",
       "      <td>[experiment-FWESYYPZAV]</td>\n",
       "    </tr>\n",
       "    <tr>\n",
       "      <th>1</th>\n",
       "      <td>job-MPJFOCKQIU-aws-training-job</td>\n",
       "      <td>job-MPJFOCKQIU</td>\n",
       "      <td>0.2</td>\n",
       "      <td>3</td>\n",
       "      <td>8</td>\n",
       "      <td>6</td>\n",
       "      <td>10</td>\n",
       "      <td>binary:logistic</td>\n",
       "      <td>0.4</td>\n",
       "      <td>0.123039</td>\n",
       "      <td>0.108660</td>\n",
       "      <td>[trial-MPJFOCKQIU]</td>\n",
       "      <td>[experiment-FWESYYPZAV]</td>\n",
       "    </tr>\n",
       "  </tbody>\n",
       "</table>\n",
       "</div>"
      ],
      "text/plain": [
       "                TrialComponentName     DisplayName  eta gamma max_depth  \\\n",
       "0  job-WPPCFJUVNE-aws-training-job  job-WPPCFJUVNE  0.2     4         8   \n",
       "1  job-MPJFOCKQIU-aws-training-job  job-MPJFOCKQIU  0.2     3         8   \n",
       "\n",
       "  min_child_weight num_round        objective subsample  \\\n",
       "0                6        10  binary:logistic       0.4   \n",
       "1                6        10  binary:logistic       0.4   \n",
       "\n",
       "   validation:error - Avg  train:error - Avg              Trials  \\\n",
       "0                0.124619           0.109659  [trial-WPPCFJUVNE]   \n",
       "1                0.123039           0.108660  [trial-MPJFOCKQIU]   \n",
       "\n",
       "               Experiments  \n",
       "0  [experiment-FWESYYPZAV]  \n",
       "1  [experiment-FWESYYPZAV]  "
      ]
     },
     "execution_count": 42,
     "metadata": {},
     "output_type": "execute_result"
    }
   ],
   "source": [
    "import math\n",
    "\n",
    "def is_not_nan(num):\n",
    "    return not math.isnan(num)\n",
    "\n",
    "def remove_nan_rows(df):\n",
    "    return df[df['train:error - Avg'].map(is_not_nan)]\n",
    "\n",
    "experiment_summary_df = remove_nan_rows(experiment_summary_df)\n",
    "\n",
    "experiment_summary_df"
   ]
  },
  {
   "cell_type": "code",
   "execution_count": 43,
   "metadata": {},
   "outputs": [
    {
     "data": {
      "text/html": [
       "<div>\n",
       "<style scoped>\n",
       "    .dataframe tbody tr th:only-of-type {\n",
       "        vertical-align: middle;\n",
       "    }\n",
       "\n",
       "    .dataframe tbody tr th {\n",
       "        vertical-align: top;\n",
       "    }\n",
       "\n",
       "    .dataframe thead th {\n",
       "        text-align: right;\n",
       "    }\n",
       "</style>\n",
       "<table border=\"1\" class=\"dataframe\">\n",
       "  <thead>\n",
       "    <tr style=\"text-align: right;\">\n",
       "      <th></th>\n",
       "      <th>TrialComponentName</th>\n",
       "      <th>DisplayName</th>\n",
       "      <th>eta</th>\n",
       "      <th>gamma</th>\n",
       "      <th>max_depth</th>\n",
       "      <th>min_child_weight</th>\n",
       "      <th>num_round</th>\n",
       "      <th>objective</th>\n",
       "      <th>subsample</th>\n",
       "      <th>validation:error - Avg</th>\n",
       "      <th>train:error - Avg</th>\n",
       "      <th>Trials</th>\n",
       "      <th>Experiments</th>\n",
       "    </tr>\n",
       "  </thead>\n",
       "  <tbody>\n",
       "    <tr>\n",
       "      <th>1</th>\n",
       "      <td>job-MPJFOCKQIU-aws-training-job</td>\n",
       "      <td>job-MPJFOCKQIU</td>\n",
       "      <td>0.2</td>\n",
       "      <td>3</td>\n",
       "      <td>8</td>\n",
       "      <td>6</td>\n",
       "      <td>10</td>\n",
       "      <td>binary:logistic</td>\n",
       "      <td>0.4</td>\n",
       "      <td>0.123039</td>\n",
       "      <td>0.108660</td>\n",
       "      <td>[trial-MPJFOCKQIU]</td>\n",
       "      <td>[experiment-FWESYYPZAV]</td>\n",
       "    </tr>\n",
       "    <tr>\n",
       "      <th>0</th>\n",
       "      <td>job-WPPCFJUVNE-aws-training-job</td>\n",
       "      <td>job-WPPCFJUVNE</td>\n",
       "      <td>0.2</td>\n",
       "      <td>4</td>\n",
       "      <td>8</td>\n",
       "      <td>6</td>\n",
       "      <td>10</td>\n",
       "      <td>binary:logistic</td>\n",
       "      <td>0.4</td>\n",
       "      <td>0.124619</td>\n",
       "      <td>0.109659</td>\n",
       "      <td>[trial-WPPCFJUVNE]</td>\n",
       "      <td>[experiment-FWESYYPZAV]</td>\n",
       "    </tr>\n",
       "  </tbody>\n",
       "</table>\n",
       "</div>"
      ],
      "text/plain": [
       "                TrialComponentName     DisplayName  eta gamma max_depth  \\\n",
       "1  job-MPJFOCKQIU-aws-training-job  job-MPJFOCKQIU  0.2     3         8   \n",
       "0  job-WPPCFJUVNE-aws-training-job  job-WPPCFJUVNE  0.2     4         8   \n",
       "\n",
       "  min_child_weight num_round        objective subsample  \\\n",
       "1                6        10  binary:logistic       0.4   \n",
       "0                6        10  binary:logistic       0.4   \n",
       "\n",
       "   validation:error - Avg  train:error - Avg              Trials  \\\n",
       "1                0.123039           0.108660  [trial-MPJFOCKQIU]   \n",
       "0                0.124619           0.109659  [trial-WPPCFJUVNE]   \n",
       "\n",
       "               Experiments  \n",
       "1  [experiment-FWESYYPZAV]  \n",
       "0  [experiment-FWESYYPZAV]  "
      ]
     },
     "execution_count": 43,
     "metadata": {},
     "output_type": "execute_result"
    }
   ],
   "source": [
    "sorted_df = experiment_summary_df.sort_values('train:error - Avg', ascending=True)\n",
    "sorted_df"
   ]
  },
  {
   "cell_type": "code",
   "execution_count": 44,
   "metadata": {},
   "outputs": [
    {
     "data": {
      "text/html": [
       "<div>\n",
       "<style scoped>\n",
       "    .dataframe tbody tr th:only-of-type {\n",
       "        vertical-align: middle;\n",
       "    }\n",
       "\n",
       "    .dataframe tbody tr th {\n",
       "        vertical-align: top;\n",
       "    }\n",
       "\n",
       "    .dataframe thead th {\n",
       "        text-align: right;\n",
       "    }\n",
       "</style>\n",
       "<table border=\"1\" class=\"dataframe\">\n",
       "  <thead>\n",
       "    <tr style=\"text-align: right;\">\n",
       "      <th></th>\n",
       "      <th>DisplayName</th>\n",
       "      <th>train:error - Avg</th>\n",
       "    </tr>\n",
       "  </thead>\n",
       "  <tbody>\n",
       "    <tr>\n",
       "      <th>1</th>\n",
       "      <td>job-MPJFOCKQIU</td>\n",
       "      <td>0.108660</td>\n",
       "    </tr>\n",
       "    <tr>\n",
       "      <th>0</th>\n",
       "      <td>job-WPPCFJUVNE</td>\n",
       "      <td>0.109659</td>\n",
       "    </tr>\n",
       "  </tbody>\n",
       "</table>\n",
       "</div>"
      ],
      "text/plain": [
       "      DisplayName  train:error - Avg\n",
       "1  job-MPJFOCKQIU           0.108660\n",
       "0  job-WPPCFJUVNE           0.109659"
      ]
     },
     "execution_count": 44,
     "metadata": {},
     "output_type": "execute_result"
    }
   ],
   "source": [
    "final_df = sorted_df[[\"DisplayName\", \"train:error - Avg\"]]\n",
    "final_df"
   ]
  },
  {
   "cell_type": "code",
   "execution_count": 45,
   "metadata": {},
   "outputs": [
    {
     "data": {
      "text/plain": [
       "<matplotlib.axes._subplots.AxesSubplot at 0x7f477270c390>"
      ]
     },
     "execution_count": 45,
     "metadata": {},
     "output_type": "execute_result"
    },
    {
     "data": {
      "image/png": "[encoded data removed]",
      "text/plain": [
       "<Figure size 432x288 with 1 Axes>"
      ]
     },
     "metadata": {
      "needs_background": "light"
     },
     "output_type": "display_data"
    }
   ],
   "source": [
    "final_df.plot(kind='barh', x=\"DisplayName\", fontsize=8)"
   ]
  },
  {
   "cell_type": "code",
   "execution_count": 36,
   "metadata": {},
   "outputs": [],
   "source": [
    "import sagemaker\n",
    "from sagemaker import get_execution_role\n",
    "\n",
    "session = sagemaker.Session()\n",
    "role = get_execution_role()"
   ]
  },
  {
   "cell_type": "code",
   "execution_count": 37,
   "metadata": {},
   "outputs": [
    {
     "name": "stderr",
     "output_type": "stream",
     "text": [
      "INFO:sagemaker.image_uris:Same images used for training and inference. Defaulting to image scope: inference.\n",
      "INFO:sagemaker.image_uris:Defaulting to only available Python version: py3\n",
      "INFO:sagemaker.image_uris:Defaulting to only supported image scope: cpu.\n"
     ]
    },
    {
     "data": {
      "text/plain": [
       "'683313688378.dkr.ecr.us-east-1.amazonaws.com/sagemaker-xgboost:0.90-2-cpu-py3'"
      ]
     },
     "execution_count": 37,
     "metadata": {},
     "output_type": "execute_result"
    }
   ],
   "source": [
    "from sagemaker.image_uris import retrieve\n",
    "\n",
    "image_uri = retrieve(\n",
    "    \"xgboost\", \n",
    "    region=\"us-east-1\", \n",
    "    version=\"0.90-2\"\n",
    ")\n",
    "\n",
    "image_uri"
   ]
  },
  {
   "cell_type": "code",
   "execution_count": 38,
   "metadata": {},
   "outputs": [
    {
     "data": {
      "text/plain": [
       "'s3://lexy-ml-sagemaker/bank-project/output/'"
      ]
     },
     "execution_count": 38,
     "metadata": {},
     "output_type": "execute_result"
    }
   ],
   "source": [
    "output_path"
   ]
  },
  {
   "cell_type": "code",
   "execution_count": 39,
   "metadata": {},
   "outputs": [],
   "source": [
    "model_a_s3_path = f\"{output_path}job-NIVHYNFKNN/output/model.tar.gz\"\n",
    "model_b_s3_path = f\"{output_path}job-VVBCFBZAMR/output/model.tar.gz\""
   ]
  },
  {
   "cell_type": "code",
   "execution_count": 40,
   "metadata": {},
   "outputs": [
    {
     "name": "stderr",
     "output_type": "stream",
     "text": [
      "INFO:sagemaker.image_uris:Same images used for training and inference. Defaulting to image scope: inference.\n",
      "INFO:sagemaker.image_uris:Defaulting to only available Python version: py3\n",
      "INFO:sagemaker.image_uris:Defaulting to only supported image scope: cpu.\n"
     ]
    },
    {
     "data": {
      "text/plain": [
       "'683313688378.dkr.ecr.us-east-1.amazonaws.com/sagemaker-xgboost:0.90-2-cpu-py3'"
      ]
     },
     "execution_count": 40,
     "metadata": {},
     "output_type": "execute_result"
    }
   ],
   "source": [
    "from sagemaker.image_uris import retrieve\n",
    "\n",
    "image_uri = retrieve(\n",
    "    \"xgboost\", \n",
    "    region=\"us-east-1\", \n",
    "    version=\"0.90-2\"\n",
    ")\n",
    "\n",
    "image_uri"
   ]
  },
  {
   "cell_type": "markdown",
   "metadata": {},
   "source": [
    "## 4. Create Multi-model Endpoint\n",
    "This code uploads two pre-trained XGBoost models that are ready for you to deploy. If a pretrained model is in Amazon S3, it can be added by specifying the s3_key"
   ]
  },
  {
   "cell_type": "code",
   "execution_count": 41,
   "metadata": {},
   "outputs": [],
   "source": [
    "image_uri_a = image_uri\n",
    "image_uri_b = image_uri"
   ]
  },
  {
   "cell_type": "code",
   "execution_count": 42,
   "metadata": {},
   "outputs": [],
   "source": [
    "container1 = { \n",
    "    'Image': image_uri_a,\n",
    "    'ContainerHostname': 'containerA',\n",
    "    'ModelDataUrl': model_a_s3_path\n",
    "}\n",
    "\n",
    "container2 = { \n",
    "    'Image': image_uri_b,\n",
    "    'ContainerHostname': 'containerB',\n",
    "    'ModelDataUrl': model_b_s3_path\n",
    "}"
   ]
  },
  {
   "cell_type": "code",
   "execution_count": 43,
   "metadata": {},
   "outputs": [],
   "source": [
    "model_name = \"ab-testing\"\n",
    "endpoint_config_name = 'ab-testing-config'\n",
    "endpoint_name = 'ab-testing-endpoint'"
   ]
  },
  {
   "cell_type": "code",
   "execution_count": 44,
   "metadata": {},
   "outputs": [],
   "source": [
    "import boto3\n",
    "sm_client = boto3.Session().client('sagemaker')"
   ]
  },
  {
   "cell_type": "code",
   "execution_count": 45,
   "metadata": {},
   "outputs": [],
   "source": [
    "model_name_a = \"ab-model-a\"\n",
    "model_name_b = \"ab-model-b\"\n",
    "endpoint_config_name = 'ab-endpoint-config'\n",
    "endpoint_name = 'ab-endpoint'"
   ]
  },
  {
   "cell_type": "code",
   "execution_count": 46,
   "metadata": {},
   "outputs": [],
   "source": [
    "try:\n",
    "    sm_client.delete_model(ModelName=model_name_a)\n",
    "    sm_client.delete_model(ModelName=model_name_b)\n",
    "except:\n",
    "    pass"
   ]
  },
  {
   "cell_type": "code",
   "execution_count": 49,
   "metadata": {},
   "outputs": [
    {
     "name": "stdout",
     "output_type": "stream",
     "text": [
      "{'ModelArn': 'arn:aws:sagemaker:us-east-1:837860013848:model/ab-model-a', 'ResponseMetadata': {'RequestId': '7ebb8c19-887a-4aed-971a-57fa4498f15f', 'HTTPStatusCode': 200, 'HTTPHeaders': {'x-amzn-requestid': '7ebb8c19-887a-4aed-971a-57fa4498f15f', 'content-type': 'application/x-amz-json-1.1', 'content-length': '72', 'date': 'Sun, 03 Apr 2022 00:40:55 GMT'}, 'RetryAttempts': 0}}\n",
      "{'ModelArn': 'arn:aws:sagemaker:us-east-1:837860013848:model/ab-model-b', 'ResponseMetadata': {'RequestId': '9d938841-cb52-4011-8ed1-d0492a6dec22', 'HTTPStatusCode': 200, 'HTTPHeaders': {'x-amzn-requestid': '9d938841-cb52-4011-8ed1-d0492a6dec22', 'content-type': 'application/x-amz-json-1.1', 'content-length': '72', 'date': 'Sun, 03 Apr 2022 00:40:56 GMT'}, 'RetryAttempts': 1}}\n"
     ]
    }
   ],
   "source": [
    "response = sm_client.create_model(\n",
    "    ModelName        = model_name_a,\n",
    "    ExecutionRoleArn = role,\n",
    "    Containers       = [container1])\n",
    "print(response)\n",
    "\n",
    "response = sm_client.create_model(\n",
    "    ModelName        = model_name_b,\n",
    "    ExecutionRoleArn = role,\n",
    "    Containers       = [container2])\n",
    "print(response)"
   ]
  },
  {
   "cell_type": "markdown",
   "metadata": {},
   "source": [
    "## 5. Deploy Endpoint\n",
    "\n",
    "We now create two variants, each with its own different model (these could also have different instance types and counts).\n",
    "\n",
    "We set an initial_weight of “1” for both variants: this means 50% of our requests go to Variant1, and the remaining 50% of all requests to Variant2. (The sum of weights across both variants is 2 and each variant has weight assignment of 1. This implies each variant receives 1/2, or 50%, of the total traffic.)"
   ]
  },
  {
   "cell_type": "code",
   "execution_count": 50,
   "metadata": {},
   "outputs": [],
   "source": [
    "from sagemaker.session import production_variant\n",
    "\n",
    "variant1 = production_variant(\n",
    "    model_name=model_name_a,\n",
    "    instance_type=\"ml.t2.medium\",\n",
    "    initial_instance_count=1,\n",
    "    variant_name='VariantA',\n",
    "    initial_weight=0.5\n",
    ")\n",
    "                              \n",
    "variant2 = production_variant(\n",
    "    model_name=model_name_b,\n",
    "    instance_type=\"ml.t2.medium\",\n",
    "    initial_instance_count=1,\n",
    "    variant_name='VariantB',\n",
    "    initial_weight=0.5\n",
    ")"
   ]
  },
  {
   "cell_type": "code",
   "execution_count": 51,
   "metadata": {},
   "outputs": [
    {
     "name": "stderr",
     "output_type": "stream",
     "text": [
      "INFO:sagemaker:Creating endpoint with name ab-endpoint\n"
     ]
    },
    {
     "name": "stdout",
     "output_type": "stream",
     "text": [
      "---------------------!"
     ]
    },
    {
     "data": {
      "text/plain": [
       "'ab-endpoint'"
      ]
     },
     "execution_count": 51,
     "metadata": {},
     "output_type": "execute_result"
    }
   ],
   "source": [
    "session.endpoint_from_production_variants(\n",
    "    name=endpoint_name,\n",
    "    production_variants=[variant1, variant2]\n",
    ")"
   ]
  },
  {
   "cell_type": "code",
   "execution_count": 52,
   "metadata": {},
   "outputs": [],
   "source": [
    "runtime_sm_client = boto3.client('sagemaker-runtime')"
   ]
  },
  {
   "cell_type": "markdown",
   "metadata": {},
   "source": [
    "## 6. Invoke Endpoints and Results\n",
    "Data is sent to endpoint to get inferences in real time."
   ]
  },
  {
   "cell_type": "code",
   "execution_count": 69,
   "metadata": {},
   "outputs": [
    {
     "name": "stdout",
     "output_type": "stream",
     "text": [
      "....................................................................................................................................................................................VariantA - 0.0432015024125576\n"
     ]
    }
   ],
   "source": [
    "from time import sleep\n",
    "\n",
    "prediction1 = []\n",
    "def test_ab_testing_setup():\n",
    "    with open(\"tmp/test_data2.csv\", \"r\") as f:\n",
    "        for row in f:\n",
    "            print(\".\", end=\"\", flush=True)\n",
    "            payload = row.rstrip(\"\\n\")\n",
    "            response = runtime_sm_client.invoke_endpoint(EndpointName=endpoint_name, \n",
    "                                                         ContentType=\"text/csv\", Body=payload,\n",
    "                                                        TargetVariant='VariantA')\n",
    "            time.sleep(0.5)\n",
    "\n",
    "            variant = response['InvokedProductionVariant']\n",
    "            b = response['Body'].read()\n",
    "            prediction = b.decode(\"utf-8\")\n",
    "            prediction1.append(prediction)\n",
    "\n",
    "        print(variant + \" - \"+ prediction)\n",
    "\n",
    "for _ in range(0,1):\n",
    "    test_ab_testing_setup()\n",
    "    sleep(1)"
   ]
  },
  {
   "cell_type": "markdown",
   "metadata": {},
   "source": [
    "## 7. Result Interpretation\n",
    "\n",
    "Determining Metrics\n",
    "1. F1 score\n",
    "2. PR-Curve\n",
    "3. ROC-AUC curve\n",
    "\n",
    "The dataset is imbalaced however SMOTE oversampling was not applied on the data so the metric that shows the overall performance is the F1 score since it is a balance of the precision and recall. The F1 score for the critical class (class 1 which were customers that subscribed) was 0.46 for the Variant A and 0.16 for Variant B. \n",
    "\n",
    "An important chart that can be used to access the variants are precision and recall curve which makes it possible to assess the performance of a classifier on the minority class. Both the precision and the recall are focused on the positive class (the minority class) and are unconcerned with the true negatives (majority class). Hence The focus of the PR curve on the minority class makes it an effective diagnostic for imbalanced binary classification models. Here the Variant A and Variant B both did not perform well however it can be noted that Variant B seems to have a more steep slope which may indicate better performance of Variant A.\n",
    "\n",
    "The ROC-AUC curve is very effective at direct comparison between two models for performance. Although this metric is generally better suited for binary classification with balanced data it is very effective for comparison between models. in PR-curve it was not very clear which model performed better, however after looking at the ROC-AUC we see that Variant A is clearly better since Variants B slope is extremly close to the diagonal line indicating the model is finding it hard to differentiate between positive and negative class.\n",
    "\n",
    "Variant A is the best performing model from these 2 Variants. However more analysis is needed before model can be registered and deployed. Some future steps include running bayesian hyperparameter search for AWS Sagemaker to find overall best parameters for analysis. Additional data especially on for the positive class if obtainde will enhance performance. If no data can be obtained SMOTE (synthetic minority oversampling technique) should be applied with restraint to create synthetic positive samples. After these steps are taken more traffic can be routed to the better performing model for more analysis before model registration.\n"
   ]
  },
  {
   "cell_type": "code",
   "execution_count": null,
   "metadata": {},
   "outputs": [],
   "source": [
    "pred1 = list(map(float, prediction1))\n",
    "label = test['y']\n",
    "arr1 = np.asarray(pred1)"
   ]
  },
  {
   "cell_type": "code",
   "execution_count": 130,
   "metadata": {},
   "outputs": [
    {
     "name": "stdout",
     "output_type": "stream",
     "text": [
      "                precision    recall  f1-score   support\n",
      "\n",
      "not subscribed       0.92      0.97      0.94       158\n",
      "    subscribed       0.62      0.36      0.46        22\n",
      "\n",
      "      accuracy                           0.89       180\n",
      "     macro avg       0.77      0.67      0.70       180\n",
      "  weighted avg       0.88      0.89      0.88       180\n",
      "\n"
     ]
    }
   ],
   "source": [
    "from sklearn.metrics import classification_report\n",
    "target_names =['not subscribed', 'subscribed',]\n",
    "# Convert to binary predictions\n",
    "threshold = 0.5\n",
    "preds1 = np.where(arr1 > threshold, 1, 0)\n",
    "print(classification_report(label, preds1, target_names=target_names))"
   ]
  },
  {
   "cell_type": "code",
   "execution_count": 137,
   "metadata": {},
   "outputs": [
    {
     "name": "stdout",
     "output_type": "stream",
     "text": [
      "AUC is 0.666\n"
     ]
    },
    {
     "data": {
      "image/png": "[encoded data removed]",
      "text/plain": [
       "<Figure size 432x288 with 1 Axes>"
      ]
     },
     "metadata": {
      "needs_background": "light"
     },
     "output_type": "display_data"
    }
   ],
   "source": [
    "from sklearn import metrics \n",
    "import matplotlib.pyplot as plt\n",
    "auc = round(metrics.roc_auc_score(label, preds1), 4)\n",
    "print(\"AUC is \" + repr(auc))\n",
    "\n",
    "\n",
    "fpr, tpr, _ = metrics.roc_curve(label, preds1)\n",
    "\n",
    "plt.title(\"ROC Curve\")\n",
    "plt.plot(fpr, tpr, \"b\", label=\"AUC = %0.2f\" % auc)\n",
    "plt.legend(loc=\"lower right\")\n",
    "plt.plot([0, 1], [0, 1], \"r--\")\n",
    "plt.xlim([-0.1, 1.1])\n",
    "plt.ylim([-0.1, 1.1])\n",
    "plt.ylabel(\"True Positive Rate\")\n",
    "plt.xlabel(\"False Positive Rate\")\n",
    "plt.show()"
   ]
  },
  {
   "cell_type": "code",
   "execution_count": 161,
   "metadata": {},
   "outputs": [
    {
     "name": "stderr",
     "output_type": "stream",
     "text": [
      "WARNING:matplotlib.legend:No handles with labels found to put in legend.\n"
     ]
    },
    {
     "data": {
      "image/png": "[encoded data removed]",
      "text/plain": [
       "<Figure size 432x288 with 1 Axes>"
      ]
     },
     "metadata": {
      "needs_background": "light"
     },
     "output_type": "display_data"
    }
   ],
   "source": [
    "from matplotlib import pyplot\n",
    "from sklearn.metrics import precision_recall_curve\n",
    "precision, recall, _ = precision_recall_curve(label, pred1)\n",
    "\n",
    "pyplot.plot(recall, precision, marker='.')\n",
    "# axis labels\n",
    "pyplot.xlabel('Recall')\n",
    "pyplot.ylabel('Precision')\n",
    "# show the legend\n",
    "pyplot.legend()\n",
    "# show the plot\n",
    "pyplot.show()"
   ]
  },
  {
   "cell_type": "code",
   "execution_count": 127,
   "metadata": {},
   "outputs": [
    {
     "name": "stdout",
     "output_type": "stream",
     "text": [
      "....................................................................................................................................................................................VariantB - 0.02623940445482731\n"
     ]
    }
   ],
   "source": [
    "from time import sleep\n",
    "\n",
    "predictions2 = []\n",
    "def test_direct_call():\n",
    "    with open(\"tmp/test_data2.csv\", \"r\") as f:\n",
    "        for row in f:\n",
    "            print(\".\", end=\"\", flush=True)\n",
    "            payload = row.rstrip(\"\\n\")\n",
    "            response = runtime_sm_client.invoke_endpoint(EndpointName=endpoint_name, \n",
    "                                                         ContentType=\"text/csv\", Body=payload,\n",
    "                                                        TargetVariant='VariantB')\n",
    "            time.sleep(0.5)\n",
    "\n",
    "            variant = response['InvokedProductionVariant']\n",
    "            b = response['Body'].read()\n",
    "            prediction = b.decode(\"utf-8\")\n",
    "            predictions2.append(prediction)\n",
    "\n",
    "        print(variant + \" - \"+ prediction)\n",
    "\n",
    "for _ in range(0,1):\n",
    "    test_direct_call()\n",
    "    sleep(1)"
   ]
  },
  {
   "cell_type": "code",
   "execution_count": 128,
   "metadata": {},
   "outputs": [
    {
     "name": "stdout",
     "output_type": "stream",
     "text": [
      "                precision    recall  f1-score   support\n",
      "\n",
      "not subscribed       0.89      0.99      0.94       158\n",
      "    subscribed       0.67      0.09      0.16        22\n",
      "\n",
      "      accuracy                           0.88       180\n",
      "     macro avg       0.78      0.54      0.55       180\n",
      "  weighted avg       0.86      0.88      0.84       180\n",
      "\n"
     ]
    }
   ],
   "source": [
    "pred2 = list(map(float, predictions2))\n",
    "arr2 = np.asarray(pred2)\n",
    "preds2 = np.where(arr2 > threshold, 1, 0)\n",
    "print(classification_report(label, preds2, target_names=target_names))"
   ]
  },
  {
   "cell_type": "code",
   "execution_count": 138,
   "metadata": {},
   "outputs": [
    {
     "name": "stdout",
     "output_type": "stream",
     "text": [
      "AUC is 0.5423\n"
     ]
    },
    {
     "data": {
      "image/png": "[encoded data removed]",
      "text/plain": [
       "<Figure size 432x288 with 1 Axes>"
      ]
     },
     "metadata": {
      "needs_background": "light"
     },
     "output_type": "display_data"
    }
   ],
   "source": [
    "from sklearn import metrics \n",
    "import matplotlib.pyplot as plt\n",
    "auc = round(metrics.roc_auc_score(label, preds2), 4)\n",
    "print(\"AUC is \" + repr(auc))\n",
    "\n",
    "\n",
    "fpr, tpr, _ = metrics.roc_curve(label, preds2)\n",
    "\n",
    "plt.title(\"ROC Curve\")\n",
    "plt.plot(fpr, tpr, \"b\", label=\"AUC = %0.2f\" % auc)\n",
    "plt.legend(loc=\"lower right\")\n",
    "plt.plot([0, 1], [0, 1], \"r--\")\n",
    "plt.xlim([-0.1, 1.1])\n",
    "plt.ylim([-0.1, 1.1])\n",
    "plt.ylabel(\"True Positive Rate\")\n",
    "plt.xlabel(\"False Positive Rate\")\n",
    "plt.show()"
   ]
  },
  {
   "cell_type": "code",
   "execution_count": 160,
   "metadata": {},
   "outputs": [
    {
     "name": "stderr",
     "output_type": "stream",
     "text": [
      "WARNING:matplotlib.legend:No handles with labels found to put in legend.\n"
     ]
    },
    {
     "data": {
      "image/png": "[encoded data removed]",
      "text/plain": [
       "<Figure size 432x288 with 1 Axes>"
      ]
     },
     "metadata": {
      "needs_background": "light"
     },
     "output_type": "display_data"
    }
   ],
   "source": [
    "from matplotlib import pyplot\n",
    "from sklearn.metrics import precision_recall_curve\n",
    "precision, recall, _ = precision_recall_curve(label, pred2)\n",
    "\n",
    "pyplot.plot(recall, precision, marker='.')\n",
    "# axis labels\n",
    "pyplot.xlabel('Recall')\n",
    "pyplot.ylabel('Precision')\n",
    "# show the legend\n",
    "pyplot.legend()\n",
    "# show the plot\n",
    "pyplot.show()"
   ]
  },
  {
   "cell_type": "code",
   "execution_count": 139,
   "metadata": {},
   "outputs": [
    {
     "data": {
      "text/plain": [
       "{'ResponseMetadata': {'RequestId': 'ff899b8e-24e3-424c-a2a0-92539f784e7a',\n",
       "  'HTTPStatusCode': 200,\n",
       "  'HTTPHeaders': {'x-amzn-requestid': 'ff899b8e-24e3-424c-a2a0-92539f784e7a',\n",
       "   'content-type': 'application/x-amz-json-1.1',\n",
       "   'content-length': '0',\n",
       "   'date': 'Sun, 03 Apr 2022 03:10:03 GMT'},\n",
       "  'RetryAttempts': 0}}"
      ]
     },
     "execution_count": 139,
     "metadata": {},
     "output_type": "execute_result"
    }
   ],
   "source": [
    "response = sm_client.delete_endpoint(\n",
    "    EndpointName=endpoint_name\n",
    ")\n",
    "\n",
    "response"
   ]
  },
  {
   "cell_type": "code",
   "execution_count": null,
   "metadata": {},
   "outputs": [],
   "source": []
  }
 ],
 "metadata": {
  "instance_type": "ml.t3.medium",
  "kernelspec": {
   "display_name": "Python 3 (Data Science)",
   "language": "python",
   "name": "python3__SAGEMAKER_INTERNAL__arn:aws:sagemaker:us-east-1:081325390199:image/datascience-1.0"
  },
  "language_info": {
   "codemirror_mode": {
    "name": "ipython",
    "version": 3
   },
   "file_extension": ".py",
   "mimetype": "text/x-python",
   "name": "python",
   "nbconvert_exporter": "python",
   "pygments_lexer": "ipython3",
   "version": "3.7.10"
  }
 },
 "nbformat": 4,
 "nbformat_minor": 5
}
