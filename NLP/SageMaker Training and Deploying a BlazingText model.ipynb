{
 "cells": [
  {
   "cell_type": "markdown",
   "metadata": {},
   "source": [
    "# Training and Deploying a BlazingText model"
   ]
  },
  {
   "cell_type": "code",
   "execution_count": 2,
   "metadata": {},
   "outputs": [],
   "source": [
    "import sagemaker\n",
    "from sagemaker import get_execution_role\n",
    "import json\n",
    "import boto3\n",
    "session = sagemaker.Session()\n",
    "role = get_execution_role()\n",
    "region_name = boto3.Session().region_name"
   ]
  },
  {
   "cell_type": "code",
   "execution_count": 3,
   "metadata": {},
   "outputs": [],
   "source": [
    "%store -r s3_bucket\n",
    "%store -r prefix"
   ]
  },
  {
   "cell_type": "code",
   "execution_count": 4,
   "metadata": {},
   "outputs": [],
   "source": [
    "s3_train_data = 's3://{}/{}/input/{}'.format(\n",
    "    s3_bucket, \n",
    "    prefix, \n",
    "    \"synthetic.train.txt\"\n",
    ")\n",
    "s3_validation_data = 's3://{}/{}/input/{}'.format(\n",
    "    s3_bucket, \n",
    "    prefix, \n",
    "    \"synthetic.validation.txt\"\n",
    ")\n",
    "s3_output_location = 's3://{}/{}/output'.format(\n",
    "    s3_bucket, \n",
    "    prefix\n",
    ")"
   ]
  },
  {
   "cell_type": "code",
   "execution_count": 5,
   "metadata": {},
   "outputs": [],
   "source": [
    "from sagemaker.image_uris import retrieve \n",
    "\n",
    "container = retrieve(\n",
    "    \"blazingtext\", \n",
    "    region_name, \n",
    "    \"1\"\n",
    ")"
   ]
  },
  {
   "cell_type": "code",
   "execution_count": 6,
   "metadata": {},
   "outputs": [],
   "source": [
    "estimator = sagemaker.estimator.Estimator(\n",
    "    container,\n",
    "    role, \n",
    "    instance_count=1, \n",
    "    instance_type='ml.c4.xlarge',\n",
    "    input_mode= 'File',\n",
    "    output_path=s3_output_location,\n",
    "    sagemaker_session=session\n",
    ")"
   ]
  },
  {
   "cell_type": "code",
   "execution_count": 7,
   "metadata": {},
   "outputs": [],
   "source": [
    "estimator.set_hyperparameters(\n",
    "    mode=\"supervised\", \n",
    "    min_count=2\n",
    ")"
   ]
  },
  {
   "cell_type": "code",
   "execution_count": 8,
   "metadata": {},
   "outputs": [],
   "source": [
    "from sagemaker.inputs import TrainingInput\n",
    "\n",
    "train_data = TrainingInput(\n",
    "    s3_train_data, \n",
    "    distribution='FullyReplicated',   \n",
    "    content_type='text/plain', \n",
    "    s3_data_type='S3Prefix'\n",
    ")\n",
    "\n",
    "validation_data = TrainingInput(\n",
    "    s3_validation_data, \n",
    "    distribution='FullyReplicated', \n",
    "    content_type='text/plain', \n",
    "    s3_data_type='S3Prefix'\n",
    ")"
   ]
  },
  {
   "cell_type": "code",
   "execution_count": 9,
   "metadata": {},
   "outputs": [],
   "source": [
    "data_channels = {\n",
    "    'train': train_data, \n",
    "    'validation': validation_data\n",
    "}"
   ]
  },
  {
   "cell_type": "code",
   "execution_count": 10,
   "metadata": {},
   "outputs": [
    {
     "name": "stdout",
     "output_type": "stream",
     "text": [
      "2022-03-25 00:58:40 Starting - Starting the training job...ProfilerReport-1648169920: InProgress\n",
      "...\n",
      "2022-03-25 00:59:27 Starting - Preparing the instances for training......\n",
      "2022-03-25 01:00:27 Downloading - Downloading input data...\n",
      "2022-03-25 01:01:08 Training - Training image download completed. Training in progress..\u001b[34mArguments: train\u001b[0m\n",
      "\u001b[34m[03/25/2022 01:01:11 WARNING 140120604190528] Loggers have already been setup.\u001b[0m\n",
      "\u001b[34m[03/25/2022 01:01:11 WARNING 140120604190528] Loggers have already been setup.\u001b[0m\n",
      "\u001b[34m[03/25/2022 01:01:11 INFO 140120604190528] nvidia-smi took: 0.025195837020874023 secs to identify 0 gpus\u001b[0m\n",
      "\u001b[34m[03/25/2022 01:01:11 INFO 140120604190528] Running single machine CPU BlazingText training using supervised mode.\u001b[0m\n",
      "\u001b[34mNumber of CPU sockets found in instance is  1\u001b[0m\n",
      "\u001b[34m[03/25/2022 01:01:11 INFO 140120604190528] Processing /opt/ml/input/data/train/synthetic.train.txt . File size: 0.14569377899169922 MB\u001b[0m\n",
      "\u001b[34m[03/25/2022 01:01:11 INFO 140120604190528] Processing /opt/ml/input/data/validation/synthetic.validation.txt . File size: 0.0477447509765625 MB\u001b[0m\n",
      "\u001b[34mRead 0M words\u001b[0m\n",
      "\u001b[34mNumber of words:  69\u001b[0m\n",
      "\u001b[34m##### Alpha: 0.0000  Progress: 100.00%  Million Words/sec: 1.09 #####\u001b[0m\n",
      "\u001b[34m##### Alpha: 0.0000  Progress: 100.00%  Million Words/sec: 1.09 #####\u001b[0m\n",
      "\u001b[34mTraining finished.\u001b[0m\n",
      "\u001b[34mAverage throughput in Million words/sec: 1.09\u001b[0m\n",
      "\u001b[34mTotal training time in seconds: 0.10\u001b[0m\n",
      "\u001b[34m#train_accuracy: 0.9883\u001b[0m\n",
      "\u001b[34mNumber of train examples: 1200\u001b[0m\n",
      "\u001b[34m#validation_accuracy: 0.98\u001b[0m\n",
      "\u001b[34mNumber of validation examples: 400\u001b[0m\n",
      "\n",
      "2022-03-25 01:01:27 Uploading - Uploading generated training model\n",
      "2022-03-25 01:03:28 Completed - Training job completed\n",
      "Training seconds: 183\n",
      "Billable seconds: 183\n",
      "CPU times: user 566 ms, sys: 47.6 ms, total: 614 ms\n",
      "Wall time: 5min 16s\n"
     ]
    }
   ],
   "source": [
    "%%time\n",
    "estimator.fit(\n",
    "    inputs=data_channels, \n",
    "    logs=True\n",
    ")"
   ]
  },
  {
   "cell_type": "code",
   "execution_count": 11,
   "metadata": {},
   "outputs": [
    {
     "name": "stdout",
     "output_type": "stream",
     "text": [
      "------!"
     ]
    }
   ],
   "source": [
    "endpoint = estimator.deploy(\n",
    "    initial_instance_count = 1, \n",
    "    instance_type = 'ml.r5.large'\n",
    ")"
   ]
  },
  {
   "cell_type": "code",
   "execution_count": 12,
   "metadata": {},
   "outputs": [],
   "source": [
    "sentences = [\n",
    "    \"that is bad\", \n",
    "    \"the apple tastes good\", \n",
    "    \"i would recommend it to my friends\"\n",
    "]\n",
    "\n",
    "payload = {\"instances\" : sentences}"
   ]
  },
  {
   "cell_type": "code",
   "execution_count": 13,
   "metadata": {},
   "outputs": [
    {
     "name": "stdout",
     "output_type": "stream",
     "text": [
      "[\n",
      "  {\n",
      "    \"label\": [\n",
      "      \"__label__negative\"\n",
      "    ],\n",
      "    \"prob\": [\n",
      "      0.8499948382377625\n",
      "    ]\n",
      "  },\n",
      "  {\n",
      "    \"label\": [\n",
      "      \"__label__positive\"\n",
      "    ],\n",
      "    \"prob\": [\n",
      "      0.8464159369468689\n",
      "    ]\n",
      "  },\n",
      "  {\n",
      "    \"label\": [\n",
      "      \"__label__positive\"\n",
      "    ],\n",
      "    \"prob\": [\n",
      "      0.6532424092292786\n",
      "    ]\n",
      "  }\n",
      "]\n"
     ]
    }
   ],
   "source": [
    "from sagemaker.serializers import JSONSerializer\n",
    "\n",
    "endpoint.serializer = JSONSerializer()\n",
    "response = endpoint.predict(payload)\n",
    "predictions = json.loads(response)\n",
    "\n",
    "print(json.dumps(predictions, indent=2))"
   ]
  },
  {
   "cell_type": "code",
   "execution_count": 14,
   "metadata": {},
   "outputs": [
    {
     "name": "stdout",
     "output_type": "stream",
     "text": [
      "Stored 'training_job_name' (str)\n"
     ]
    }
   ],
   "source": [
    "tn = estimator.latest_training_job.name\n",
    "training_job_name = tn\n",
    "%store training_job_name"
   ]
  },
  {
   "cell_type": "code",
   "execution_count": 15,
   "metadata": {},
   "outputs": [],
   "source": [
    "endpoint.delete_endpoint()"
   ]
  },
  {
   "cell_type": "code",
   "execution_count": null,
   "metadata": {},
   "outputs": [],
   "source": []
  }
 ],
 "metadata": {
  "instance_type": "ml.t3.medium",
  "kernelspec": {
   "display_name": "Python 3 (Data Science)",
   "language": "python",
   "name": "python3__SAGEMAKER_INTERNAL__arn:aws:sagemaker:us-east-1:081325390199:image/datascience-1.0"
  },
  "language_info": {
   "codemirror_mode": {
    "name": "ipython",
    "version": 3
   },
   "file_extension": ".py",
   "mimetype": "text/x-python",
   "name": "python",
   "nbconvert_exporter": "python",
   "pygments_lexer": "ipython3",
   "version": "3.7.10"
  }
 },
 "nbformat": 4,
 "nbformat_minor": 4
}
